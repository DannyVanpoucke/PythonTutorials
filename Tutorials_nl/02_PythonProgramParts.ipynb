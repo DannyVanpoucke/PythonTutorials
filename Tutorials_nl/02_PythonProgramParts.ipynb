{
 "cells": [
  {
   "cell_type": "markdown",
   "id": "a6f7f846",
   "metadata": {},
   "source": [
    "# Gestructureerd programmeren in python #\n",
    "Welkom bij deze tutorial reeks over python voor studenten Chemie. \n",
    "\n",
    "In deze reeks tutorials maak je kennis met **python** als tool voor **data-analyse en-visualisatie**. Je leert de *basisconcepten kennen* van deze programmeertaal en doet eerste *praktische ervaring* op. Bij het opstellen van deze tutorials zijn we er van uit gegaan dat je geen praktische voorkennis in python of programmeren in het algemeen hebt. Indien dit toch het geval zou zijn, zullen de eerste notebooks uitermate eenvoudig zijn. Gezien het beperkte tijdsbestek zijn er ook keuzes gemaakt met betrekking tot de onderwerpen welke aan bod komen en hun uitdieping. Wens je meer over een bepaald onderwerp te leren dan zijn er voldoende online bronnen beschikbaar om via zelfstudie de nodige uitdieping te bekomen. \n",
    "\n",
    "Met het oog op het zo laagdrempelig mogelijk houden van deze tutorials, maken we gebruik van __*Jupyter notebooks*__ zoals deze. Het is de bedoeling dat je deze notebooks uitvoert en aanpast waar gevraagd. Dit laatste doe je op je eigen *google drive* waar je de tutorials gebruikt in de vorm van *google colaboratory* documenten. Indien je dit nog niet het geval is, lees dan eerst [00_PythonInstallatie.md](https://github.com/DannyVanpoucke/PythonTutorials/blob/main/Tutorials_nl/00_PythonInstallatie.md), waarbij je **puntje 1.1.** uitvoert.\n",
    "\n",
    "Dit is de tweede tutorial in een reeks, en bouwt verder op de reeds opgedane kennis tijdens de [eerste turorial](https://github.com/DannyVanpoucke/PythonTutorials/blob/main/Tutorials_nl/01_IntroPython.ipynb). We raden dan ook aan deze eerdere tutorial te doorlopen voor je aan deze begint.\n",
    "\n",
    "In dit tweede notebook beginnen we met het construeren van grotere stukken code met het oog op het creëren van een gestructureerd geheel. We bekijken ook het gebruik van bibliotheken en leren omgaan met fouten.\n",
    "\n",
    "## Inhoudstafel ##\n",
    "1. [Functies als programmaonderdeel](#1.-Functies-als-programmaonderdeel)<br/>\n",
    "   1.1. [Individuele functies](#1.1.-Individuele-functies)<br/>\n",
    "   1.2. [Functieresultaten](#1.2.-Functieresultaten)<br/>\n",
    "   1.3. [Methods: functies in een klasse (basis)](#Methods:-functies-in-een-klasse)<br/>\n",
    "   1.4. [Workflow in een notebook]()<br/>\n",
    "2. [Basis bibliotheken](#2.-Basis-bibliotheken)<br/>\n",
    "   2.1. [Numpy](#2.1.-Numpy)<br/>\n",
    "   2.2. [helpfunctie](#2.2.-Helpfunctie)<br/>\n",
    "   2.3. [Random en Math](#2.3.-Random-&-Math)<br/>\n",
    "   2.4. [Plotten met Matplotlib](#2.4.-Plotten-met-Matplotlib)<br/>"
   ]
  },
  {
   "cell_type": "markdown",
   "id": "14adbed7",
   "metadata": {},
   "source": [
    "# 1. Functies als programmaonderdeel #\n",
    "\n",
    "In de [voorgaande tutorial](https://github.com/DannyVanpoucke/PythonTutorials/blob/main/Tutorials_nl/01_IntroPython.ipynb) maakten leerde je de basisaspecten van het programmeren in python. Je weet intussen wat een variabele is en hoe je operaties tussen variabelen uitvoert. Je leerde ook dat er controlestructuren bestaan zoals *for*-lussen en *if-else*-constructies. Je zou nu telkens opnieuw dezelfde code kunnen intypen, elke keer als je een vergelijkbare opdracht of bewerking wenst uit te voeren. Dit is echter dubbel werk. \n",
    "\n",
    "## 1.1. Individuele functies ##\n",
    "In programmeertalen zoals python is het daarom mogelijk om **herbruikbare stukken code** te groeperen in wat een ***functie*** wordt genoemd. In het voorgaande maakt je reeds kennis met enkele ingebouwde functies van python zelf: ``print``, ``type`` en ``range``. Het is echter ook mogelijk om zelf een functie te creëren. De verschillende aspecten van een functie zullen we bekijken aan de hand van een eenvoudige functie welke twee getallen bij elkaar dient op te tellen."
   ]
  },
  {
   "cell_type": "code",
   "execution_count": null,
   "id": "9a703882",
   "metadata": {
    "ExecuteTime": {
     "end_time": "2023-01-27T16:15:57.098322Z",
     "start_time": "2023-01-27T16:15:57.086503Z"
    }
   },
   "outputs": [],
   "source": [
    "def telop(arg1,arg2):\n",
    "    # Net zoals bij een controlestructuur dienen we hier een inspringing te gebruiken om aan te geven dat \n",
    "    # het codeblok samenhoort.\n",
    "    resultaat = arg1 + arg2\n",
    "    return resultaat"
   ]
  },
  {
   "cell_type": "markdown",
   "id": "5d888620",
   "metadata": {},
   "source": [
    "Merk eerst en vooral op dat bij het uitvoeren van de bovenstaande cel *niets gebeurt*. Inderdaad, er wordt geen berekening uitgevoerd, dus dient er geen resultaat weergegeven te worden.\n",
    "\n",
    "Het keyword ``def`` geeft aan dat dit een functiedefinitie is. De naam van de functie is *telop*, en deze functie heeft twee argumenten (*arg1* en *arg2*) nodig. Binnen het codeblok van de functie zijn dit variabelen waarmee gewerkt kan worden. De tekst voorafgegaan door het ``#``-symbool is kommentaar, en wordt als dusdanig niet gelezen door de computer. Binnen in het codeblok, dat we laten inspringen, definiëren we een nieuwe variabele resultaat, welke we gelijk stellen aan de som van de twee argumenten. **De drie variabelen bestaan enkel *lokaal* binnen het codeblok.** Indien je een print opdracht buiten het codeblok deze variabelen wil laten uitschrijven gaat het mis.(*Probeer dit in de bovenstaande cel. Vergeet niet dat de printopdracht niet mag inspringen, anders wordt deze een deel van het codeblok van de functie.*)\n",
    "\n",
    "Hoewel het codeblok in dit geval maar twee regels beslaat, staat er geen grens op de lengte van een functie, noch op de inhoud. Alles wat toegelaten code is binnen een normaal programma kan ook in het codeblok van een functie voorkomen.\n",
    "\n",
    "Het resultaat van de som wordt teruggegeven met behulp van het ``return`` keyword. Indien een functie een opdracht of bewerking uitvoert waarbij het niet nodig is dat er een resultaat wordt teruggegeven, dan zal er geen return-regel aanwezig zijn.\n",
    "\n",
    "*De bovenstaande functie kan nu zo vaak aangeroepen worden als we maar willen. Dit kan op verschillende manieren.*\n",
    "1.  **Zonder toekenning van het resultaat.**"
   ]
  },
  {
   "cell_type": "code",
   "execution_count": null,
   "id": "f044c41c",
   "metadata": {
    "ExecuteTime": {
     "end_time": "2023-01-27T16:16:06.495683Z",
     "start_time": "2023-01-27T16:16:06.481718Z"
    }
   },
   "outputs": [],
   "source": [
    "# Indien dit de laatste opdracht van een cel is zal het resultaat naar de output worden geschreven. \n",
    "#   (Of als je alle output laat uitschrijven, zoals gezien in de eerste tutorial, kan dat ook indien meerdere zaken \n",
    "#    naar de output worden gezonden.)\n",
    "telop(10,5)    "
   ]
  },
  {
   "cell_type": "markdown",
   "id": "d74353df",
   "metadata": {},
   "source": [
    "2. **Met toekenning van het resultaat.**"
   ]
  },
  {
   "cell_type": "code",
   "execution_count": null,
   "id": "e82789cc",
   "metadata": {
    "ExecuteTime": {
     "end_time": "2023-01-27T16:19:39.434994Z",
     "start_time": "2023-01-27T16:19:39.426998Z"
    }
   },
   "outputs": [],
   "source": [
    "som=telop(10,5)\n",
    "print(\"De som is \",som)"
   ]
  },
  {
   "cell_type": "markdown",
   "id": "d1e18b7a",
   "metadata": {},
   "source": [
    "3. **Met variabelen als argumenten**"
   ]
  },
  {
   "cell_type": "code",
   "execution_count": null,
   "id": "50ea979e",
   "metadata": {
    "ExecuteTime": {
     "end_time": "2023-01-27T16:23:16.544348Z",
     "start_time": "2023-01-27T16:23:16.536370Z"
    }
   },
   "outputs": [],
   "source": [
    "var1=5\n",
    "var2=3\n",
    "print(\"Beide variabelen ->\",telop(var1,var2))\n",
    "print(\"Combinate met 1 variabele ->\",telop(var1,7),\" of \",telop(3.14,var1))\n",
    "som=telop(var1,var2)\n",
    "print(\"Beide variabelen & toekenning ->\",som)"
   ]
  },
  {
   "cell_type": "markdown",
   "id": "936231ec",
   "metadata": {},
   "source": [
    "4. **Met onverwachte argumenten**"
   ]
  },
  {
   "cell_type": "code",
   "execution_count": null,
   "id": "ff00d4a3",
   "metadata": {
    "ExecuteTime": {
     "end_time": "2023-01-27T16:25:23.734010Z",
     "start_time": "2023-01-27T16:25:23.726064Z"
    }
   },
   "outputs": [],
   "source": [
    "var1=[1,2,3]\n",
    "var2=[66,5,9]\n",
    "print(\"Beide variabelen lijsten->\",telop(var1,var2))\n",
    "\n",
    "var1=\"Hello \"\n",
    "var2=\"World!\"\n",
    "print(\"Beide variabelen strings->\",telop(var1,var2))"
   ]
  },
  {
   "cell_type": "markdown",
   "id": "d4cd7ea7",
   "metadata": {},
   "source": [
    "Dit was niet helemaal de originele bedoeling. De functie welke we voor ogen hadden was gericht op het optellen van getallen. In tegenstelling tot vele andere programmeertalen dient **in python de functiedefinitie niet expliciet aan te geven wat het datatype van de argumenten is**. Python maakt gebruik van zogenaamd **ducktyping**, hierbij is het type object niet van belang, wel of het bepaalde functies of eigenschappen heeft. In het bovenstaande geval betekent dit dat alle soorten objecten waarvoor de ``+``-operator een zinvolle betekenis heeft (en geïmplementeerd is), een resultaat zal opleveren. We kunnen met onze eenvoudige functie dus ook strings en lijsten samenvoegen. \n",
    "\n",
    "Dit is een zeer krachtig aspect van python, maar kan het leven van de programmeur ook flink lastig maken, gezien de taak nu op hem/haar valt om ervoor te zorgen dat de functie veilig kan omgaan met wat de gebruiker als input aanlevert, ook als is dat totaal onredelijk. Bij het vervolg van deze tutorials zullen we er echter steeds van uitgaan dat we niet te maken hebben met onredelijke gebruikers, en laten we het beveiligen van functies tegen onzinnige input als gevorderd onderwerp voor verdere zelfstudie."
   ]
  },
  {
   "cell_type": "markdown",
   "id": "dc05bdb8",
   "metadata": {},
   "source": [
    "## 1.2. Functieresultaten ##\n",
    "Het resultaat van de functie *telop* wordt teruggegeven met behulp van het ``return``-keyword (zie hieronder).\n",
    "\n",
    "```python\n",
    "def telop(arg1,arg2):\n",
    "    resultaat = arg1 + arg2\n",
    "    return resultaat\n",
    "```\n",
    "Als gevolg van het **ducktyping** van python zal het datatype van *resultaat* hetzelfde zijn als van de argumenten *arg1* en *arg2*. Het resultaat dat door de functie wordt teruggegeven kan direct gebruikt worden (*e.g.* in een ``print`` functie) of toegekend aan een andere variabele (*e.g.* ``som = telop(1,2)``).\n",
    "\n",
    "In python is het ook mogelijk meerdere resultaten terug te geven met een functie. Een voorbeeld wordt hieronder gegeven.\n",
    "```python\n",
    "def bewerk(arg1,arg2):\n",
    "    res_som = arg1 + arg2\n",
    "    res_verschil = arg1 - arg2\n",
    "    return res_som, res_verschil \n",
    "```\n",
    "Deze resultaten kunnen opnieuw aan een nieuwe variable toegekend worden. Het datatype is dan echter niet meer dat van de invoerargumenten. "
   ]
  },
  {
   "cell_type": "code",
   "execution_count": null,
   "id": "a2d5e160",
   "metadata": {
    "ExecuteTime": {
     "end_time": "2023-01-30T09:27:54.926358Z",
     "start_time": "2023-01-30T09:27:54.916389Z"
    }
   },
   "outputs": [],
   "source": [
    "def bewerk(arg1,arg2):\n",
    "    res_som = arg1 + arg2\n",
    "    res_verschil = arg1 - arg2\n",
    "    return res_som, res_verschil \n",
    "\n",
    "res = bewerk(5,3)\n",
    "print(\"Het datatype van res is \",type(res))"
   ]
  },
  {
   "cell_type": "markdown",
   "id": "2566c520",
   "metadata": {},
   "source": [
    "---\n",
    "Het **tuple** datatype is één van de vier ingebouwde datatypes in python welke een ***collectie*** van data kan bevatten. Deze verschillen in het feit of ze geordend en veranderlijk zijn, en of ze dubbele waarden toelaten.\n",
    "\n",
    "- **geordend**: de elementen van de collectie komen in een vaste volgorde voor. Je kan element met een index opzoeken.\n",
    "- **veranderlijk**: de elementen vann de collectie en de collectie kunnen aangepast worden zonder dat hiervoor een nieuw object wordt gecreëerd.\n",
    "- **duplicaten**: meerdere elementen kunnen dezelfde waarde hebben.\n",
    "\n",
    "\n",
    "| type | geordend | veranderlijk | duplicaten | weergave | voorbeeld |\n",
    "|------|:--------:|:------------:|:----------:|:--------:|:----------|\n",
    "| list |  Y | Y | Y | ``[ ]``  | ``lijst=[12.5, 77, 3.14]``   |\n",
    "| tuple |  Y  | N  | Y | ``( )`` | ``tup=(12.5, 77, 3.14)``  |\n",
    "| set |  N  | N<sup>+</sup>  | N | ``{ }`` | ``set={'banaan', 'appel', 'peer'}``   |\n",
    "| dict | Y<sup>*</sup>  |  Y | N | ``{ }`` | ``wboek={ \"merk\":\"asus\", \"type\":\"RoG\", \"prijs\": 1699.99}``  |\n",
    "\n",
    "( <sup>+</sup> De elementen in een set kun je niet veranderen, maar je kan wel elementen toevoegen en verwijderen.<br/>\n",
    "  &nbsp;<sup>*</sup> Woordenboeken waren ongeordend, maar sinds python 3.7 zijn deze ook geordend)\n",
    "\n",
    "---\n",
    "De variabele *res* is dus een **tuple** welke de twee resultaten van de functie ``bewerk`` bevat. Deze kunnen individueel of als tuple uitgeschreven worden. Om de individuele elementen te gebruiken, kan gebruik worden gemaakt van de index van het gewenste element, ***waarbij het belangrijk is te onthouden dat python bij 0 begint te tellen***."
   ]
  },
  {
   "cell_type": "code",
   "execution_count": null,
   "id": "32217465",
   "metadata": {
    "ExecuteTime": {
     "end_time": "2023-01-30T10:04:24.573978Z",
     "start_time": "2023-01-30T10:04:24.560973Z"
    }
   },
   "outputs": [],
   "source": [
    "print(\"De resultaten als tuple zien er als volgt uit:\", res,\".\")\n",
    "print(\"Het resultaat van de eerste bewerking (som) is \",res[0],\".\")\n",
    "print(\"Het resultaat van de tweede bewerking (verschil) is \",res[1],\".\")"
   ]
  },
  {
   "cell_type": "markdown",
   "id": "eaf7645c",
   "metadata": {},
   "source": [
    "In het geval dat het resultaat van een functie een tuple is kan de toekenning ook gebeuren aan een set van variabelen. Let wel op dat het aantal variabelen exact hetzelfde dient te zijn als het aantal elementen in het tuple."
   ]
  },
  {
   "cell_type": "code",
   "execution_count": null,
   "id": "1a56ea32",
   "metadata": {
    "ExecuteTime": {
     "end_time": "2023-01-30T10:07:40.870183Z",
     "start_time": "2023-01-30T10:07:40.854225Z"
    }
   },
   "outputs": [],
   "source": [
    "som, verschil = bewerk(88,12.99)\n",
    "print(\"De som is \",som,\".\")\n",
    "print(\"Het verschil is \",verschil,\".\")"
   ]
  },
  {
   "cell_type": "markdown",
   "id": "592c0f0c",
   "metadata": {},
   "source": [
    "**_Doe-opdracht:_**<br/>\n",
    "1. Stel zelf een functie op welke het product ($x\\times y$), quotient ($\\frac{x}{y}$) en de macht ($x^y$) van twee getallen bepaald.\n",
    "2. Voer deze functie uit met volgende input: $x=8, y=2$.\n",
    "   1. Schrijf het resultaat rechtstreeks uit door je functie in een print functie uit te voeren.\n",
    "   2. Ken je resultaat toe aan een tuple, en schrijf de drie individuele elementen uit.\n",
    "   3. Ken je resultaat toe aan drie variabelen en schrijf deze uit."
   ]
  },
  {
   "cell_type": "code",
   "execution_count": null,
   "id": "18e13063",
   "metadata": {
    "ExecuteTime": {
     "end_time": "2023-01-30T10:17:12.703607Z",
     "start_time": "2023-01-30T10:17:12.696593Z"
    }
   },
   "outputs": [],
   "source": [
    "#Hier komt de functie\n",
    "\n",
    "\n"
   ]
  },
  {
   "cell_type": "code",
   "execution_count": null,
   "id": "a8e785cb",
   "metadata": {
    "ExecuteTime": {
     "end_time": "2023-01-30T10:17:52.024641Z",
     "start_time": "2023-01-30T10:17:52.010642Z"
    }
   },
   "outputs": [],
   "source": [
    "#Hier gebruik je de functie en schrijf je resultaten uit\n",
    "\n",
    "\n",
    "\n",
    "\n"
   ]
  },
  {
   "cell_type": "markdown",
   "id": "77624bb9",
   "metadata": {},
   "source": [
    "## Methods: functies in een klasse ##\n",
    "\n",
    "Python is een **object georiënteerde programmeertaal**, wat betekent dat **objecten** een centrale rol spelen. Een object is *realisatie* van een klasse, of simpelweg, als je een klasse ziet als een complex datatype, dan is een object een ingevulde variabele van dat datatype. *De klasse kun je beschouwen als de definitie*. Beschouw het volgende eenvoudige voorbeeld van een python-klasse:\n",
    "```python\n",
    "class Atom()\n",
    "    \"\"\"\n",
    "    Een simpel voorbeeld van een klasse met enkele attributen:\n",
    "       - Z : Atoomnummer (int)\n",
    "       - m : massa (float)\n",
    "       - x,y,z: coördinaten van het atoom (float)\n",
    "       - symbol: chemisch symbool (string) \n",
    "    \"\"\"\n",
    "    def __init__(self, Z, m, EN, symbol):\n",
    "        ...In deze functie worden de attributen van het object geïnitialiseerd...\n",
    "        \n",
    "    def getZ(self):\n",
    "        \"\"\"\n",
    "        Functie welke het atoomnummer van het atoom geeft.\n",
    "        \"\"\"\n",
    "        return self.Z\n",
    "    \n",
    "    def move(self, dx,dy,dz):\n",
    "        \"\"\"\n",
    "        Functie welke, de coördinaten van het atoom aanpast.\n",
    "        \"\"\"\n",
    "        self.x = self.x+dx\n",
    "        self.y = self.y+dy\n",
    "        self.z = self.z+dz\n",
    "        \n",
    "    ...\n",
    "```\n",
    "\n",
    "dan bevat onze klasse enkele **attributen**, dit zijn variabelen welke iets zeggen over het object, en functies, in dit geval de ``__init__`` en ``getZ`` functies. Om de attributen of functies van een object (*e.g.* stel dat Hatoom kan een object(=variabele) van de klasse Atom is) aan te roepen wordt er gebruik gemaakt van de ``.``-notatie.\n",
    "- Het chemisch symbool kan worden uitgeschreven door het attribuut symbol uit te schrijven: ``print(\"Atoomtype: \",Hatom.symbol)``\n",
    "- Het atoom kan 10 Angstrom in de x-richting verplaatst worden met de ``move``-functie door: ``Hatom.move(10.0, 0.0, 0.0)``\n",
    "\n",
    "Zoals je ziet is dit zeer gelijklopend met wat we voorheen gebruikten. Het hoofdzakelijke verschil zit in het feit dat de attributen en functies een onderdeel van een object zijn en met puntnotatie worden aangeroepen.\n",
    "\n",
    "In deze tutorial zagen we hier reeds eerder een voorbeeld van toen een string in hoofdletters werd uitgeschreven. Inderdaad, in python is een string een klasse welke verschillende methoden (=functies) bevat. Een lijst van deze methoden vond je bevoorbeeld [hier](https://www.w3schools.com/python/python_ref_string.asp). De meeste van deze zal je zelden gebruiken, de volgende daarentegen zal je snel ontdekken, kunnen zeer handige tools zijn: ``count, find, join, replace, strip, split``. Het interessante hierbij is dat deze functies vaak een string als resultaat teruggeven zodat je verschillende opperaties kan combineren."
   ]
  },
  {
   "cell_type": "code",
   "execution_count": null,
   "id": "0d36ac3f",
   "metadata": {
    "ExecuteTime": {
     "end_time": "2023-01-30T12:20:46.484855Z",
     "start_time": "2023-01-30T12:20:46.471246Z"
    }
   },
   "outputs": [],
   "source": [
    "LS = [\"Hello\",\"World!\",\"This\",\"Is\",\"Me.\"]\n",
    "s1 = \" \" #een string met 1 spatie\n",
    "s1.join(LS).lower().replace(\"!\",\",\").capitalize()"
   ]
  },
  {
   "cell_type": "markdown",
   "id": "42c2a3f8",
   "metadata": {},
   "source": [
    "**_Doe-opdracht:_**<br/>\n",
    "1. Waarom is s1 een string met 1 spatie in bovenstaande code? Wat gebeurt er als je deze spatie verwijdert of vervangt door een ander karakter, of zelfs een stukje tekst.\n",
    "2. Ga voor de verschillende functies na wat ze met de string doen, en begrijp hoe je aan het eindresultaat komt.\n",
    "3. Pas de code aan om de string op te splitsen in aparte woorden."
   ]
  },
  {
   "cell_type": "markdown",
   "id": "9b37eddb",
   "metadata": {},
   "source": [
    "---\n",
    "Binnen deze tutorials gaan we niet dieper in op het creëren van klassen en objecten, dit is materiaal voor meer geavanceerde tutorials. Hier is het enkel van belang te weten wat een klasse/object is, wat de puntnotatie inhoudt en hoe functies in objecten ingebed kunnen zijn. Dit laatste is vooral van belang bij het latere gebruik van bibliotheken. Het staat de geïntereseerde lezer natuurlijk vrij om zichzelf verder in dit onderwerp te verdiepen. Handige bronnen zijn [de python docs](https://docs.python.org/3/tutorial/classes.html), [w3schools](https://www.w3schools.com/python/python_classes.asp), ..."
   ]
  },
  {
   "cell_type": "markdown",
   "id": "c38fcd04",
   "metadata": {},
   "source": [
    "## 1.4. Workflow in een Notebook ##\n",
    "\n",
    "In een programma of script, worden de regels met commando's uitgevoerd in de volgorde dat deze opgeschreven staan. Door gebruik te maken van functies, wordt deze volgorde aangepast. Het programma verspringt dan naar naar de codeblock met commando's in de functie om daarna verder te gaan met de commandoregels van het script. Dit geeft een eerste vorm van niet-lineariteit aan programmeren, en het volgen van de processflow kan vrij complex worden door het heen en weer springen tussen functies.\n",
    "\n",
    "Wanneer we gebruik maken van een notebook zoals deze is er nog een aspect dat niet over het hoofd mag worden gezien: **de uitvoervolgorde van de cellen**. In een notebook dien je het uitvoeren van de cellen te zien als het achter elkaar plakken van stukken code in de volgorde dat je de cellen uitvoert. Dit kan soms ongewenste resultaten met zich meebrengen indien je cellen meerdere keren uitvoert, of niet in de volgorde zoals ze in het notebook staan. De wortel van het probleem bevind zich in het hergebruik van variabelen. Variabelen zullen immers de waarde hebben welke ze bekomen hebben als gevolg van de uitvoervolgorde in het notebook. De cellen hieronder geven een vereenvoudigd voorbeeld om te tonen wat er aan de hand is. In praktische gevallen is het vaak veel moeilijker te zien of een dergelijke situatie zich voordoet.\n",
    "\n"
   ]
  },
  {
   "cell_type": "code",
   "execution_count": null,
   "id": "11c2267f",
   "metadata": {
    "ExecuteTime": {
     "end_time": "2023-01-30T12:51:23.053811Z",
     "start_time": "2023-01-30T12:51:23.031481Z"
    }
   },
   "outputs": [],
   "source": [
    "Myvar = \"Dit is een variabele welke we zullen manipuleren\""
   ]
  },
  {
   "cell_type": "code",
   "execution_count": null,
   "id": "66477e11",
   "metadata": {
    "ExecuteTime": {
     "end_time": "2023-01-30T12:54:12.746464Z",
     "start_time": "2023-01-30T12:54:12.392340Z"
    }
   },
   "outputs": [],
   "source": [
    "Myvar = Myvar+\" door er iets aan toe te voegen.\"\n",
    "print(Myvar)"
   ]
  },
  {
   "cell_type": "code",
   "execution_count": null,
   "id": "5a55d4dd",
   "metadata": {
    "ExecuteTime": {
     "end_time": "2023-01-30T12:52:57.964516Z",
     "start_time": "2023-01-30T12:52:57.956537Z"
    }
   },
   "outputs": [],
   "source": [
    "Myvar = \"VERRASSING!!\"\n",
    "#voer na deze cel de cel hierboven terug uit"
   ]
  },
  {
   "cell_type": "code",
   "execution_count": null,
   "id": "e8024dda",
   "metadata": {
    "ExecuteTime": {
     "end_time": "2023-01-30T12:54:09.558533Z",
     "start_time": "2023-01-30T12:54:09.544572Z"
    }
   },
   "outputs": [],
   "source": [
    "Myvar = 77\n",
    "# Gezien datatypes niet vastliggen mag dit. Dit is geen abnormale situatie, \n",
    "# soms wil je een variabele met een ander doel hergebruiken.\n",
    "#Voer na deze cel de cel twee cellen hierboven nogmaals uit/"
   ]
  },
  {
   "cell_type": "markdown",
   "id": "8149eaaa",
   "metadata": {},
   "source": [
    "Zoals je hierboven hebt kunnen ervaren kan dit voor verrassingen zorgen welke misschien niet direct opvallen, of voor onverwachtte crashes van je script zorgen. Let dus telkens goed op, op de volgorde van de cellen. En wanneer je een variabele hergebruikt, zorg er dan zeker voor dat je deze initialiseert (*i.e.* een startwaarde geeft) zodat deze niet per ongeluk een waarde van een voorgaande run bevat of van een totaal andere toepassing in een andere cel. **Merk op:** variabelen welke in een codeblok van een **functie** worden gedefinieerd zijn enkel daar beschikaar (zoals eerder gezien), en vallen hier buiten. Anderszijds is het good practice niet dezelfde variabele namen binnen en buiten een functie te gebruiken in eenzelfde omgeving om verwarring te vermijden."
   ]
  },
  {
   "cell_type": "markdown",
   "id": "b8ece43d",
   "metadata": {},
   "source": [
    "# 2. Basis bibliotheken #\n",
    "\n",
    "Bij het programmeren, zeker in talen zoals python, is het de bedoeling het wiel niet telkens opnieuw uit te vinden. Nuttige functies zijn in tal van bibliotheken te vinden, en misschien schrijf jij ooit zelf je eigen bibliotheek (gericht op een specifieke analyse centraal in je onderzoek) en deel je deze onderzoekers in je vakgebied.\n",
    "\n",
    "Je zal merken dat binnen het python ecosysteem er meestal meerdere manieren zijn om dezelfde taak uit te voeren. Welke het beste geschikt is voor jou doeleinden hangt van verschillende aspecten af. Dit kan gaan over efficiëntie, maar ook over compatibiliteit met de rest van je script, of gewoon eigen ervaring met de bibliotheek in kwestie. Om enkele interessante zaken uit te kunnen voeren met een bibliotheek zullen we eerst een databestand inlezen. Dit bestand is een csv-file waarin kwantummechanisch berekende energiën en vollumes te vinden zijn voor kristallijn lactosemonohydraat. Dit is een melksuiker dat in de voedings en geneesmiddelenindustrie uitgebreid gebruikt wordt. Het bestand is te vinden in de datamap van dit github repo: [https://github.com/DannyVanpoucke/PythonTutorials/blob/main/data/LMH_2H2O_EVdata.csv](https://github.com/DannyVanpoucke/PythonTutorials/blob/main/data/LMH_2H2O_EVdata.csv)\n",
    "\n",
    "Er zijn verschillende manieren waarop dit bestand ingelezen kan worden. Hier zullen we gebruik maken van de mogelijkheden van de numpy bibliotheek."
   ]
  },
  {
   "cell_type": "markdown",
   "id": "32381992",
   "metadata": {},
   "source": [
    "## 2.1. Numpy ##\n",
    "\n",
    "De **[Numpy](https://numpy.org/)** bibliotheek is een breed gebruikte bibiotheek waar je wiskundige tools vindt, onder andere om met multi-dimensionele matrices te werken. Deze bibliotheek is een zodanig basisonderdeel van het wetenschappelijk python ecosysteem dat code voorbeelden vaak impliciet aannemen dat iedereen **np** herkent (en erkent) als standaard verwijzing naar de numpy bibliotheek. Hoewel een bibiotheek klassen kan bevatten, is de opmaak en het gebruik van functies in een bibliotheek vergelijkbaar aan deze van een klasse: de puntnotatie.\n",
    "\n",
    "### <u>Inlezen csv-bestand als matrix</u> ###\n",
    "\n",
    "Het inlezen van een tekstbestand met numpy gebeurt via de **[genfromtxt](https://numpy.org/doc/stable/reference/generated/numpy.genfromtxt.html)** functie. Twee manieren om deze functie te gebruiken in je eigenscript zijn \n",
    "1. Expliciet importeren van de functie uit de numpy bibliotheek\n",
    "```python\n",
    "   from numpy import genfromtxt\n",
    "   dataset = genfromtxt('databestand.csv', delimiter=',')\n",
    "```\n",
    "De eerste regel geeft hierbij aan de we uit de *numpy*-bibliotheek de *genfromtxt*-functie willen importeren.  Vanaf dit punt is deze functie bekend, net zoals je eigen gedefinieerde functies. Op de tweede regel stellen we de variabele *dataset* gelijk aan het resultaat uit het ingelezen bestand, waarbij we hebben aangegeven dat onze waarden met een komma gescheiden zijn.\n",
    "2. Gebruik als functie van de bibliotheek\n",
    "```python\n",
    "   import numpy as np\n",
    "   dataset = np.genfromtxt('databestand.csv', delimiter=',')\n",
    "```\n",
    "In dit tweede geval wordt de bibliotheek ingeladen onder aan pseudoniem-naam (**np**) en wordt de functie aangeroepen als onderdeel van deze bibliotheek. Het deel ``as np`` op de eerste regel had weggelaten kunnen worden. In dat geval zou op de tweede regel ``dataset = numpy.genfromtxt('databestand.csv', delimiter=',')`` moeten staan. De keuze om een pseudoniem-naam te gebruiken om minder typewerk te moeten verrichten."
   ]
  },
  {
   "cell_type": "code",
   "execution_count": 9,
   "id": "e7ad5038",
   "metadata": {
    "ExecuteTime": {
     "end_time": "2023-02-01T14:48:32.924258Z",
     "start_time": "2023-02-01T14:48:32.613905Z"
    }
   },
   "outputs": [
    {
     "name": "stdout",
     "output_type": "stream",
     "text": [
      "[[-563.69135    -557.54143331  728.                   nan]\n",
      " [-563.72001    -557.61339374  733.                   nan]\n",
      " [-563.7436     -557.68012593  738.                   nan]\n",
      " [-563.76333    -557.74773141  743.63915              nan]\n",
      " [-563.77521    -557.79619072  748.                   nan]\n",
      " [-563.78401    -557.84630185  753.                   nan]\n",
      " [-563.78869    -557.89162391  758.                   nan]\n",
      " [-563.79039    -557.93327363  763.                   nan]\n",
      " [-563.78724    -557.96951666  768.                   nan]\n",
      " [-563.78155    -558.00260931  773.                   nan]\n",
      " [-563.77118    -558.03043521  778.                   nan]\n",
      " [-563.75714    -558.05410002  783.                   nan]\n",
      " [-563.74191    -558.07588841  788.                   nan]]\n"
     ]
    }
   ],
   "source": [
    "from numpy import genfromtxt\n",
    "\n",
    "#dataset = genfromtxt('https://github.com/DannyVanpoucke/PythonTutorials/blob/main/data/LMH_2H2O_EVdata.csv', delimiter=',')\n",
    "dataset = genfromtxt('../data/LMH_2H2O_EVdata.csv', delimiter=',')\n",
    "print(dataset)"
   ]
  },
  {
   "cell_type": "markdown",
   "id": "38883702",
   "metadata": {},
   "source": [
    "In het csv-bestand zijn 4 kolomen terug te vinden. De eerste bevat de totale energie (in eV) met van der Waals correctie, de tweede zonder van der Waals correctie, de derde kolom bevat de volumes (in &Aring;$^3$), en de vierde kolom bevat externe druk in kilobar. De ingelezen 2D matrix geeft mooi de data weer uit het bestand. Er is echter iets vreemd aan de hand met de vierde kolom. Bekijk het [csv-bestand](https://github.com/DannyVanpoucke/PythonTutorials/blob/main/data/LMH_2H2O_EVdata.csv) rechtstreeks, en probeer in te zien wat het probleem is voor je verder leest.\n",
    "\n",
    "Zoals je online kan zien, bevat de vierde kolom steeds een waarde gevolgd door *kB*. Numpy is gericht op numerieke data. Python daarentegen zal, gezien deze kolom zowel cijfers als letters bevat, dit automatisch als string herkennen. De omzetting naar een getal loopt mis, waardoor numpy **nan** (*Not a Number*) als resultaat weergeeft. We zullen later zien hoe je deze data toch kan inladen als tabel met behulp van de ***pandas*** bibliotheek.\n",
    "\n",
    "### <u>Slices: stukjes matrices </u> ###\n",
    "\n",
    "\n",
    "De data uit het CSV bestand bevindt zich nu in een 2D matrix. De dimensies van deze matrix vinden we door gebruik te maken van het ``shape``-attribuut, wat een tuple met het aantal elementen voor elke dimensie weergeeft. "
   ]
  },
  {
   "cell_type": "code",
   "execution_count": 10,
   "id": "113bcf9e",
   "metadata": {
    "ExecuteTime": {
     "end_time": "2023-02-01T14:48:37.083795Z",
     "start_time": "2023-02-01T14:48:37.076780Z"
    }
   },
   "outputs": [
    {
     "data": {
      "text/plain": [
       "(13, 4)"
      ]
     },
     "execution_count": 10,
     "metadata": {},
     "output_type": "execute_result"
    }
   ],
   "source": [
    "dataset.shape"
   ]
  },
  {
   "cell_type": "markdown",
   "id": "30e8bba8",
   "metadata": {},
   "source": [
    "Dit toont dat er 13 rijen met 4 kolomen aanwezig zijn. De eerste index van de numpy matrix kan dus waarden van 0 tot en met 12 aannemen, terwijl de tweede waarden van 0 tot en met 3 kan aannemen. Stukken (of **slices**) van een matrix kunnen afgebakend worden in dezelfde indexnotatie."
   ]
  },
  {
   "cell_type": "code",
   "execution_count": 11,
   "id": "f42f71d7",
   "metadata": {
    "ExecuteTime": {
     "end_time": "2023-02-01T14:48:39.381408Z",
     "start_time": "2023-02-01T14:48:39.367414Z"
    }
   },
   "outputs": [
    {
     "name": "stdout",
     "output_type": "stream",
     "text": [
      "Het eerste element van de eerste rij:  -563.69135\n",
      "De eerste rij                       :  [-563.69135    -557.54143331  728.                   nan]\n",
      "De eerste kolom                     :  [-563.69135 -563.72001 -563.7436  -563.76333 -563.77521 -563.78401\n",
      " -563.78869 -563.79039 -563.78724 -563.78155 -563.77118 -563.75714\n",
      " -563.74191]\n"
     ]
    }
   ],
   "source": [
    "print(\"Het eerste element van de eerste rij: \",dataset[0,0])\n",
    "print(\"De eerste rij                       : \",dataset[0])\n",
    "print(\"De eerste kolom                     : \",dataset[:,0])"
   ]
  },
  {
   "cell_type": "markdown",
   "id": "8aa3c70c",
   "metadata": {},
   "source": [
    "Kijk je terug naar de output van de volledige matrix, dan merk je op dat elke rij weergegeven wordt als één lijst (een set elementen tussen ``[ ]``). Elke rij is dus zelf één element in een lijst met rijen (de buitenste set van ``[ ]``). Het weergeven van de eerste rij is dus niet anders dan het weergeven van het eerste element in deze lijst. Het volstaat daarom om één index te gebruiken in dit geval. Willen we een kolom weergeven, dan is dit telkens één element uit elk rij-element. Dus voor de eerste kolom is dit telkens het element met index 0 in elk rijelement. Om elke rij aan te duiden maken we gebruik van een **slice**. ***Dit is een begin en eind-index gescheiden door een dubbele punt: ``a:b``.*** Laten we één of beide eindpunten weg dan betekent dit dat voor de weggelaten zijde het volledige rest van de reeks gebruikt wordt. \n",
    "- ``a:b``: alle elementen van index a tot index b-1 (python neemt nooit de eindgrens mee)\n",
    "- ``a: ``: alle elementen startende bij index a\n",
    "- `` :b``: alle elementen tot index b-1\n",
    "- `` : ``: alle elementen\n",
    "\n",
    "**<u>WEETJE</u>**\n",
    "Wens je het **laatste element** in een reeks hebben, maar weet je niet hoeveel elementen een reeks bevat, dan kun je dit element ook selecteren met de **index** $-1$. Waar in andere programmeertalen je een out-of-bounds foutmelding krijgt zal python achterwaarts de reeks aflopen bij het gebruik van een negatieve index.\n",
    "\n",
    "\n",
    "Hiermee is het mogelijk de gewenste element, rij of kolom uit een meerdimensionale matrix te selecteren. De eerste kolom met energiën en de derde met volumes kopiëren we naar nieuwe variabelen als volgt."
   ]
  },
  {
   "cell_type": "code",
   "execution_count": 12,
   "id": "91f4138a",
   "metadata": {
    "ExecuteTime": {
     "end_time": "2023-02-01T14:48:43.885876Z",
     "start_time": "2023-02-01T14:48:43.869881Z"
    }
   },
   "outputs": [],
   "source": [
    "energie = dataset[:,0]\n",
    "volume = dataset[:,2]"
   ]
  },
  {
   "cell_type": "markdown",
   "id": "1c1e7b11",
   "metadata": {},
   "source": [
    "### <u>Attributen van & functies voor matrices </u> ###\n",
    "\n",
    "Numpy-matrices zijn uitermate handig in het gebruik, gezien ze, in tegenstelling tot een standaard python lijst, erop gericht zijn wiskundige matrices voor te stellen. Er zijn dan ook een heel aantal functies en attributen voor gedefinieerd."
   ]
  },
  {
   "cell_type": "code",
   "execution_count": null,
   "id": "2ad6a655",
   "metadata": {
    "ExecuteTime": {
     "end_time": "2023-01-31T12:16:07.836970Z",
     "start_time": "2023-01-31T12:16:07.829990Z"
    }
   },
   "outputs": [],
   "source": [
    "print(\"De getransponeerde van een matrix\",dataset.transpose(),\"\\n \\n ----------------- \\n\")\n",
    "print(\"De lengte van een 1D matrix (zoals volume) is een tuple \",volume.shape,\n",
    "      \". De lengte als getal krijgen we door het element uit het tuple te halen: \",volume.shape[0])"
   ]
  },
  {
   "cell_type": "markdown",
   "id": "c0f8ae21",
   "metadata": {},
   "source": [
    "---\n",
    "\n",
    "Ook eenvoudige statistische operaties zijn geïmplementeerd voor numpy arrays: \n",
    "- ``numpy.median()``([mediaan](https://numpy.org/doc/stable/reference/generated/numpy.median.html)), \n",
    "- ``numpy.mean()``([gemiddelde](https://numpy.org/doc/stable/reference/generated/numpy.mean.html)), \n",
    "- ``numpy.std()``([standaard deviatie](https://numpy.org/doc/stable/reference/generated/numpy.std.html)), \n",
    "- ``numpy.var()``([variantie](https://numpy.org/doc/stable/reference/generated/numpy.var.html)), \n",
    "- ``numpy.corrcoef()``([correlatie-coefficiënten](https://numpy.org/doc/stable/reference/generated/numpy.corrcoef.html)), etc."
   ]
  },
  {
   "cell_type": "code",
   "execution_count": null,
   "id": "c756a1d6",
   "metadata": {
    "ExecuteTime": {
     "end_time": "2023-01-31T12:16:10.333137Z",
     "start_time": "2023-01-31T12:16:10.327118Z"
    }
   },
   "outputs": [],
   "source": [
    "import numpy as np\n",
    "\n",
    "print(\"Gemiddeld volume: \",np.mean(volume),\" A³\")\n",
    "print(\"Mediaan volume: \",np.median(volume),\" A³\")\n",
    "print(\"standaard deviatie volume: \",np.std(volume),\" A³\")"
   ]
  },
  {
   "cell_type": "markdown",
   "id": "910af430",
   "metadata": {},
   "source": [
    "Deze functies zijn niet beperkt tot 1D matrices. In het geval deze worden toegepast op multidimensionele matrices, dan wordt het resultaat bepaald op alle elementen."
   ]
  },
  {
   "cell_type": "code",
   "execution_count": null,
   "id": "a1b43c8c",
   "metadata": {
    "ExecuteTime": {
     "end_time": "2023-01-31T12:26:07.253937Z",
     "start_time": "2023-01-31T12:26:07.238979Z"
    }
   },
   "outputs": [],
   "source": [
    "print(\"Gemiddeld dataset: \",np.mean(dataset[:,:3]),\" A³\") \n",
    "                #dataset[:,:3] is de volledige matrix met uitzondering van de 4e kolom."
   ]
  },
  {
   "cell_type": "markdown",
   "id": "39384bb1",
   "metadata": {},
   "source": [
    "Door gebruik te maken van het argument ``axis`` kan in één keer de functie worden uitgevoerd ofwel op alle rijen (apart) of alle kolomen (apart). "
   ]
  },
  {
   "cell_type": "code",
   "execution_count": null,
   "id": "5cfeb5dc",
   "metadata": {
    "ExecuteTime": {
     "end_time": "2023-01-31T12:36:08.294422Z",
     "start_time": "2023-01-31T12:36:08.280459Z"
    }
   },
   "outputs": [],
   "source": [
    "print(\"Gemiddeld dataset per kolom: \",np.mean(dataset[:,:3],axis=0),\" A³\") "
   ]
  },
  {
   "cell_type": "markdown",
   "id": "b62a5351",
   "metadata": {},
   "source": [
    "De index van een rij is de eerste index (=0), terwijl deze van een kolom de tweede index (=1) is, in een multidimensionele matrix. ``axis=0`` betekent dat het gemiddelde wordt genomen over alle elementen waarbij over de eerste index(=0) wordt gevarieerd, i.e. het gemiddelde van alle elementen in één kolom wordt zo bepaald. De resultaten voor alle kolomen wordt als een lijst teruggegeven.\n",
    "\n",
    "&nbsp;\n",
    "\n",
    "**_Doe-opdracht:_**<br/>\n",
    "Bepaal het gemiddelde per rij in de dataset."
   ]
  },
  {
   "cell_type": "code",
   "execution_count": null,
   "id": "d61d9f63",
   "metadata": {},
   "outputs": [],
   "source": [
    "\n",
    "\n",
    "\n",
    "\n"
   ]
  },
  {
   "cell_type": "markdown",
   "id": "c8c5e34b",
   "metadata": {},
   "source": [
    "### <u>Zelf matrices maken</u> ###\n",
    "\n",
    "Tot nu toe maakten we gebruik van matrices welke uit een bestand werden ingelezen, het is ook mogelijk zelf vectoren (1D matrix) en matrices aan te maken. Hoewel een numpy matrix overeenkomsten vertoont met een standaard python lijst, is deze toch iets praktischer in het gebruik voor wetenschappelijke toepassingen. Er zijn verschillende manieren om een matrix aan te maken.\n",
    "- **``numpy.array()``-functie**: deze functie zet een (geneste) lijst of tuple om in een één of meerdimensionele matrix.\n",
    "``Mat2D = numpy.array([[1,2,3],[4,5,6]])``\n",
    "- **Array genererende functies**: Numpy bevat een 40-tal functies welke gebruikt kunnen worden om automatisch 1D-, 2D-, of ND-matrices te construeren.\n",
    "  - **[``numpy.arange()``](https://numpy.org/doc/stable/reference/generated/numpy.arange.html#numpy.arange) & [``numpy.linspace()``](https://numpy.org/doc/stable/reference/generated/numpy.arange.html#numpy.arange)** laten je toe vectoren met gelijk gespreide waarden te genereren. Denk bijvoorbeeld aan een grid.\n",
    "  - **[``numpy.eye()``](https://numpy.org/doc/stable/reference/generated/numpy.eye.html#numpy.eye)** genereert een 2D eenheidsmatrix.\n",
    "  - **[``numpy.diag()``](https://numpy.org/doc/stable/reference/generated/numpy.diag.html#numpy.diag)** genereert een diagonaalmatrix, met op de diagonaal de gegeven elementen.\n",
    "  - **[``numpy.zeros()``](https://numpy.org/doc/stable/reference/generated/numpy.zeros.html#numpy.zeros) of [``numpy.ones()``](https://numpy.org/doc/stable/reference/generated/numpy.ones.html#numpy.ones)** genereert een matrix gevuld met nullen of enen. De dimensies van deze matrix worden gegeven als één argument, en dienen dus van het datatype tuple te zijn. Een $3\\times 3$ matrix met enen wordt gegenereerd met ``numpy.ones( (3,3) )``\n",
    "\n",
    "&nbsp;\n",
    "\n",
    "**_Doe-opdracht:_**<br/>\n",
    "1. Genereer een vector met 5 equidistante waarden, waarbij 0 en 5 de twee uiterste punten zijn. Welke genererende functie gebruik je en waarom?\n",
    "2. Genereer een 2D $5\\times 5$ matrix, met op de diagonaal 5 waarden gaande van 0 tot en met 5, welke equidistant zijn. Doe dit op een slimme manier.\n",
    "3. Tel bij alle elementen van de bovenstaande matrix 1 op. (Dit kan op twee manieren.)\n",
    "4. **Bonus**: kun je ook de diagonaalelementen 10 keer kleiner maken voor je  één optelt bij elk element?"
   ]
  },
  {
   "cell_type": "code",
   "execution_count": null,
   "id": "c759c373",
   "metadata": {
    "ExecuteTime": {
     "end_time": "2023-01-31T14:31:55.060608Z",
     "start_time": "2023-01-31T14:31:55.049659Z"
    }
   },
   "outputs": [],
   "source": [
    "\n",
    "\n",
    "\n"
   ]
  },
  {
   "cell_type": "markdown",
   "id": "da69b406",
   "metadata": {},
   "source": [
    "## 2.2. Helpfunctie ##\n",
    "\n",
    "Bij het gebruik van bibliotheken is er vaak een online handleiding voorhanden. Het is dus steeds mogelijk daar extra informatie te vinden. Daarnaast kun je ook gebruik maken van de ingebouwde **``help()``-functie**. Deze geeft ter plekke korte informatie over de functie waar je interesse in hebt. Dit is een handige tool om te weten te komen welke argumenten een functie vereist, en wat de mogelijke waarden en standaardwaarden zijn.\n",
    "\n",
    "**<u>Merk op</u>** : Hoewel je informatie over een functie wenst dien je geen ``()`` aan het einde van de functienaam toe te voegen. Indien je dit doet, en de functie heeft verplichtte argumenten, dan zal je een foutboodschap krijgen. Probeer je deze te omzeilen door deze argumenten in te vullen, dan krijg je niet langer de help-informatie over de functie, maar wel over het object dat door de functie wordt teruggegeven. \n",
    "\n",
    "&nbsp;\n",
    "\n",
    "**_Doe-opdracht:_**<br/>\n",
    "Test de opmerkingen uit op het voorbeel hieronder met de ``numpy.zeros()`` functie."
   ]
  },
  {
   "cell_type": "code",
   "execution_count": null,
   "id": "bf0da02b",
   "metadata": {
    "ExecuteTime": {
     "end_time": "2023-01-31T14:47:35.820312Z",
     "start_time": "2023-01-31T14:47:35.813123Z"
    }
   },
   "outputs": [],
   "source": [
    "help(numpy.zeros)"
   ]
  },
  {
   "cell_type": "markdown",
   "id": "1239547e",
   "metadata": {},
   "source": [
    "## 2.3. Random & Math ##\n",
    "\n",
    "### Random getallen ###\n",
    "Random getallen spelen een belangrijke rol binnen wetenschappelijk onderzoek dat gebruik maakt van simulaties. Ze kunnen gebruikt worden om *noise* toe te voegen aan data, stochatische processen te modelleren, willekeurige begincondities te genereren, etc. Het genereren van random getallen is een kunst op zich (welke zich buiten de scope van deze tutorials bevindt). Er bestaan verschillende algoritmen elk met hun sterkten en zwakten om random getallen te genereren, dit worden ***random number generators (RNGs)*** genoemd. De [**``random``** bibliotheek](https://docs.python.org/3/library/random.html) in python geeft je toegang tot verschillende functies welke je random getallen kunnen aanleveren, volgens verschillende kansverdelingen. De basisfunctie waarop nagenoeg alle functionaliteit in deze bibliotheek steunt is de ``random.random()``-functie, welke een RNG is gebouwd rond de *[Mersenne Twister](https://en.wikipedia.org/wiki/Mersenne_Twister)*.\n",
    "Enkele interessante functies zijn:\n",
    "\n",
    "- ``randint(a,b)``: geeft een willekeurig geheel getal gaande van a tot en met b.\n",
    "- ``random()`` : deze basisfunctie geeft een uniform verdeeld reëel getal $0<= x <1.0$ (1 is dus geen mogelijk resultaat!)\n",
    "- ``uniform(a,b)``: geeft een willekeurig reëel getal uit een uniforme verdeling met $a<= x <b$.\n",
    "- ``gauss(mu=0.0, sigma=1.0)``: geeft een willekeurig reëel getal uit een Gaussische (of Normale) verdeling met gemiddelde *mu* en standaard deviatie *sigma*.\n",
    "\n",
    "Voor de overige verdelingen werwijzen we geïntereseerde lezer naar de handleiding.\n",
    "\n",
    "&nbsp;\n",
    "\n",
    "**_Doe-opdracht:_**<br/>\n",
    "Voer de onderstaande cel enkele keren uit en ga na dat de resultaten telkens anders zijn."
   ]
  },
  {
   "cell_type": "code",
   "execution_count": null,
   "id": "46c6c774",
   "metadata": {
    "ExecuteTime": {
     "end_time": "2023-01-31T16:12:10.674432Z",
     "start_time": "2023-01-31T16:12:10.660432Z"
    }
   },
   "outputs": [],
   "source": [
    "import random\n",
    "\n",
    "print(random.random())"
   ]
  },
  {
   "cell_type": "markdown",
   "id": "a8bfb951",
   "metadata": {},
   "source": [
    "### Meer random getallen ###\n",
    "\n",
    "De random bibliotheek is zeer handig bij het genereren van enkelvoudige willekeurige waarden. Indien je meerdere willekeurige getallen nodig hebt, worden deze gegenereerd door opeenvolgende aanroepingen van de *random*-functie uit de random bibliotheek. Soms is je opzet echter zo, dat je op voorhand weet hoeveel willekeurige getallen je nodig zal hebben. Het is dan, vanuit computationeel oogpunt, niet efficient om vele malen een functie aan te roepen. De *numpy* bibliotheek bevat zelf ook een sub-bibliotheek gericht op willekeurige getallen, genaamd *[random](https://numpy.org/doc/stable/reference/random/index.html#module-numpy.random)*. Deze laat toe om hele reeksen random getallen met één enkele oproep te genereren. Daarnaast is er ook een zeer uitgebreide hoeveelheid aan mogelijke kansverdelingen beschikbaar (zie [handleiding](https://numpy.org/doc/stable/reference/random/legacy.html#distributions) )."
   ]
  },
  {
   "cell_type": "code",
   "execution_count": null,
   "id": "d7acf7ae",
   "metadata": {
    "ExecuteTime": {
     "end_time": "2023-01-31T16:18:39.854258Z",
     "start_time": "2023-01-31T16:18:39.837266Z"
    }
   },
   "outputs": [],
   "source": [
    "import numpy # random is de sub-bibliotheek\n",
    "\n",
    "print(numpy.random.random(10))"
   ]
  },
  {
   "cell_type": "markdown",
   "id": "963a99a7",
   "metadata": {},
   "source": [
    "De bovenstaande uitdrukking is een hele boterham. Er wordt via de bibliotheek (numpy) langs de sub-bibliotheek (random) een aanroep van de functie (random(10)) uitgevoerd. De schijflast kan gelukkig verplaatst worden door de functie alleen te importeren."
   ]
  },
  {
   "cell_type": "code",
   "execution_count": null,
   "id": "7da90359",
   "metadata": {
    "ExecuteTime": {
     "end_time": "2023-01-31T16:21:09.851229Z",
     "start_time": "2023-01-31T16:21:09.845245Z"
    }
   },
   "outputs": [],
   "source": [
    "from numpy.random import random\n",
    "\n",
    "print(random(10))"
   ]
  },
  {
   "cell_type": "markdown",
   "id": "846ced4e",
   "metadata": {},
   "source": [
    "De set met willekeurige getallen kan ook een N-dimensionale matrix opvullen."
   ]
  },
  {
   "cell_type": "code",
   "execution_count": null,
   "id": "3dd927de",
   "metadata": {
    "ExecuteTime": {
     "end_time": "2023-01-31T16:22:30.404868Z",
     "start_time": "2023-01-31T16:22:30.389876Z"
    }
   },
   "outputs": [],
   "source": [
    "print(random((10,2))) #10 rijen met 2 kolomen"
   ]
  },
  {
   "cell_type": "markdown",
   "id": "281e6c3a",
   "metadata": {
    "ExecuteTime": {
     "end_time": "2023-01-31T16:23:33.752388Z",
     "start_time": "2023-01-31T16:23:33.433854Z"
    }
   },
   "source": [
    "### De Math bibliotheek ###\n",
    "\n",
    "Hoewel python zelf reeds verschillende basis wiskundige bewerkingen voorziet (+,-,x,:), ontbreken er toch enkele interessante operaties en functies zoals het bepalen van de **wortel (``math.sqrt(x)``)** van een getal. In de **[math](https://docs.python.org/3/library/math.html)** bibliotheek kun je deze terugvinden, naast ook de **log** en **exponentiële functie**. Bij de log-functies dien je wel even op te letten gezien deze voor de **natuurlijke logaritme (``math.log(x)``)**, de  **basis-10 logaritme (``math.log10(x)``)**, en ook voor de **basis-2 logaritme (``math.log2(x)``)** bestaat. Ook **goniometrische functies** (*e.g.*: **``math.sin(x), math.cos(x), math.tan(x),``**) worden via de math-bibliotheek aangeboden. Hou er wel rekening mee dat de goniometrische functies hoeken in radialen vereisen, en niet in graden.  \n",
    "Met het oog op de ingelezen matrix heeft de math-bibliotheek ook een functie welke je kan vertellen of een getal een echt getal is of een *NaN* (``math.isnan(x)``).\n",
    "\n",
    "Alle bovenstaande functionaliteit is telkens gericht op één enkel getal. Het is dan ook niet verwonderlijk, dat dezelfde functionaliteit ook in de [numpy-bibliotheek](https://numpy.org/doc/stable/reference/routines.math.html) aanwezig is, waar de toepassing gericht is op het gebruik van numpy-matrices. In plaats van een for-lus over de elementen in een lijst te doorlopen en een wiskundige functie op elk individueel element toe te passen, kun je de operatie op alle elementen in de matrix toepassen in één enkel commando. De naamgeving van de functies is dezelfde als bij de math bibliotheek.\n",
    "\n",
    "&nbsp;\n",
    "\n",
    "**_Doe-opdracht:_**<br/>\n",
    "1. Bestudeer het onderstaande stuk code aandachtig en probeer te begrijpen wat er gebeurd.\n",
    "2. Kopieer de code naar de lege cellen eronder en test volgende situaties:\n",
    "   1. Wat gebeurt er indien de for-lus wordt vervangen door een enkel math commando vergelijkbaar met the numpy versie? (Eerste lege cel.)\n",
    "   2. Wat gebeurt er indien je het argument dtype=float verwijdert? Gebruik extra print-opdrachten waar nuttig tijdens het debuggen. Herninner je de ``help`` en ``type`` functies om je te ondersteunen. (Tweede lege cel.)"
   ]
  },
  {
   "cell_type": "code",
   "execution_count": null,
   "id": "e3f46a15",
   "metadata": {
    "ExecuteTime": {
     "end_time": "2023-02-01T11:30:57.705071Z",
     "start_time": "2023-02-01T11:30:57.690079Z"
    }
   },
   "outputs": [],
   "source": [
    "import numpy as np\n",
    "import math\n",
    "\n",
    "np.set_printoptions(precision=4) #Hiermee beperken we het aantal cijfers na de komma bij reële getallen in numpy matrices\n",
    "\n",
    "Reeks = np.arange(10, dtype=float)*10\n",
    "print(\"Een reeks getallen: \\n \",Reeks)\n",
    "# Omzetting van graden naar radialen\n",
    "print(\"In radialen met numpy \\n\", np.radians(Reeks))   #via numpy\n",
    "print(\"In radialen met math  \\n\", Reeks*math.pi/180.0) #via math\n",
    "# bereken de sinus\n",
    "print(\"Met numpy: sin(reeks)= \\n\",np.sin(np.radians(Reeks)))\n",
    "for i in range(len(Reeks)):\n",
    "    Reeks[i] = math.sin(Reeks[i]*math.pi/180.0)\n",
    "print(\"Met math: sin(reeks)= \\n\",Reeks)"
   ]
  },
  {
   "cell_type": "code",
   "execution_count": null,
   "id": "16685b42",
   "metadata": {},
   "outputs": [],
   "source": [
    "\n",
    "\n",
    "\n",
    "\n",
    "\n"
   ]
  },
  {
   "cell_type": "code",
   "execution_count": null,
   "id": "7700376b",
   "metadata": {},
   "outputs": [],
   "source": [
    "  \n",
    "    \n",
    "    \n",
    "    \n",
    "    \n",
    "    "
   ]
  },
  {
   "cell_type": "markdown",
   "id": "82ea6cbf",
   "metadata": {},
   "source": [
    "## 2.4. Plotten met Matplotlib ##\n",
    "\n",
    "\n",
    "Eén van de redenen waarom python-notebooks zo populair zijn, is het feit dat het zeer eenvoudig is om zowel complexe berekeningen als grafische voorstellingen van de data met eenzelfde notebook samen te brengen. Een veelgebruikte bibliotheek voor de wetenschapelijke visualisatie van data is de ***matplotlib***-bibliotheek. De plotklasse ([``pyplot``](https://matplotlib.org/stable/api/pyplot_summary.html)) wordt veelal afgekort tot **plt** in tutorials en andere hulpbronnen. De syntax van deze bibliotheek is zeer gelijklopend met deze voor het plotten in MATLAB (waarop het geïnspireerd is).\n",
    "\n",
    "&nbsp;\n",
    "\n",
    "**_Doe-opdracht:_**<br/>\n",
    "Maak gebruik va de handleiding voor de [plot-functie](https://matplotlib.org/stable/api/_as_gen/matplotlib.pyplot.plot.html) om het onderstaande script te begrijpen.\n",
    "1. Voer het script uit.\n",
    "2. Hoe plot je een xy-dataset: ``plt.plot(x,y)`` of ``plt.plot(y,x)``. \n",
    "3. Waarom werkt het onderstaande script hoewel er maar 1 coördinaat is gegeven ?(Welke?)\n",
    "4. Wat is de betekenis van de string met het punt?\n",
    "5. Pas het script aan zodanig dat het weergegeven symbool een zwarte driehoek omhoog wordt."
   ]
  },
  {
   "cell_type": "code",
   "execution_count": 8,
   "id": "363bcab6",
   "metadata": {
    "ExecuteTime": {
     "end_time": "2023-02-01T14:31:32.612114Z",
     "start_time": "2023-02-01T14:31:32.487449Z"
    }
   },
   "outputs": [
    {
     "data": {
      "text/plain": [
       "[<matplotlib.lines.Line2D at 0x203629297c0>]"
      ]
     },
     "execution_count": 8,
     "metadata": {},
     "output_type": "execute_result"
    },
    {
     "data": {
      "image/png": "[encoded data removed]",
      "text/plain": [
       "<Figure size 640x480 with 1 Axes>"
      ]
     },
     "metadata": {},
     "output_type": "display_data"
    }
   ],
   "source": [
    "import matplotlib.pyplot as plt\n",
    "i=2\n",
    "plt.plot(i,'.')"
   ]
  },
  {
   "cell_type": "markdown",
   "id": "ac30c875",
   "metadata": {},
   "source": [
    "Het is natuurlijk niet de bedoeling maar één punt te plotten, we willen volledige curves. Denken we terug aan de data welke aan het begin van deze tutorial werd ingeladen, dan herinneren we dat de energie en volume data in twee aparte numpy-vectoren is opgeslagen (*energie* eb *volume*). Met het volgende commando kunnen we deze data eenvoudig plotten."
   ]
  },
  {
   "cell_type": "code",
   "execution_count": 21,
   "id": "8fb09c63",
   "metadata": {
    "ExecuteTime": {
     "end_time": "2023-02-01T15:05:22.745521Z",
     "start_time": "2023-02-01T15:05:22.625875Z"
    }
   },
   "outputs": [
    {
     "data": {
      "text/plain": [
       "[<matplotlib.lines.Line2D at 0x20363a8d400>]"
      ]
     },
     "execution_count": 21,
     "metadata": {},
     "output_type": "execute_result"
    },
    {
     "data": {
      "image/png": "[encoded data removed]",
      "text/plain": [
       "<Figure size 640x480 with 1 Axes>"
      ]
     },
     "metadata": {},
     "output_type": "display_data"
    }
   ],
   "source": [
    "plt.plot(volume,energie,'--^k',label='E(V) data lactosemonohydraat')"
   ]
  },
  {
   "cell_type": "markdown",
   "id": "8bc9a979",
   "metadata": {},
   "source": [
    "Zoals je hierboven ziet is echter nog wel wat werk aan de winkel voor dit een plot is dat kan gebruikt worden in een paper of rapport. Een paar van de meest opvallende problemen zijn:\n",
    "1. De legende ontbreekt.\n",
    "2. De assen hebben geen label.\n",
    "3. Minor ticks ontbreken.\n",
    "4. De tickmarks staan aan de foute zijde van de as.\n",
    "5. De stapgrootte op de y-as is bizar (0.02) en de waarden welke we zien verschillen sterk van de energiewaarden welke ongeveer -560 zijn.\n",
    "\n",
    "Het is duidelijk dat hoewel er standaardwaarden voorzien zijn, deze niet acceptabel zijn voor werkelijk wetenschappelijk gebruik. Gelukkig kunnen alle onderdelen van een plot aangepast en getunned worden.\n",
    "\n",
    "### <u>Breaking free of defaults</u> ###\n",
    "Voor we beginnen aan het opschonen van de afbeelding, is het nuttig om te weten dat pyplot een functie ``show()`` bevat welke de afbeelding waar we aan werken laat zien. Het gebruik van dit commando laat ook de tekst met het type afbeelding verdwijnen uit de output. In het toekomstig script zullen we daarom eindigen met het commando:``plt.show()``\n",
    "\n",
    "1. **De legende** ([``plt.legend()``](https://matplotlib.org/stable/api/legend_api.html)). Hoewel er een label aan de curve is toegevoegd is deze toch niet zichtbaar. Door de ``legend()``-functie aan te roepen wordt dit verholpen. Verder kan met deze functie ook de positie van de legende, de font grootte, etc worden aangepast.\n",
    "2. **De aslabels** ([``plt.xlabel()``](https://matplotlib.org/stable/api/_as_gen/matplotlib.pyplot.xlabel.html) en [``plt.ylabel()``](https://matplotlib.org/stable/api/_as_gen/matplotlib.pyplot.ylabel.html)). Het toevoegen van aslabels kan door gebruik te maken van de functies ``xlabel`` en ``ylabel``, waarbij zowel de tekst als de opmaak van deze tekst bepaald kan worden.\n",
    "3. **De tickmarks**. Het aanpassen van de tickmarks heeft iets meer voeten in de aarde. Eerst en vooral omdat deze niet direct beschikbaar zijn via pyplot. We hebben hiervoor toegang tot het axes-object nodig. De functie [``plt.subplots()``](https://matplotlib.org/stable/api/_as_gen/matplotlib.pyplot.subplots.html) geeft dit samen met een figure object terug. En interessant neveneffect van het gebruik van de subplots functie is dat hiermee ook de dimensies van de afbeelding kunnen ingesteld worden (weliswaar in inches; 1 inch = 2.54 cm): *e.g.* ``fig, ax = plt.subplots(figsize=(7,5))``. Met zowel het ***plt*** als het ***ax*** object ter beschikking kunnen de asse volledig opgemaakt worden.\n",
    "    1. **Asgrenzen**: De asgrenzen kunnen worden bepaald met de [``plt.xlim()``](https://matplotlib.org/stable/api/_as_gen/matplotlib.pyplot.xlim.html) en [``plt.ylim()``](https://matplotlib.org/stable/api/_as_gen/matplotlib.pyplot.ylim.html) functies. De boven en ondergrens worden gegeven als een lijst; *e.g.* ``plt.xlim([720,800])``\n",
    "    2. **Positie ticks**: Voor het plaatsen van de ticks kan gebruik gemaakt worden van een automaische functie welke de positie en het aantal ticks bepaald: [``matplotlib.ticker.MultipleLocator()``](https://matplotlib.org/stable/api/ticker_api.html#matplotlib.ticker.MultipleLocator). In het geval van het volume zullen we elke 10$\\AA^3$ een major tick plaatsen, en elke 1$\\AA^3$ een minor tick. Hiervoor kan de [``set_major_locator()``]() en [``set_minor_locator()``]() van het ``xaxis`` object gebruikt worden <br/>\n",
    "    &rarr; ``ax.xaxis.setmajor_locator(MultipleLocator(10.0))``.<br/>\n",
    "    Voor de y-as gebruiken we stappen van 25 meV en 5 meV.\n",
    "    3. **Richting en opmaak ticks**: Het opmaken van de ticks kan met de [``tick_params()``](https://matplotlib.org/stable/api/_as_gen/matplotlib.axes.Axes.tick_params.html) functie. Ticks dienen aan beide zijden van de grafiek voor te komen en naar binnen gericht te zijn. De lengte en dikte kan aangepast worden met het oog op leesbaarheid.\n",
    "4. **Lijndikte frame/assen**: De assen van de grafiek zijn vrij dun. Deze kunnen iets dikker gemaakt worden met behulp van de ``set_linewidth()`` functie van de spines objecten. Dit laatste is een lijst met elementen 'top','left','right', en 'bottom'. Gezien we alle elementen wensen aan te passen kunnen we gebruik maken van een slice-notatie om ze allemaal in één keer te selecteren."
   ]
  },
  {
   "cell_type": "code",
   "execution_count": 61,
   "id": "8106f865",
   "metadata": {
    "ExecuteTime": {
     "end_time": "2023-02-01T16:11:17.823248Z",
     "start_time": "2023-02-01T16:11:17.416370Z"
    }
   },
   "outputs": [
    {
     "data": {
      "image/png": "[encoded data removed]",
      "text/plain": [
       "<Figure size 700x500 with 1 Axes>"
      ]
     },
     "metadata": {},
     "output_type": "display_data"
    }
   ],
   "source": [
    "from matplotlib.ticker import MultipleLocator\n",
    "\n",
    "fig, ax = plt.subplots(figsize=(7,5))\n",
    "plt.xlim([720,800])\n",
    "plt.ylim([-563.800,-563.675])\n",
    "ax.xaxis.set_major_locator(MultipleLocator(10))\n",
    "ax.xaxis.set_minor_locator(MultipleLocator(1))\n",
    "ax.yaxis.set_major_locator(MultipleLocator(0.025))\n",
    "ax.yaxis.set_minor_locator(MultipleLocator(0.005))\n",
    "# opmaak van de major ticks\n",
    "ax.tick_params(axis='both',direction='in',length=10,width=2,\n",
    "               bottom=True, top=True, left=True, right=True, labelsize=10)\n",
    "# opmaak van de minor ticks (deze hebben geen label)\n",
    "ax.tick_params(axis='both',which='minor',direction='in',length=6,width=1,\n",
    "              bottom=True, top=True, left=True, right=True)\n",
    "\n",
    "ax.spines[:].set_linewidth(2)\n",
    "\n",
    "plt.xlabel(\"Volume ($\\AA^3$) \", fontsize='x-large', fontweight=\"bold\")\n",
    "plt.ylabel(\"Energie (eV) \", fontsize='x-large', fontweight=\"bold\")\n",
    "plt.plot(volume,energie,'--^k',label='E(V) data lactosemonohydraat')\n",
    "plt.legend(loc='upper center', fontsize='large')\n",
    "plt.show()"
   ]
  },
  {
   "cell_type": "markdown",
   "id": "4f564285",
   "metadata": {},
   "source": [
    "De finale afbeelding ziet er een stuk beter uit dan de standaardoptie, maar vereist extra werk. Indien je op verschillende plaatsen vergelijkbare figuren wil genereren in een notebook (of script), is het vaak handig het opmaak gedeelte iets te veralgemenen en in een functie te stoppen. Deze functie neemt dan als minimale argumenten de lijsten met $x$ en $y$ waarden.\n",
    "\n",
    "&nbsp;\n",
    "\n",
    "**_Doe-opdracht:_**<br/>\n",
    "Gebruik de cel hieronder.\n",
    "1. Maak van de code in de voorgaande cel een functie welke 3 argumenten aanneemt: $x$ en $y$ waarden, en een string met het label van de data. Test of je hetzelfde resultaat bekomt als hierboven.\n",
    "2. Pas je functie aan zodat je ook het label bij de assen moet meegeven. Test of je hetzelfde resultaat bekomt als hierboven.\n",
    "3. Pas de functie nog verder aan zodat ook de grenzen van de assen, en tick-posities worden meegegeven. Test of je hetzelfde resultaat bekomt als hierboven.\n",
    "\n",
    "Deze functie kan een goed startpunt zijn voor alle toekomstige python plots welke je genereert.\n"
   ]
  },
  {
   "cell_type": "code",
   "execution_count": null,
   "id": "837a1897",
   "metadata": {},
   "outputs": [],
   "source": [
    "\n",
    "\n",
    "\n",
    "\n",
    "\n"
   ]
  },
  {
   "cell_type": "markdown",
   "id": "85ae7375",
   "metadata": {},
   "source": [
    "Dit is het einde van de tweede python tutorial. In de [volgende tutorial]()  gaan we dieper in op datavisualisatie en analyse."
   ]
  }
 ],
 "metadata": {
  "kernelspec": {
   "display_name": "Python 3 (ipykernel)",
   "language": "python",
   "name": "python3"
  },
  "language_info": {
   "codemirror_mode": {
    "name": "ipython",
    "version": 3
   },
   "file_extension": ".py",
   "mimetype": "text/x-python",
   "name": "python",
   "nbconvert_exporter": "python",
   "pygments_lexer": "ipython3",
   "version": "3.9.13"
  },
  "latex_envs": {
   "LaTeX_envs_menu_present": true,
   "autoclose": false,
   "autocomplete": true,
   "bibliofile": "biblio.bib",
   "cite_by": "apalike",
   "current_citInitial": 1,
   "eqLabelWithNumbers": true,
   "eqNumInitial": 1,
   "hotkeys": {
    "equation": "Ctrl-E",
    "itemize": "Ctrl-I"
   },
   "labels_anchors": false,
   "latex_user_defs": false,
   "report_style_numbering": false,
   "user_envs_cfg": false
  }
 },
 "nbformat": 4,
 "nbformat_minor": 5
}
