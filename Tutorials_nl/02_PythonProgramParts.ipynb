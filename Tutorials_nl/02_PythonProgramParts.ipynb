{
 "cells": [
  {
   "cell_type": "markdown",
   "id": "a6f7f846",
   "metadata": {},
   "source": [
    "# Gestructureerd programmeren in python #\n",
    "Welkom bij deze tutorial reeks over python voor studenten Chemie. \n",
    "\n",
    "In deze reeks tutorials maak je kennis met **python** als tool voor **data-analyse en-visualisatie**. Je leert de *basisconcepten kennen* van deze programmeertaal en doet eerste *praktische ervaring* op. Bij het opstellen van deze tutorials zijn we er van uit gegaan dat je geen praktische voorkennis in python of programmeren in het algemeen hebt. Indien dit toch het geval zou zijn, zullen de eerste notebooks uitermate eenvoudig zijn. Gezien het beperkte tijdsbestek zijn er ook keuzes gemaakt met betrekking tot de onderwerpen welke aan bod komen en hun uitdieping. Wens je meer over een bepaald onderwerp te leren dan zijn er voldoende online bronnen beschikbaar om via zelfstudie de nodige uitdieping te bekomen. \n",
    "\n",
    "Met het oog op het zo laagdrempelig mogelijk houden van deze tutorials, maken we gebruik van __*Jupyter notebooks*__ zoals deze. Het is de bedoeling dat je deze notebooks uitvoert en aanpast waar gevraagd. Dit laatste doe je op je eigen *google drive* waar je de tutorials gebruikt in de vorm van *google colaboratory* documenten. Indien je dit nog niet het geval is, lees dan eerst [00_PythonInstallatie.md](https://github.com/DannyVanpoucke/PythonTutorials/blob/main/Tutorials_nl/00_PythonInstallatie.md), waarbij je **puntje 1.1.** uitvoert.\n",
    "\n",
    "Dit is de tweede tutorial in een reeks, en bouwt verder op de reeds opgedane kennis tijdens de [eerste turorial](https://github.com/DannyVanpoucke/PythonTutorials/blob/main/Tutorials_nl/01_IntroPython.ipynb). We raden dan ook aan deze eerdere tutorial te doorlopen voor je aan deze begint.\n",
    "\n",
    "In dit tweede notebook beginnen we met het construeren van grotere stukken code met het oog op het creëren van een gestructureerd geheel. We bekijken ook het gebruik van bibliotheken en leren omgaan met fouten.\n",
    "\n",
    "## Inhoudstafel ##\n",
    "1. [Functies als programmaonderdeel](#1.-Functies-als-programmaonderdeel)<br/>\n",
    "   1.1. [Individuele functies](#1.1.-Individuele-functies)<br/>\n",
    "   1.2. [Functieresultaten](#1.2.-Functieresultaten)<br/>\n",
    "   1.3. [Methods: functies in een klasse (basis)](#Methods:-functies-in-een-klasse)<br/>\n",
    "   1.4. [Workflow in een notebook]()<br/>\n",
    "2. [Basis bibliotheken](#2.-Basis-bibliotheken)<br/>\n",
    "   2.1. [Numpy](#2.1.-Numpy)<br/>\n",
    "   2.1. [Random en Math]()<br/>\n",
    "   2.2. [Fouten & helpfunctie]()<br/>\n",
    "   2.3. [scipy]()<br/>"
   ]
  },
  {
   "cell_type": "markdown",
   "id": "14adbed7",
   "metadata": {},
   "source": [
    "# 1. Functies als programmaonderdeel #\n",
    "\n",
    "In de [voorgaande tutorial](https://github.com/DannyVanpoucke/PythonTutorials/blob/main/Tutorials_nl/01_IntroPython.ipynb) maakten leerde je de basisaspecten van het programmeren in python. Je weet intussen wat een variabele is en hoe je operaties tussen variabelen uitvoert. Je leerde ook dat er controlestructuren bestaan zoals *for*-lussen en *if-else*-constructies. Je zou nu telkens opnieuw dezelfde code kunnen intypen, elke keer als je een vergelijkbare opdracht of bewerking wenst uit te voeren. Dit is echter dubbel werk. \n",
    "\n",
    "## 1.1. Individuele functies ##\n",
    "In programmeertalen zoals python is het daarom mogelijk om **herbruikbare stukken code** te groeperen in wat een ***functie*** wordt genoemd. In het voorgaande maakt je reeds kennis met enkele ingebouwde functies van python zelf: ``print``, ``type`` en ``range``. Het is echter ook mogelijk om zelf een functie te creëren. De verschillende aspecten van een functie zullen we bekijken aan de hand van een eenvoudige functie welke twee getallen bij elkaar dient op te tellen."
   ]
  },
  {
   "cell_type": "code",
   "execution_count": 6,
   "id": "9a703882",
   "metadata": {
    "ExecuteTime": {
     "end_time": "2023-01-27T16:15:57.098322Z",
     "start_time": "2023-01-27T16:15:57.086503Z"
    }
   },
   "outputs": [],
   "source": [
    "def telop(arg1,arg2):\n",
    "    # Net zoals bij een controlestructuur dienen we hier een inspringing te gebruiken om aan te geven dat \n",
    "    # het codeblok samenhoort.\n",
    "    resultaat = arg1 + arg2\n",
    "    return resultaat"
   ]
  },
  {
   "cell_type": "markdown",
   "id": "5d888620",
   "metadata": {},
   "source": [
    "Merk eerst en vooral op dat bij het uitvoeren van de bovenstaande cel *niets gebeurt*. Inderdaad, er wordt geen berekening uitgevoerd, dus dient er geen resultaat weergegeven te worden.\n",
    "\n",
    "Het keyword ``def`` geeft aan dat dit een functiedefinitie is. De naam van de functie is *telop*, en deze functie heeft twee argumenten (*arg1* en *arg2*) nodig. Binnen het codeblok van de functie zijn dit variabelen waarmee gewerkt kan worden. De tekst voorafgegaan door het ``#``-symbool is kommentaar, en wordt als dusdanig niet gelezen door de computer. Binnen in het codeblok, dat we laten inspringen, definiëren we een nieuwe variabele resultaat, welke we gelijk stellen aan de som van de twee argumenten. **De drie variabelen bestaan enkel *lokaal* binnen het codeblok.** Indien je een print opdracht buiten het codeblok deze variabelen wil laten uitschrijven gaat het mis.(*Probeer dit in de bovenstaande cel. Vergeet niet dat de printopdracht niet mag inspringen, anders wordt deze een deel van het codeblok van de functie.*)\n",
    "\n",
    "Hoewel het codeblok in dit geval maar twee regels beslaat, staat er geen grens op de lengte van een functie, noch op de inhoud. Alles wat toegelaten code is binnen een normaal programma kan ook in het codeblok van een functie voorkomen.\n",
    "\n",
    "Het resultaat van de som wordt teruggegeven met behulp van het ``return`` keyword. Indien een functie een opdracht of bewerking uitvoert waarbij het niet nodig is dat er een resultaat wordt teruggegeven, dan zal er geen return-regel aanwezig zijn.\n",
    "\n",
    "*De bovenstaande functie kan nu zo vaak aangeroepen worden als we maar willen. Dit kan op verschillende manieren.*\n",
    "1.  **Zonder toekenning van het resultaat.**"
   ]
  },
  {
   "cell_type": "code",
   "execution_count": 7,
   "id": "f044c41c",
   "metadata": {
    "ExecuteTime": {
     "end_time": "2023-01-27T16:16:06.495683Z",
     "start_time": "2023-01-27T16:16:06.481718Z"
    }
   },
   "outputs": [
    {
     "data": {
      "text/plain": [
       "15"
      ]
     },
     "execution_count": 7,
     "metadata": {},
     "output_type": "execute_result"
    }
   ],
   "source": [
    "# Indien dit de laatste opdracht van een cel is zal het resultaat naar de output worden geschreven. \n",
    "#   (Of als je alle output laat uitschrijven, zoals gezien in de eerste tutorial, kan dat ook indien meerdere zaken \n",
    "#    naar de output worden gezonden.)\n",
    "telop(10,5)    "
   ]
  },
  {
   "cell_type": "markdown",
   "id": "d74353df",
   "metadata": {},
   "source": [
    "2. **Met toekenning van het resultaat.**"
   ]
  },
  {
   "cell_type": "code",
   "execution_count": 8,
   "id": "e82789cc",
   "metadata": {
    "ExecuteTime": {
     "end_time": "2023-01-27T16:19:39.434994Z",
     "start_time": "2023-01-27T16:19:39.426998Z"
    }
   },
   "outputs": [
    {
     "name": "stdout",
     "output_type": "stream",
     "text": [
      "De som is  15\n"
     ]
    }
   ],
   "source": [
    "som=telop(10,5)\n",
    "print(\"De som is \",som)"
   ]
  },
  {
   "cell_type": "markdown",
   "id": "d1e18b7a",
   "metadata": {},
   "source": [
    "3. **Met variabelen als argumenten**"
   ]
  },
  {
   "cell_type": "code",
   "execution_count": 10,
   "id": "50ea979e",
   "metadata": {
    "ExecuteTime": {
     "end_time": "2023-01-27T16:23:16.544348Z",
     "start_time": "2023-01-27T16:23:16.536370Z"
    }
   },
   "outputs": [
    {
     "name": "stdout",
     "output_type": "stream",
     "text": [
      "Beide variabelen -> 8\n",
      "Combinate met 1 variabele -> 12  of  8.14\n",
      "Beide variabelen & toekenning -> 8\n"
     ]
    }
   ],
   "source": [
    "var1=5\n",
    "var2=3\n",
    "print(\"Beide variabelen ->\",telop(var1,var2))\n",
    "print(\"Combinate met 1 variabele ->\",telop(var1,7),\" of \",telop(3.14,var1))\n",
    "som=telop(var1,var2)\n",
    "print(\"Beide variabelen & toekenning ->\",som)"
   ]
  },
  {
   "cell_type": "markdown",
   "id": "936231ec",
   "metadata": {},
   "source": [
    "4. **Met onverwachte argumenten**"
   ]
  },
  {
   "cell_type": "code",
   "execution_count": 13,
   "id": "ff00d4a3",
   "metadata": {
    "ExecuteTime": {
     "end_time": "2023-01-27T16:25:23.734010Z",
     "start_time": "2023-01-27T16:25:23.726064Z"
    }
   },
   "outputs": [
    {
     "name": "stdout",
     "output_type": "stream",
     "text": [
      "Beide variabelen lijsten-> [1, 2, 3, 66, 5, 9]\n",
      "Beide variabelen strings-> Hello World!\n"
     ]
    }
   ],
   "source": [
    "var1=[1,2,3]\n",
    "var2=[66,5,9]\n",
    "print(\"Beide variabelen lijsten->\",telop(var1,var2))\n",
    "\n",
    "var1=\"Hello \"\n",
    "var2=\"World!\"\n",
    "print(\"Beide variabelen strings->\",telop(var1,var2))"
   ]
  },
  {
   "cell_type": "markdown",
   "id": "d4cd7ea7",
   "metadata": {},
   "source": [
    "Dit was niet helemaal de originele bedoeling. De functie welke we voor ogen hadden was gericht op het optellen van getallen. In tegenstelling tot vele andere programmeertalen dient **in python de functiedefinitie niet expliciet aan te geven wat het datatype van de argumenten is**. Python maakt gebruik van zogenaamd **ducktyping**, hierbij is het type object niet van belang, wel of het bepaalde functies of eigenschappen heeft. In het bovenstaande geval betekent dit dat alle soorten objecten waarvoor de ``+``-operator een zinvolle betekenis heeft (en geïmplementeerd is), een resultaat zal opleveren. We kunnen met onze eenvoudige functie dus ook strings en lijsten samenvoegen. \n",
    "\n",
    "Dit is een zeer krachtig aspect van python, maar kan het leven van de programmeur ook flink lastig maken, gezien de taak nu op hem/haar valt om ervoor te zorgen dat de functie veilig kan omgaan met wat de gebruiker als input aanlevert, ook als is dat totaal onredelijk. Bij het vervolg van deze tutorials zullen we er echter steeds van uitgaan dat we niet te maken hebben met onredelijke gebruikers, en laten we het beveiligen van functies tegen onzinnige input als gevorderd onderwerp voor verdere zelfstudie."
   ]
  },
  {
   "cell_type": "markdown",
   "id": "dc05bdb8",
   "metadata": {},
   "source": [
    "## 1.2. Functieresultaten ##\n",
    "Het resultaat van de functie *telop* wordt teruggegeven met behulp van het ``return``-keyword (zie hieronder).\n",
    "\n",
    "```python\n",
    "def telop(arg1,arg2):\n",
    "    resultaat = arg1 + arg2\n",
    "    return resultaat\n",
    "```\n",
    "Als gevolg van het **ducktyping** van python zal het datatype van *resultaat* hetzelfde zijn als van de argumenten *arg1* en *arg2*. Het resultaat dat door de functie wordt teruggegeven kan direct gebruikt worden (*e.g.* in een ``print`` functie) of toegekend aan een andere variabele (*e.g.* ``som = telop(1,2)``).\n",
    "\n",
    "In python is het ook mogelijk meerdere resultaten terug te geven met een functie. Een voorbeeld wordt hieronder gegeven.\n",
    "```python\n",
    "def bewerk(arg1,arg2):\n",
    "    res_som = arg1 + arg2\n",
    "    res_verschil = arg1 - arg2\n",
    "    return res_som, res_verschil \n",
    "```\n",
    "Deze resultaten kunnen opnieuw aan een nieuwe variable toegekend worden. Het datatype is dan echter niet meer dat van de invoerargumenten. "
   ]
  },
  {
   "cell_type": "code",
   "execution_count": 21,
   "id": "a2d5e160",
   "metadata": {
    "ExecuteTime": {
     "end_time": "2023-01-30T09:27:54.926358Z",
     "start_time": "2023-01-30T09:27:54.916389Z"
    }
   },
   "outputs": [
    {
     "name": "stdout",
     "output_type": "stream",
     "text": [
      "Het datatype van res is  <class 'tuple'>\n"
     ]
    }
   ],
   "source": [
    "def bewerk(arg1,arg2):\n",
    "    res_som = arg1 + arg2\n",
    "    res_verschil = arg1 - arg2\n",
    "    return res_som, res_verschil \n",
    "\n",
    "res = bewerk(5,3)\n",
    "print(\"Het datatype van res is \",type(res))"
   ]
  },
  {
   "cell_type": "markdown",
   "id": "9f82b6db",
   "metadata": {},
   "source": [
    "---\n",
    "Het **tuple** datatype is één van de vier ingebouwde datatypes in python welke een ***collectie*** van data kan bevatten. Deze verschillen in het feit of ze geordend en veranderlijk zijn, en of ze dubbele waarden toelaten.\n",
    "\n",
    "- **geordend**: de elementen van de collectie komen in een vaste volgorde voor. Je kan element met een index opzoeken.\n",
    "- **veranderlijk**: de elementen vann de collectie en de collectie kunnen aangepast worden zonder dat hiervoor een nieuw object wordt gecreëerd.\n",
    "- **duplicaten**: meerdere elementen kunnen dezelfde waarde hebben.\n",
    "\n",
    "\n",
    "| type | geordend | veranderlijk | duplicaten | weergave | voorbeeld |\n",
    "|------|:--------:|:------------:|:----------:|:--------:|:----------|\n",
    "| list |  Y | Y | Y | ``[ ]``  | ``lijst=[12.5, 77, 3.14]``   |\n",
    "| tuple |  Y  | N  | Y | ``( )`` | ``tup=(12.5, 77, 3.14)``  |\n",
    "| set |  N  | N<sup>+</sup>  | N | ``{ }`` | ``set={'banaan', 'appel', 'peer'}``   |\n",
    "| dict | Y<sup>*</sup>  |  Y | N | ``{ }`` | ``wboek={ \"merk\":\"asus\", \"type\":\"RoG\", \"prijs\": 1699.99}``  |\n",
    "\n",
    "( <sup>+</sup> De elementen in een set kun je niet veranderen, maar je kan wel elementen toevoegen en verwijderen.<br/>\n",
    "  &nbsp;<sup>*</sup> Woordenboeken waren ongeordend, maar sinds python 3.7 zijn deze ook geordend)\n",
    "\n",
    "---\n",
    "De variabele *res* is dus een **tuple** welke de twee resultaten van de functie ``bewerk`` bevat. Deze kunnen individueel of als tuple uitgeschreven worden. Om de individuele elementen te gebruiken, kan gebruik worden gemaakt van de index van het gewenste element, ***waarbij het belangrijk is te onthouden dat python bij 0 begint te tellen***."
   ]
  },
  {
   "cell_type": "code",
   "execution_count": 22,
   "id": "f207c933",
   "metadata": {
    "ExecuteTime": {
     "end_time": "2023-01-30T10:04:24.573978Z",
     "start_time": "2023-01-30T10:04:24.560973Z"
    }
   },
   "outputs": [
    {
     "name": "stdout",
     "output_type": "stream",
     "text": [
      "De resultaten als tuple zien er als volgt uit: (8, 2)\n",
      "Het resultaat van de eerste bewerking (som) is  8\n",
      "Het resultaat van de tweede bewerking (verschil) is  2\n"
     ]
    }
   ],
   "source": [
    "print(\"De resultaten als tuple zien er als volgt uit:\", res,\".\")\n",
    "print(\"Het resultaat van de eerste bewerking (som) is \",res[0],\".\")\n",
    "print(\"Het resultaat van de tweede bewerking (verschil) is \",res[1],\".\")"
   ]
  },
  {
   "cell_type": "markdown",
   "id": "5f3dd424",
   "metadata": {},
   "source": [
    "In het geval dat het resultaat van een functie een tuple is kan de toekenning ook gebeuren aan een set van variabelen. Let wel op dat het aantal variabelen exact hetzelfde dient te zijn als het aantal elementen in het tuple."
   ]
  },
  {
   "cell_type": "code",
   "execution_count": 23,
   "id": "e7f04d30",
   "metadata": {
    "ExecuteTime": {
     "end_time": "2023-01-30T10:07:40.870183Z",
     "start_time": "2023-01-30T10:07:40.854225Z"
    }
   },
   "outputs": [
    {
     "name": "stdout",
     "output_type": "stream",
     "text": [
      "De som is  100.99 .\n",
      "Het verschil is  75.01 .\n"
     ]
    }
   ],
   "source": [
    "som, verschil = bewerk(88,12.99)\n",
    "print(\"De som is \",som,\".\")\n",
    "print(\"Het verschil is \",verschil,\".\")"
   ]
  },
  {
   "cell_type": "markdown",
   "id": "86c1b3e5",
   "metadata": {},
   "source": [
    "**_Doe-opdracht:_**<br/>\n",
    "1. Stel zelf een functie op welke het product ($x\\times y$), quotient ($\\frac{x}{y}$) en de macht ($x^y$) van twee getallen bepaald.\n",
    "2. Voer deze functie uit met volgende input: $x=8, y=2$.\n",
    "   1. Schrijf het resultaat rechtstreeks uit door je functie in een print functie uit te voeren.\n",
    "   2. Ken je resultaat toe aan een tuple, en schrijf de drie individuele elementen uit.\n",
    "   3. Ken je resultaat toe aan drie variabelen en schrijf deze uit."
   ]
  },
  {
   "cell_type": "code",
   "execution_count": 24,
   "id": "1147773d",
   "metadata": {
    "ExecuteTime": {
     "end_time": "2023-01-30T10:17:12.703607Z",
     "start_time": "2023-01-30T10:17:12.696593Z"
    }
   },
   "outputs": [],
   "source": [
    "#Hier komt de functie\n",
    "\n",
    "\n"
   ]
  },
  {
   "cell_type": "code",
   "execution_count": 25,
   "id": "0df54c61",
   "metadata": {
    "ExecuteTime": {
     "end_time": "2023-01-30T10:17:52.024641Z",
     "start_time": "2023-01-30T10:17:52.010642Z"
    }
   },
   "outputs": [],
   "source": [
    "#Hier gebruik je de functie en schrijf je resultaten uit\n",
    "\n",
    "\n",
    "\n",
    "\n"
   ]
  },
  {
   "cell_type": "markdown",
   "id": "6f522ff9",
   "metadata": {},
   "source": [
    "## Methods: functies in een klasse ##\n",
    "\n",
    "Python is een **object georiënteerde programmeertaal**, wat betekent dat **objecten** een centrale rol spelen. Een object is *realisatie* van een klasse, of simpelweg, als je een klasse ziet als een complex datatype, dan is een object een ingevulde variabele van dat datatype. *De klasse kun je beschouwen als de definitie*. Beschouw het volgende eenvoudige voorbeeld van een python-klasse:\n",
    "```python\n",
    "class Atom()\n",
    "    \"\"\"\n",
    "    Een simpel voorbeeld van een klasse met enkele attributen:\n",
    "       - Z : Atoomnummer (int)\n",
    "       - m : massa (float)\n",
    "       - x,y,z: coördinaten van het atoom (float)\n",
    "       - symbol: chemisch symbool (string) \n",
    "    \"\"\"\n",
    "    def __init__(self, Z, m, EN, symbol):\n",
    "        ...In deze functie worden de attributen van het object geïnitialiseerd...\n",
    "        \n",
    "    def getZ(self):\n",
    "        \"\"\"\n",
    "        Functie welke het atoomnummer van het atoom geeft.\n",
    "        \"\"\"\n",
    "        return self.Z\n",
    "    \n",
    "    def move(self, dx,dy,dz):\n",
    "        \"\"\"\n",
    "        Functie welke, de coördinaten van het atoom aanpast.\n",
    "        \"\"\"\n",
    "        self.x = self.x+dx\n",
    "        self.y = self.y+dy\n",
    "        self.z = self.z+dz\n",
    "        \n",
    "    ...\n",
    "```\n",
    "\n",
    "dan bevat onze klasse enkele **attributen**, dit zijn variabelen welke iets zeggen over het object, en functies, in dit geval de ``__init__`` en ``getZ`` functies. Om de attributen of functies van een object (*e.g.* stel dat Hatoom kan een object(=variabele) van de klasse Atom is) aan te roepen wordt er gebruik gemaakt van de ``.``-notatie.\n",
    "- Het chemisch symbool kan worden uitgeschreven door het attribuut symbol uit te schrijven: ``print(\"Atoomtype: \",Hatom.symbol)``\n",
    "- Het atoom kan 10 Angstrom in de x-richting verplaatst worden met de ``move``-functie door: ``Hatom.move(10.0, 0.0, 0.0)``\n",
    "\n",
    "Zoals je ziet is dit zeer gelijklopend met wat we voorheen gebruikten. Het hoofdzakelijke verschil zit in het feit dat de attributen en functies een onderdeel van een object zijn en met puntnotatie worden aangeroepen.\n",
    "\n",
    "In deze tutorial zagen we hier reeds eerder een voorbeeld van toen een string in hoofdletters werd uitgeschreven. Inderdaad, in python is een string een klasse welke verschillende methoden (=functies) bevat. Een lijst van deze methoden vond je bevoorbeeld [hier](https://www.w3schools.com/python/python_ref_string.asp). De meeste van deze zal je zelden gebruiken, de volgende daarentegen zal je snel ontdekken, kunnen zeer handige tools zijn: ``count, find, join, replace, strip, split``. Het interessante hierbij is dat deze functies vaak een string als resultaat teruggeven zodat je verschillende opperaties kan combineren."
   ]
  },
  {
   "cell_type": "code",
   "execution_count": 27,
   "id": "38702e0b",
   "metadata": {
    "ExecuteTime": {
     "end_time": "2023-01-30T12:20:46.484855Z",
     "start_time": "2023-01-30T12:20:46.471246Z"
    }
   },
   "outputs": [
    {
     "data": {
      "text/plain": [
       "'Hello world, this is me.'"
      ]
     },
     "execution_count": 27,
     "metadata": {},
     "output_type": "execute_result"
    }
   ],
   "source": [
    "LS = [\"Hello\",\"World!\",\"This\",\"Is\",\"Me.\"]\n",
    "s1 = \" \" #een string met 1 spatie\n",
    "s1.join(LS).lower().replace(\"!\",\",\").capitalize()"
   ]
  },
  {
   "cell_type": "markdown",
   "id": "d123bfcb",
   "metadata": {},
   "source": [
    "**_Doe-opdracht:_**<br/>\n",
    "1. Waarom is s1 een string met 1 spatie in bovenstaande code? Wat gebeurt er als je deze spatie verwijdert of vervangt door een ander karakter, of zelfs een stukje tekst.\n",
    "2. Ga voor de verschillende functies na wat ze met de string doen, en begrijp hoe je aan het eindresultaat komt.\n",
    "3. Pas de code aan om de string op te splitsen in aparte woorden."
   ]
  },
  {
   "cell_type": "markdown",
   "id": "e321cc17",
   "metadata": {},
   "source": [
    "---\n",
    "Binnen deze tutorials gaan we niet dieper in op het creëren van klassen en objecten, dit is materiaal voor meer geavanceerde tutorials. Hier is het enkel van belang te weten wat een klasse/object is, wat de puntnotatie inhoudt en hoe functies in objecten ingebed kunnen zijn. Dit laatste is vooral van belang bij het latere gebruik van bibliotheken. Het staat de geïntereseerde lezer natuurlijk vrij om zichzelf verder in dit onderwerp te verdiepen. Handige bronnen zijn [de python docs](https://docs.python.org/3/tutorial/classes.html), [w3schools](https://www.w3schools.com/python/python_classes.asp), ..."
   ]
  },
  {
   "cell_type": "markdown",
   "id": "aa14a07c",
   "metadata": {},
   "source": [
    "## 1.4. Workflow in een Notebook ##\n",
    "\n",
    "In een programma of script, worden de regels met commando's uitgevoerd in de volgorde dat deze opgeschreven staan. Door gebruik te maken van functies, wordt deze volgorde aangepast. Het programma verspringt dan naar naar de codeblock met commando's in de functie om daarna verder te gaan met de commandoregels van het script. Dit geeft een eerste vorm van niet-lineariteit aan programmeren, en het volgen van de processflow kan vrij complex worden door het heen en weer springen tussen functies.\n",
    "\n",
    "Wanneer we gebruik maken van een notebook zoals deze is er nog een aspect dat niet over het hoofd mag worden gezien: **de uitvoervolgorde van de cellen**. In een notebook dien je het uitvoeren van de cellen te zien als het achter elkaar plakken van stukken code in de volgorde dat je de cellen uitvoert. Dit kan soms ongewenste resultaten met zich meebrengen indien je cellen meerdere keren uitvoert, of niet in de volgorde zoals ze in het notebook staan. De wortel van het probleem bevind zich in het hergebruik van variabelen. Variabelen zullen immers de waarde hebben welke ze bekomen hebben als gevolg van de uitvoervolgorde in het notebook. De cellen hieronder geven een vereenvoudigd voorbeeld om te tonen wat er aan de hand is. In praktische gevallen is het vaak veel moeilijker te zien of een dergelijke situatie zich voordoet.\n",
    "\n"
   ]
  },
  {
   "cell_type": "code",
   "execution_count": 28,
   "id": "7fb33f3a",
   "metadata": {
    "ExecuteTime": {
     "end_time": "2023-01-30T12:51:23.053811Z",
     "start_time": "2023-01-30T12:51:23.031481Z"
    }
   },
   "outputs": [],
   "source": [
    "Myvar = \"Dit is een variabele welke we zullen manipuleren\""
   ]
  },
  {
   "cell_type": "code",
   "execution_count": 33,
   "id": "97b4c32d",
   "metadata": {
    "ExecuteTime": {
     "end_time": "2023-01-30T12:54:12.746464Z",
     "start_time": "2023-01-30T12:54:12.392340Z"
    }
   },
   "outputs": [
    {
     "ename": "TypeError",
     "evalue": "unsupported operand type(s) for +: 'int' and 'str'",
     "output_type": "error",
     "traceback": [
      "\u001b[1;31m---------------------------------------------------------------------------\u001b[0m",
      "\u001b[1;31mTypeError\u001b[0m                                 Traceback (most recent call last)",
      "Input \u001b[1;32mIn [33]\u001b[0m, in \u001b[0;36m<cell line: 1>\u001b[1;34m()\u001b[0m\n\u001b[1;32m----> 1\u001b[0m Myvar \u001b[38;5;241m=\u001b[39m \u001b[43mMyvar\u001b[49m\u001b[38;5;241;43m+\u001b[39;49m\u001b[38;5;124;43m\"\u001b[39;49m\u001b[38;5;124;43m door er iets aan toe te voegen.\u001b[39;49m\u001b[38;5;124;43m\"\u001b[39;49m\n\u001b[0;32m      2\u001b[0m \u001b[38;5;28mprint\u001b[39m(Myvar)\n",
      "\u001b[1;31mTypeError\u001b[0m: unsupported operand type(s) for +: 'int' and 'str'"
     ]
    }
   ],
   "source": [
    "Myvar = Myvar+\" door er iets aan toe te voegen.\"\n",
    "print(Myvar)"
   ]
  },
  {
   "cell_type": "code",
   "execution_count": 30,
   "id": "d6b7576c",
   "metadata": {
    "ExecuteTime": {
     "end_time": "2023-01-30T12:52:57.964516Z",
     "start_time": "2023-01-30T12:52:57.956537Z"
    }
   },
   "outputs": [],
   "source": [
    "Myvar = \"VERRASSING!!\"\n",
    "#voer na deze cel de cel hierboven terug uit"
   ]
  },
  {
   "cell_type": "code",
   "execution_count": 32,
   "id": "1023ead7",
   "metadata": {
    "ExecuteTime": {
     "end_time": "2023-01-30T12:54:09.558533Z",
     "start_time": "2023-01-30T12:54:09.544572Z"
    }
   },
   "outputs": [],
   "source": [
    "Myvar = 77\n",
    "# Gezien datatypes niet vastliggen mag dit. Dit is geen abnormale situatie, \n",
    "# soms wil je een variabele met een ander doel hergebruiken.\n",
    "#Voer na deze cel de cel twee cellen hierboven nogmaals uit/"
   ]
  },
  {
   "cell_type": "markdown",
   "id": "c2ea1be2",
   "metadata": {},
   "source": [
    "Zoals je hierboven hebt kunnen ervaren kan dit voor verrassingen zorgen welke misschien niet direct opvallen, of voor onverwachtte crashes van je script zorgen. Let dus telkens goed op, op de volgorde van de cellen. En wanneer je een variabele hergebruikt, zorg er dan zeker voor dat je deze initialiseert (*i.e.* een startwaarde geeft) zodat deze niet per ongeluk een waarde van een voorgaande run bevat of van een totaal andere toepassing in een andere cel. **Merk op:** variabelen welke in een codeblok van een **functie** worden gedefinieerd zijn enkel daar beschikaar (zoals eerder gezien), en vallen hier buiten. Anderszijds is het good practice niet dezelfde variabele namen binnen en buiten een functie te gebruiken in eenzelfde omgeving om verwarring te vermijden."
   ]
  },
  {
   "cell_type": "markdown",
   "id": "2b4e9e1d",
   "metadata": {},
   "source": [
    "# 2. Basis bibliotheken #\n",
    "\n",
    "Bij het programmeren, zeker in talen zoals python, is het de bedoeling het wiel niet telkens opnieuw uit te vinden. Nuttige functies zijn in tal van bibliotheken te vinden, en misschien schrijf jij ooit zelf je eigen bibliotheek (gericht op een specifieke analyse centraal in je onderzoek) en deel je deze onderzoekers in je vakgebied.\n",
    "\n",
    "Je zal merken dat binnen het python ecosysteem er meestal meerdere manieren zijn om dezelfde taak uit te voeren. Welke het beste geschikt is voor jou doeleinden hangt van verschillende aspecten af. Dit kan gaan over efficiëntie, maar ook over compatibiliteit met de rest van je script, of gewoon eigen ervaring met de bibliotheek in kwestie. Om enkele interessante zaken uit te kunnen voeren met een bibliotheek zullen we eerst een databestand inlezen. Dit bestand is een csv-file waarin kwantummechanisch berekende energiën en vollumes te vinden zijn voor kristallijn lactosemonohydraat. Dit is een melksuiker dat in de voedings en geneesmiddelenindustrie uitgebreid gebruikt wordt. Het bestand is te vinden in de datamap van dit github repo: [https://github.com/DannyVanpoucke/PythonTutorials/blob/main/data/LMH_2H2O_EVdata.csv](https://github.com/DannyVanpoucke/PythonTutorials/blob/main/data/LMH_2H2O_EVdata.csv)\n",
    "\n",
    "Er zijn verschillende manieren waarop dit bestand ingelezen kan worden. Hier zullen we gebruik maken van de mogelijkheden van de numpy bibliotheek."
   ]
  },
  {
   "cell_type": "markdown",
   "id": "e5ed175c",
   "metadata": {},
   "source": [
    "## 2.1. Numpy ##\n",
    "\n",
    "De **[Numpy](https://numpy.org/)** bibliotheek is een breed gebruikte bibiotheek waar je wiskundige tools vindt, onder andere om met multi-dimensionele matrices te werken. Deze bibliotheek is een zodanig basisonderdeel van het wetenschappelijk python ecosysteem dat code voorbeelden vaak impliciet aannemen dat iedereen **np** herkent (en erkent) als standaard verwijzing naar de numpy bibliotheek. Hoewel een bibiotheek klassen kan bevatten, is de opmaak en het gebruik van functies in een bibliotheek vergelijkbaar aan deze van een klasse: de puntnotatie.\n",
    "\n",
    "Het inlezen van een tekstbestand met numpy gebeurt via de **[genfromtxt](https://numpy.org/doc/stable/reference/generated/numpy.genfromtxt.html)** functie. Twee manieren om deze functie te gebruiken in je eigenscript zijn \n",
    "1. Expliciet importeren van de functie uit de numpy bibliotheek\n",
    "```python\n",
    "   from numpy import genfromtxt\n",
    "   dataset = genfromtxt('databestand.csv', delimiter=',')\n",
    "```\n",
    "De eerste regel geeft hierbij aan de we uit de *numpy*-bibliotheek de *genfromtxt*-functie willen importeren.  Vanaf dit punt is deze functie bekend, net zoals je eigen gedefinieerde functies. Op de tweede regel stellen we de variabele *dataset* gelijk aan het resultaat uit het ingelezen bestand, waarbij we hebben aangegeven dat onze waarden met een komma gescheiden zijn.\n",
    "2. Gebruik als functie van de bibliotheek\n",
    "```python\n",
    "   import numpy as np\n",
    "   dataset = np.genfromtxt('databestand.csv', delimiter=',')\n",
    "```\n",
    "In dit tweede geval wordt de bibliotheek ingeladen onder aan pseudoniem-naam (**np**) en wordt de functie aangeroepen als onderdeel van deze bibliotheek. Het deel ``as np`` op de eerste regel had weggelaten kunnen worden. In dat geval zou op de tweede regel ``dataset = numpy.genfromtxt('databestand.csv', delimiter=',')`` moeten staan. De keuze om een pseudoniem-naam te gebruiken om minder typewerk te moeten verrichten."
   ]
  },
  {
   "cell_type": "code",
   "execution_count": 41,
   "id": "835f883d",
   "metadata": {
    "ExecuteTime": {
     "end_time": "2023-01-30T13:40:02.280719Z",
     "start_time": "2023-01-30T13:40:02.266719Z"
    }
   },
   "outputs": [
    {
     "name": "stdout",
     "output_type": "stream",
     "text": [
      "[[-563.69135    -557.54143331  728.                   nan]\n",
      " [-563.72001    -557.61339374  733.                   nan]\n",
      " [-563.7436     -557.68012593  738.                   nan]\n",
      " [-563.76333    -557.74773141  743.63915              nan]\n",
      " [-563.77521    -557.79619072  748.                   nan]\n",
      " [-563.78401    -557.84630185  753.                   nan]\n",
      " [-563.78869    -557.89162391  758.                   nan]\n",
      " [-563.79039    -557.93327363  763.                   nan]\n",
      " [-563.78724    -557.96951666  768.                   nan]\n",
      " [-563.78155    -558.00260931  773.                   nan]\n",
      " [-563.77118    -558.03043521  778.                   nan]\n",
      " [-563.75714    -558.05410002  783.                   nan]\n",
      " [-563.74191    -558.07588841  788.                   nan]]\n"
     ]
    }
   ],
   "source": [
    "from numpy import genfromtxt\n",
    "\n",
    "#dataset = genfromtxt('https://github.com/DannyVanpoucke/PythonTutorials/blob/main/data/LMH_2H2O_EVdata.csv', delimiter=',')\n",
    "dataset = genfromtxt('../data/LMH_2H2O_EVdata.csv', delimiter=',')\n",
    "print(dataset)"
   ]
  },
  {
   "cell_type": "markdown",
   "id": "c1263093",
   "metadata": {},
   "source": [
    "In het csv-bestand zijn 4 kolomen terug te vinden. De eerste bevat de totale energie (in eV) met van der Waals correctie, de tweede zonder van der Waals correctie, de derde kolom bevat de volumes (in &Aring;$^3$), en de vierde kolom bevat externe druk in kilobar. De ingelezen 2D matrix geeft mooi de data weer uit het bestand. Er is echter iets vreemd aan de hand met de vierde kolom. Bekijk het [csv-bestand](https://github.com/DannyVanpoucke/PythonTutorials/blob/main/data/LMH_2H2O_EVdata.csv) rechtstreeks, en probeer in te zien wat het probleem is voor je verder leest.\n",
    "\n",
    "Zoals je online kan zien, bevat de vierde kolom steeds een waarde gevolgd door *kB*. Numpy is gericht op numerieke data. Python daarentegen zal, gezien deze kolom zowel cijfers als letters bevat, dit automatisch als string herkennen. De omzetting naar een getal loopt mis, waardoor numpy **nan** (*Not a Number*) als resultaat weergeeft. We zullen later zien hoe je deze data toch kan inladen als tabel met behulp van de ***pandas*** bibliotheek.\n",
    "\n",
    "De data uit het CSV bestand bevindt zich nu in een 2D matrix. De dimensies van deze matrix vinden we door gebruik te maken van het ``shape``-attribuut "
   ]
  },
  {
   "cell_type": "code",
   "execution_count": 43,
   "id": "74970107",
   "metadata": {
    "ExecuteTime": {
     "end_time": "2023-01-30T16:59:35.417609Z",
     "start_time": "2023-01-30T16:59:35.108747Z"
    }
   },
   "outputs": [
    {
     "data": {
      "text/plain": [
       "(13, 4)"
      ]
     },
     "execution_count": 43,
     "metadata": {},
     "output_type": "execute_result"
    }
   ],
   "source": [
    "dataset.shape"
   ]
  },
  {
   "cell_type": "markdown",
   "id": "43002739",
   "metadata": {},
   "source": [
    "Dit toont dat er 13 rijen met 4 kolomen aanwezig zijn. De eerste index van de numpy matrix kan dus waarden van 0 tot en met 12 aannemen, terwijl de tweede waarden van 0 tot en met 3 kan aannemen. Stukken (of **slices**) van een matrix kunnen afgebakend worden in dezelfde indexnotatie."
   ]
  },
  {
   "cell_type": "code",
   "execution_count": 46,
   "id": "5309bb0a",
   "metadata": {
    "ExecuteTime": {
     "end_time": "2023-01-30T17:03:35.285443Z",
     "start_time": "2023-01-30T17:03:35.273840Z"
    }
   },
   "outputs": [
    {
     "name": "stdout",
     "output_type": "stream",
     "text": [
      "Het eerste element van de eerste rij:  -563.69135\n",
      "De eerste rij                       :  [-563.69135    -557.54143331  728.                   nan]\n",
      "De eerste kolom                     :  [-563.69135 -563.72001 -563.7436  -563.76333 -563.77521 -563.78401\n",
      " -563.78869 -563.79039 -563.78724 -563.78155 -563.77118 -563.75714\n",
      " -563.74191]\n"
     ]
    }
   ],
   "source": [
    "print(\"Het eerste element van de eerste rij: \",dataset[0,0])\n",
    "print(\"De eerste rij                       : \",dataset[0])\n",
    "print(\"De eerste kolom                     : \",dataset[:,0])"
   ]
  },
  {
   "cell_type": "markdown",
   "id": "f39d7c9c",
   "metadata": {},
   "source": [
    "Kijk je terug naar de output van de volledige matrix, dan merk je op dat elke rij weergegeven wordt als één lijst (een set elementen tussen ``[ ]``). Elke rij is dus zelf één element in een lijst van van rijen (de buitenste set van ``[ ]``). Het weergeven van de eerste rij is dus niet anders dan het weergeven van het eerste element van deze lijst, vandaar dat één index volstaat in dit geval. Willen we een kolom weergeven, dan is dit telkens één element uit elk rij-element. Dus voor de eerste kolom is dit het element met index 0 van elk rijelement. Om elke rij aan te duiden maken we gebruik van een **slice**. Dit is een begin en eind-index gescheiden door een dubbele punt: ``a:b``. Laten we één of beide eindpunten weg dan betekent dit dat voor de weggelaten zijde het volledige rest van de reeks gebruikt wordt. \n",
    "- ``a:b``: alle elementen van index a tot index b-1 (python neemt nooit de eindgrens mee)\n",
    "- ``a: ``: alle elementen startende bij index a\n",
    "- `` :b``: alle elementen tot index b-1\n",
    "- `` : ``: alle elementen"
   ]
  },
  {
   "cell_type": "code",
   "execution_count": 53,
   "id": "5d4e6cc7",
   "metadata": {
    "ExecuteTime": {
     "end_time": "2023-01-30T17:14:24.411480Z",
     "start_time": "2023-01-30T17:14:24.404293Z"
    }
   },
   "outputs": [
    {
     "data": {
      "text/plain": [
       "array([-563.69135   , -557.54143331,  728.        ])"
      ]
     },
     "execution_count": 53,
     "metadata": {},
     "output_type": "execute_result"
    }
   ],
   "source": [
    "dataset[0,:3]"
   ]
  },
  {
   "cell_type": "code",
   "execution_count": null,
   "id": "d8350ff2",
   "metadata": {},
   "outputs": [],
   "source": []
  }
 ],
 "metadata": {
  "kernelspec": {
   "display_name": "Python 3 (ipykernel)",
   "language": "python",
   "name": "python3"
  },
  "language_info": {
   "codemirror_mode": {
    "name": "ipython",
    "version": 3
   },
   "file_extension": ".py",
   "mimetype": "text/x-python",
   "name": "python",
   "nbconvert_exporter": "python",
   "pygments_lexer": "ipython3",
   "version": "3.9.13"
  },
  "latex_envs": {
   "LaTeX_envs_menu_present": true,
   "autoclose": false,
   "autocomplete": true,
   "bibliofile": "biblio.bib",
   "cite_by": "apalike",
   "current_citInitial": 1,
   "eqLabelWithNumbers": true,
   "eqNumInitial": 1,
   "hotkeys": {
    "equation": "Ctrl-E",
    "itemize": "Ctrl-I"
   },
   "labels_anchors": false,
   "latex_user_defs": false,
   "report_style_numbering": false,
   "user_envs_cfg": false
  }
 },
 "nbformat": 4,
 "nbformat_minor": 5
}
