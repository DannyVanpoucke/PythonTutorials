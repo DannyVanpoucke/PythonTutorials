{
 "cells": [
  {
   "cell_type": "markdown",
   "id": "a6f7f846",
   "metadata": {},
   "source": [
    "# Gestructureerd programmeren in python #\n",
    "Welkom bij deze tutorial reeks over python voor studenten Chemie. \n",
    "\n",
    "In deze reeks tutorials maak je kennis met **python** als tool voor **data-analyse en-visualisatie**. Je leert de *basisconcepten kennen* van deze programmeertaal en doet eerste *praktische ervaring* op. Bij het opstellen van deze tutorials zijn we er van uit gegaan dat je geen praktische voorkennis in python of programmeren in het algemeen hebt. Indien dit toch het geval zou zijn, zullen de eerste notebooks uitermate eenvoudig zijn. Gezien het beperkte tijdsbestek zijn er ook keuzes gemaakt met betrekking tot de onderwerpen welke aan bod komen en hun uitdieping. Wens je meer over een bepaald onderwerp te leren dan zijn er voldoende online bronnen beschikbaar om via zelfstudie de nodige uitdieping te bekomen. \n",
    "\n",
    "Met het oog op het zo laagdrempelig mogelijk houden van deze tutorials, maken we gebruik van __*Jupyter notebooks*__ zoals deze. Het is de bedoeling dat je deze notebooks uitvoert en aanpast waar gevraagd. Dit laatste doe je op je eigen *google drive* waar je de tutorials gebruikt in de vorm van *google colaboratory* documenten. Indien je dit nog niet gedaan hebt, lees dan eerst [00_PythonInstallatie.md](https://github.com/DannyVanpoucke/PythonTutorials/blob/main/Tutorials_nl/00_PythonInstallatie.md), waarbij je **puntje 1.1.** uitvoert.\n",
    "\n",
    "Dit is de tweede tutorial in een reeks, en bouwt verder op de reeds opgedane kennis tijdens de [eerste turorial](https://github.com/DannyVanpoucke/PythonTutorials/blob/main/Tutorials_nl/01_IntroPython.ipynb). We raden dan ook aan deze eerdere tutorial te doorlopen voor je aan deze begint.\n",
    "\n",
    "In dit tweede notebook beginnen we met het construeren van grotere stukken code met het oog op het creëren van een gestructureerd geheel. We bekijken ook het gebruik van bibliotheken en leren omgaan met de helpfunctie.\n",
    "\n",
    "## Inhoudstafel ##\n",
    "1. [Functies als programmaonderdeel](#1.-Functies-als-programmaonderdeel)<br/>\n",
    "   1.1. [Individuele functies](#1.1.-Individuele-functies)<br/>\n",
    "   1.2. [Functieresultaten](#1.2.-Functieresultaten)<br/>\n",
    "   1.3. [Methods: functies in een klasse (basis)](#1.3.-Methods:-functies-in-een-klasse)<br/>\n",
    "   1.4. [Workflow in een notebook](#1.4.-Workflow-in-een-Notebook)<br/>\n",
    "2. [Basis bibliotheken](#2.-Basis-bibliotheken)<br/>\n",
    "   2.1. [Numpy](#2.1.-Numpy)<br/>\n",
    "   2.2. [helpfunctie](#2.2.-Helpfunctie)<br/>\n",
    "   2.3. [Random en Math](#2.3.-Random-&-Math)<br/>\n",
    "   2.4. [Plotten met Matplotlib](#2.4.-Plotten-met-Matplotlib)<br/>"
   ]
  },
  {
   "cell_type": "markdown",
   "id": "14adbed7",
   "metadata": {},
   "source": [
    "<a name=\"1.-Functies-als-programmaonderdeel\"> </a><!-- this additional tag is needed for colaboratory to work in a copy-->\n",
    "# 1. Functies als programmaonderdeel #\n",
    "\n",
    "In de [voorgaande tutorial](https://github.com/DannyVanpoucke/PythonTutorials/blob/main/Tutorials_nl/01_IntroPython.ipynb) maakten je kennis met de basisaspecten van het programmeren in python. Je weet intussen wat een variabele is en hoe je operaties tussen variabelen uitvoert. Je leerde ook dat er controlestructuren bestaan zoals *for*-lussen en *if-else*-constructies. Je zou nu telkens opnieuw dezelfde code kunnen intypen, elke keer je een vergelijkbare opdracht of bewerking wenst uit te voeren. Dit is echter dubbel werk. \n",
    "\n",
    "<a name=\"1.1.-Individuele-functies\"> </a><!-- this additional tag is needed for colaboratory to work in a copy-->\n",
    "## 1.1. Individuele functies ##\n",
    "In programmeertalen zoals python is het daarom mogelijk om **herbruikbare stukken code** te groeperen in wat een ***functie*** wordt genoemd. In het voorgaande maakt je reeds kennis met enkele ingebouwde functies van python zelf: ``print``, ``type`` en ``range``. Het is echter ook mogelijk om zelf een functie te creëren. De verschillende aspecten van een functie zullen we bekijken aan de hand van een eenvoudige functie welke twee getallen bij elkaar dient op te tellen."
   ]
  },
  {
   "cell_type": "code",
   "execution_count": null,
   "id": "9a703882",
   "metadata": {
    "ExecuteTime": {
     "end_time": "2024-10-31T17:38:05.623565Z",
     "start_time": "2024-10-31T17:38:05.618577Z"
    }
   },
   "outputs": [],
   "source": [
    "def telop(arg1,arg2):\n",
    "    # Net zoals bij een controlestructuur dienen we hier een inspringing te gebruiken om aan te geven dat \n",
    "    # het codeblok samen hoort.\n",
    "    resultaat = arg1 + arg2\n",
    "    return resultaat"
   ]
  },
  {
   "cell_type": "markdown",
   "id": "5d888620",
   "metadata": {},
   "source": [
    "Merk eerst en vooral op dat bij het uitvoeren van de bovenstaande cel *niets gebeurt*. Inderdaad, er wordt geen berekening uitgevoerd, dus dient er geen resultaat weergegeven te worden. De functie wordt pas uitgevoerd op het moment dat deze wordt aangeroepen.\n",
    "\n",
    "Het keyword ``def`` geeft aan dat dit een functiedefinitie is. De naam van de functie is *telop*, en deze functie heeft twee argumenten (**``arg1``** en **``arg2``**) nodig. Binnen het codeblok van de functie zijn dit variabelen waarmee gewerkt kan worden. De tekst voorafgegaan door het **``#``**-symbool is **commentaar**, en wordt als dusdanig niet gelezen door de computer. Binnen in het codeblok, dat we laten inspringen, definiëren we een nieuwe variabele **``resultaat``**, welke we gelijk stellen aan de som van de twee argumenten. **De drie variabelen bestaan enkel *lokaal* binnen het codeblok.** Indien je een print opdracht buiten het codeblok deze variabelen wil laten uitschrijven gaat het mis.(*Probeer dit in de bovenstaande cel. Vergeet niet dat de printopdracht niet mag inspringen, anders wordt deze een deel van het codeblok van de functie.*)\n",
    "\n",
    "Hoewel het codeblok in dit geval maar twee regels beslaat, staat er geen grens op de lengte van een functie, noch op de inhoud. Alles wat toegelaten code is binnen een normaal programma kan ook in het codeblok van een functie voorkomen.\n",
    "\n",
    "Het resultaat van de som wordt teruggegeven met behulp van het **``return``** keyword. Indien een functie een opdracht of bewerking uitvoert waarbij het niet nodig is dat er een resultaat wordt teruggegeven, dan zal er geen return-regel aanwezig zijn. Bij dit laatste kun je bijvoorbeeld denken aan een functie die resultaten omzet in een specifiek opgemaakte afbeelding. Hoewel er geen return statement nodig is in het voorgaande voorbeeld, is het wel aangeraden deze te gebruiken om bijvoorbeeld foutboodschappen terug te geven.\n",
    "\n",
    "*De bovenstaande functie kan nu zo vaak aangeroepen worden als we maar willen. Dit kan op verschillende manieren.*\n",
    "1.  **Zonder toekenning van het resultaat.**"
   ]
  },
  {
   "cell_type": "code",
   "execution_count": null,
   "id": "f044c41c",
   "metadata": {
    "ExecuteTime": {
     "end_time": "2024-10-31T17:38:05.638526Z",
     "start_time": "2024-10-31T17:38:05.628553Z"
    }
   },
   "outputs": [],
   "source": [
    "# Indien dit de laatste opdracht van een cel is zal het resultaat naar de output worden geschreven. \n",
    "#   (Of als je alle output laat uitschrijven, zoals gezien in de eerste tutorial, kan dat ook indien meerdere zaken \n",
    "#    naar de output worden gezonden.)\n",
    "telop(10,5)    "
   ]
  },
  {
   "cell_type": "markdown",
   "id": "d74353df",
   "metadata": {},
   "source": [
    "2. **Met toekenning van het resultaat.**"
   ]
  },
  {
   "cell_type": "code",
   "execution_count": null,
   "id": "e82789cc",
   "metadata": {
    "ExecuteTime": {
     "end_time": "2024-10-31T17:38:05.653518Z",
     "start_time": "2024-10-31T17:38:05.641516Z"
    }
   },
   "outputs": [],
   "source": [
    "som=telop(10,5)\n",
    "print(\"De som is \",som)"
   ]
  },
  {
   "cell_type": "markdown",
   "id": "d1e18b7a",
   "metadata": {},
   "source": [
    "3. **Met variabelen als argumenten**"
   ]
  },
  {
   "cell_type": "code",
   "execution_count": null,
   "id": "50ea979e",
   "metadata": {
    "ExecuteTime": {
     "end_time": "2024-10-31T17:38:05.668444Z",
     "start_time": "2024-10-31T17:38:05.657475Z"
    }
   },
   "outputs": [],
   "source": [
    "var1=5\n",
    "var2=3\n",
    "print(\"Beide variabelen ->\",telop(var1,var2))\n",
    "print(\"Combinate met 1 variabele ->\",telop(var1,7),\" of \",telop(3.14,var1))\n",
    "som=telop(var1,var2)\n",
    "print(\"Beide variabelen & toekenning ->\",som)"
   ]
  },
  {
   "cell_type": "markdown",
   "id": "936231ec",
   "metadata": {},
   "source": [
    "4. **Met onverwachte argumenten**"
   ]
  },
  {
   "cell_type": "code",
   "execution_count": null,
   "id": "ff00d4a3",
   "metadata": {
    "ExecuteTime": {
     "end_time": "2024-10-31T17:38:05.683438Z",
     "start_time": "2024-10-31T17:38:05.671436Z"
    }
   },
   "outputs": [],
   "source": [
    "var1=[1,2,3]\n",
    "var2=[66,5,9]\n",
    "print(\"Beide variabelen lijsten->\",telop(var1,var2))\n",
    "\n",
    "var1=\"Hello \"\n",
    "var2=\"World!\"\n",
    "print(\"Beide variabelen strings->\",telop(var1,var2))"
   ]
  },
  {
   "cell_type": "markdown",
   "id": "d4cd7ea7",
   "metadata": {},
   "source": [
    "Tegen de verwachting in crasht de functie niet, hoewel de gegeven input helemaal niet voldoet aan het originele doel dat we voor ogen hadden; namelijk het optellen van getallen. In tegenstelling tot vele andere programmeertalen dient **in python de functiedefinitie niet expliciet aan te geven wat het datatype van de argumenten is**. Python maakt gebruik van zogenaamd **duck typing**, hierbij is het type object niet van belang. Het enige wat van belang is, is of het bepaalde (verwachtte) eigenschappen en/of functies heeft. In het bovenstaande geval betekent dit dat alle soorten objecten waarvoor de ``+``-operator een zinvolle betekenis heeft (en geïmplementeerd is), een resultaat zal opleveren. We kunnen met onze eenvoudige functie dus ook strings en lijsten samenvoegen. \n",
    "\n",
    "Dit is een zeer krachtig aspect van python, maar kan het leven van de programmeur ook flink lastig maken, gezien de taak nu op hem/haar valt om ervoor te zorgen dat de functie veilig kan omgaan met wat de gebruiker als input aanlevert, ook als is dat totaal onredelijk. Bij het vervolg van deze tutorials zullen we er echter steeds van uitgaan dat we niet te maken hebben met onredelijke gebruikers. We laten het beveiligen van functies tegen onzinnige input als gevorderd onderwerp voor verdere zelfstudie. Binnen dezelfde context kun je je ook de vraag stellen of het niet interessant zou zijn indien we zouden kunnen aangeven welke input “gewenst” is. Al was het maar om onszelf te helpen bij een groter langlopend project. Je zou hiervoor commentaar kunnen gebruiken, maar er is ook de professionelere optie om ***[type hints](https://docs.python.org/3/library/typing.html)*** te gebruiken. Zonder hier erg diep in te gaan op alle opties, focussen we op enkele zeer eenvoudige toepassingen die de leesbaarheid van een functie enorm kunnen vergroten. Toegepast op de **``telop``** functie, waarbij we uitgaan van kommagetallen (**``floats``**) krijgen we:"
   ]
  },
  {
   "cell_type": "code",
   "execution_count": null,
   "id": "dd6a94e6",
   "metadata": {
    "ExecuteTime": {
     "end_time": "2024-10-31T17:38:05.698364Z",
     "start_time": "2024-10-31T17:38:05.686396Z"
    }
   },
   "outputs": [],
   "source": [
    "def telop(arg1: float ,arg2: float) -> float :\n",
    "    # Net zoals bij een controlestructuur dienen we hier een inspringing \n",
    "    # te gebruiken om aan te geven dat \n",
    "    # het codeblok samen hoort.\n",
    "    resultaat = arg1 + arg2\n",
    "    return resultaat"
   ]
  },
  {
   "cell_type": "markdown",
   "id": "5268295c",
   "metadata": {},
   "source": [
    "Dit zal ons niet beletten om de functie aan te roepen met andere getaltypes, of zelfs andere datatypes, maar maakt het voor de gebruiker duidelijk wat verwacht wordt. Voor elk argument wort na een dubbel punt het verwachte type gegeven. Het verwachte resultaat van de functie schrijven we na de **``->``** en voor het **``:``**. Deze kleine aanpassing (en gewoonte) maakt alles een stuk overzichtelijker, zeker wanneer eigen complexe types en klassen gebruikt worden."
   ]
  },
  {
   "cell_type": "markdown",
   "id": "dc05bdb8",
   "metadata": {},
   "source": [
    "<a name=\"1.2.-Functieresultaten\"> </a><!-- this additional tag is needed for colaboratory to work in a copy-->\n",
    "## 1.2. Functieresultaten ##\n",
    "Het resultaat van de functie *telop* wordt teruggegeven met behulp van het ``return``-keyword (zie hieronder).\n",
    "\n",
    "```python\n",
    "def telop(arg1: float,arg2: float)->float:\n",
    "    resultaat = arg1 + arg2\n",
    "    return resultaat\n",
    "```\n",
    "Als gevolg van het **duck typing** van python zal het datatype van *resultaat* hetzelfde zijn als van de argumenten *arg1* en *arg2*. Het resultaat dat door de functie wordt teruggegeven kan direct gebruikt worden (*e.g.* in een ``print`` functie) of toegekend aan een andere variabele (*e.g.* ``som = telop(1,2)``).\n",
    "\n",
    "In python is het ook mogelijk meerdere resultaten terug te geven vanuit een functie. Een voorbeeld wordt hieronder gegeven.\n",
    "```python\n",
    "def bewerk(arg1: float,arg2: float)->tuple:\n",
    "    res_som = arg1 + arg2\n",
    "    res_verschil = arg1 - arg2\n",
    "    return res_som, res_verschil \n",
    "```\n",
    "Deze resultaten kunnen opnieuw aan een nieuwe variabele toegekend worden. Het datatype is dan echter niet meer dat van de invoerargumenten. "
   ]
  },
  {
   "cell_type": "code",
   "execution_count": null,
   "id": "a2d5e160",
   "metadata": {
    "ExecuteTime": {
     "end_time": "2024-10-31T17:38:05.713323Z",
     "start_time": "2024-10-31T17:38:05.700361Z"
    }
   },
   "outputs": [],
   "source": [
    "def bewerk(arg1: float,arg2: float)->tuple:\n",
    "    res_som = arg1 + arg2\n",
    "    res_verschil = arg1 - arg2\n",
    "    return res_som, res_verschil \n",
    "\n",
    "res = bewerk(5,3)\n",
    "print(\"Het datatype van res is \",type(res))"
   ]
  },
  {
   "cell_type": "markdown",
   "id": "2566c520",
   "metadata": {},
   "source": [
    "---\n",
    "Het **tuple** datatype is één van de vier ingebouwde datatypes in python welke een ***collectie*** van data kan bevatten. Deze verschillen in het feit of ze geordend en veranderlijk zijn, en of ze dubbele waarden toelaten.\n",
    "\n",
    "- **geordend**: de elementen van de collectie komen in een vaste volgorde voor. Je kan element met een index opzoeken.\n",
    "- **veranderlijk**: de elementen van de collectie en de collectie kunnen aangepast worden zonder dat hiervoor een nieuw object wordt gecreëerd.\n",
    "- **duplicaten**: meerdere elementen kunnen dezelfde waarde hebben.\n",
    "\n",
    "\n",
    "| type | geordend | veranderlijk | duplicaten | weergave | voorbeeld |\n",
    "|------|:--------:|:------------:|:----------:|:--------:|:----------|\n",
    "| list |  Y | Y | Y | ``[ ]``  | ``lijst=[12.5, 77, 3.14]``   |\n",
    "| tuple |  Y  | N  | Y | ``( )`` | ``tup=(12.5, 77, 3.14)``  |\n",
    "| set |  N  | N<sup>+</sup>  | N | ``{ }`` | ``set={'banaan', 'appel', 'peer'}``   |\n",
    "| dict | Y<sup>*</sup>  |  Y | N | ``{ }`` | ``wboek={ \"merk\":\"asus\", \"type\":\"RoG\", \"prijs\": 1699.99}``  |\n",
    "\n",
    "( <sup>+</sup> De elementen in een set kun je niet veranderen, maar je kan wel elementen toevoegen en verwijderen.<br/>\n",
    "  &nbsp;<sup>*</sup> Woordenboeken waren ongeordend, maar sinds python 3.7 zijn deze ook geordend)\n",
    "\n",
    "---\n",
    "De variabele **``res``** is dus een **``tuple``** welke de twee resultaten van de functie **``bewerk``** bevat. Deze kunnen individueel of als tuple uitgeschreven worden. Om de individuele elementen te gebruiken, kan gebruik worden gemaakt van de index van het gewenste element, ***waarbij het belangrijk is te onthouden dat python bij 0 begint te tellen***."
   ]
  },
  {
   "cell_type": "code",
   "execution_count": null,
   "id": "32217465",
   "metadata": {
    "ExecuteTime": {
     "end_time": "2024-10-31T17:38:05.728310Z",
     "start_time": "2024-10-31T17:38:05.716316Z"
    }
   },
   "outputs": [],
   "source": [
    "print(\"De resultaten als tuple zien er als volgt uit:\", res,\".\")\n",
    "print(\"Het resultaat van de eerste bewerking (som) is \",res[0],\".\")\n",
    "print(\"Het resultaat van de tweede bewerking (verschil) is \",res[1],\".\")"
   ]
  },
  {
   "cell_type": "markdown",
   "id": "eaf7645c",
   "metadata": {},
   "source": [
    "In het geval dat het resultaat van een functie een tuple is kan de toekenning ook gebeuren aan een reeks variabelen. Let wel op dat het aantal variabelen exact hetzelfde dient te zijn als het aantal elementen in het tuple."
   ]
  },
  {
   "cell_type": "code",
   "execution_count": null,
   "id": "1a56ea32",
   "metadata": {
    "ExecuteTime": {
     "end_time": "2024-10-31T17:38:05.743278Z",
     "start_time": "2024-10-31T17:38:05.733273Z"
    }
   },
   "outputs": [],
   "source": [
    "som, verschil = bewerk(88,12.99)\n",
    "print(\"De som is \",som,\".\")\n",
    "print(\"Het verschil is \",verschil,\".\")"
   ]
  },
  {
   "cell_type": "markdown",
   "id": "aa2c20c1",
   "metadata": {},
   "source": [
    "1. **Intermezzo: collectie-elementen aanroepen.**\n",
    "\n",
    "In het geval van geordende collecties (en woordenboeken) is het soms ook interessant de individuele elementen aan te kunnen roepen. Dit kan door de element op basis van hun index aan te geven. Dit index wordt steeds tussen **``[ ]``** weergegeven. In het geval van een tuple en een list ziet dit er gelijkaardig uit:\n"
   ]
  },
  {
   "cell_type": "code",
   "execution_count": null,
   "id": "fac95669",
   "metadata": {
    "ExecuteTime": {
     "end_time": "2024-10-31T17:38:05.758205Z",
     "start_time": "2024-10-31T17:38:05.745238Z"
    }
   },
   "outputs": [],
   "source": [
    "tupres = (12.5, 77, 3.14)\n",
    "listres = [12.5, 77, 3.14]\n",
    "print(\"Het derde element van een tuple vinden we via :\", tupres[2],\".\")\n",
    "print(\"Het eerste element van een lijst vinden we via :\",listres[0],\".\")"
   ]
  },
  {
   "cell_type": "markdown",
   "id": "f3a5d2c8",
   "metadata": {},
   "source": [
    "Een reeks opeenvolgde elementen kunnen ook geselecteerd worden. Dit wordt een slice genoemd (zie ook verder). Een slice wordt aangegeven door het eerste en laatste element (niet meegerekend). Indien de plaats van het eerste of laatste element niet is aangegeven wordt het begin, respectievelijk het einde van de collectie gebruikt.\n",
    "\n",
    "---\n",
    "***Opgelet voor verwarring:***\n",
    "Python start het tellen bij 0, dus het lijst element met “index=5” is het 6<sup>de</sup> element in de lijst. Omdat het laatste element van de slice niet wordt meegegeven zal ``[ :5]`` elementen met index 0 tot 4 geven, wat de eerste 5 elementen zijn. "
   ]
  },
  {
   "cell_type": "code",
   "execution_count": null,
   "id": "291234e8",
   "metadata": {
    "ExecuteTime": {
     "end_time": "2024-10-31T17:38:05.773165Z",
     "start_time": "2024-10-31T17:38:05.763192Z"
    }
   },
   "outputs": [],
   "source": [
    "listres = [12.5, 77, 3.14, 6.28, 0.25, 6.99, 42]\n",
    "print(\"Een slice van het 2de tot en met 5de element :\", listres[1:5],\".\")\n",
    "print(\"Een slice van met de eerste 3 elementen :\",listres[:3],\".\")"
   ]
  },
  {
   "cell_type": "markdown",
   "id": "a6b1031f",
   "metadata": {},
   "source": [
    "In python kan je lijsten ook achterwaarts doorlopen door gebruik te maken van negatieve indices, wat handig is als je niet exact weet hoe lang de lijst is. Meestal zal men het laatste element aanduiden als -1 in plaats van de werkelijke indexwaarde te gebruiken. "
   ]
  },
  {
   "cell_type": "code",
   "execution_count": null,
   "id": "fbb7f8f6",
   "metadata": {
    "ExecuteTime": {
     "end_time": "2024-10-31T17:38:05.788123Z",
     "start_time": "2024-10-31T17:38:05.775158Z"
    }
   },
   "outputs": [],
   "source": [
    "listres = [12.5, 77, 3.14, 6.28, 0.25, 6.99, 42]\n",
    "print(\"Het laatste element :\", listres[-1],\".\")\n",
    "print(\"Een slice met de drie laatste elementen:\", listres[-3:],\".\")"
   ]
  },
  {
   "cell_type": "markdown",
   "id": "5069d5ff",
   "metadata": {},
   "source": [
    "In het geval van een **woordenboek** worden de keys gebruikt als indices (waardoor het al dan niet geordend zijn minder van belang wordt)."
   ]
  },
  {
   "cell_type": "code",
   "execution_count": null,
   "id": "30ef119e",
   "metadata": {
    "ExecuteTime": {
     "end_time": "2024-10-31T17:38:05.803083Z",
     "start_time": "2024-10-31T17:38:05.791116Z"
    }
   },
   "outputs": [],
   "source": [
    "boekres = {\"boek\":\"Python syllabus\", \"auteur\":\"Vanpoucke\", \"prijs\":10.00 }\n",
    "print(\"Een element uit het woordenboek:\", boekres[\"boek\"],\".\")"
   ]
  },
  {
   "cell_type": "markdown",
   "id": "592c0f0c",
   "metadata": {},
   "source": [
    "**_Doe-opdracht:_**<br/>\n",
    "1. Stel zelf een functie op welke het product ($x\\times y$), quotiënt ($\\frac{x}{y}$) en de macht ($x^y$) van twee getallen bepaald.\n",
    "2. Voer deze functie uit met volgende input: $x=8, y=2$.\n",
    "   1. Schrijf het resultaat rechtstreeks uit door je functie in een print functie uit te voeren.\n",
    "   2. Ken je resultaat toe aan een tuple, en schrijf de drie individuele elementen uit.\n",
    "   3. Ken je resultaat toe aan drie variabelen en schrijf deze uit."
   ]
  },
  {
   "cell_type": "code",
   "execution_count": null,
   "id": "18e13063",
   "metadata": {
    "ExecuteTime": {
     "end_time": "2024-10-31T17:38:05.818046Z",
     "start_time": "2024-10-31T17:38:05.806076Z"
    }
   },
   "outputs": [],
   "source": [
    "# Voer hier de doe-opdracht uit\n",
    "#Hier komt de functie\n",
    "\n",
    "\n"
   ]
  },
  {
   "cell_type": "code",
   "execution_count": null,
   "id": "a8e785cb",
   "metadata": {
    "ExecuteTime": {
     "end_time": "2024-10-31T17:38:05.833067Z",
     "start_time": "2024-10-31T17:38:05.822035Z"
    }
   },
   "outputs": [],
   "source": [
    "# Voer hier de doe-opdracht uit\n",
    "#Hier gebruik je de functie en schrijf je resultaten uit\n",
    "\n",
    "\n",
    "\n",
    "\n"
   ]
  },
  {
   "cell_type": "markdown",
   "id": "77624bb9",
   "metadata": {},
   "source": [
    "<a name=\"1.3.-Methods:-functies-in-een-klasse\"> </a><!-- this additional tag is needed for colaboratory to work in a copy-->\n",
    "## 1.3. Methods: functies in een klasse ##\n",
    "\n",
    "Python is een **object georiënteerde programmeertaal**, wat betekent dat **objecten** een centrale rol spelen. Een object is *realisatie* van een klasse, of simpelweg, als je een klasse ziet als een complex datatype, dan is een object een ingevulde variabele van dat datatype. *De klasse kun je beschouwen als de uitgebreide definitie die zowel eigenschappen (**attributen**) als gedragingen (**methoden**) van een (al dan niet abstract) voorwerp beschrijft*. Hieronder is een voorbeeld van een python-klasse genaamd **``Atom``** gegeven :\n",
    "```python\n",
    "class Atom()\n",
    "    \"\"\"\n",
    "    Een simpel voorbeeld van een klasse met enkele attributen:\n",
    "       - Z : Atoomnummer (int)\n",
    "       - m : massa (float)\n",
    "       - x,y,z: coördinaten van het atoom (float)\n",
    "       - symbol: chemisch symbool (string) \n",
    "    \"\"\"\n",
    "    def __init__(self, Z, m, x, y, z, symbol):\n",
    "        ...In deze functie worden de attributen van het object geïnitialiseerd...\n",
    "        \n",
    "    def getZ(self):\n",
    "        \"\"\"\n",
    "        Functie welke het atoomnummer van het atoom geeft.\n",
    "        \"\"\"\n",
    "        return self.Z\n",
    "    \n",
    "    def move(self, dx,dy,dz):\n",
    "        \"\"\"\n",
    "        Functie welke, de coördinaten van het atoom aanpast.\n",
    "        \"\"\"\n",
    "        self.x = self.x+dx\n",
    "        self.y = self.y+dy\n",
    "        self.z = self.z+dz\n",
    "        \n",
    "    ...\n",
    "```\n",
    "\n",
    "Deze klasse bevat enkele **attributen**, dit zijn variabelen welke iets zeggen over het object. In tegenstelling tot programmeertalen zoals C++, Fortran of Pascal moeten deze nergens expliciet opgelijst worden. Een handige manier om mogelijke onduidelijkheden of verwarring te voorkomen is door deze zelf expliciet op te lijsten en te beschrijven in de commentaar die de klassebeschrijving bevat. Daarnaast kun je de attributen ook initialiseren (=eerste toewijzing van een waarde) in de **``__init__``** methode van de klasse.\n",
    "Naast attributen bevat een klasse ook functies die het gedrag beschrijven, deze noemen we **methoden**. In de Atom-klasse hierboven zijn **``__init__``**, **``getZ``**, en **``move``** drie voorbeelden van methoden. Om de attributen of methoden van een object (*e.g.*, stel dat Hatoom kan een object(=variabele) van de klasse Atom is) aan te roepen wordt er gebruik gemaakt van de **``.``**-notatie.\n",
    "- het chemisch symbool kan worden uitgeschreven door het attribuut ``symbol`` uit te schrijven: ``print(\"Atoomtype: \",Hatom.symbol)``\n",
    "- Het atoom kan 10 Ångström in de x-richting verplaatst worden met de ``move``-functie door: ``Hatom.move(10.0, 0.0, 0.0)``\n",
    "\n",
    "Dit gebruik van attributen en methoden is vrij gelijklopend aan het gebruik van variabelen en functies. Het belangrijkste verschil zit in het feit dat de attributen en methoden een onderdeel van een object zijn en met puntnotatie worden aangeroepen. Binnen de klasse zelf wordt de variabele **``self``** gebruikt om naar het object van de klasse te verwijzen. Wanneer **``self``** in de argumentenlijst van een methode voorkomt, dient dit steeds het **eerste argument** te zijn.\n",
    "\n",
    "In deze tutorial zagen we hier reeds eerder een voorbeeld van bij het uitschrijven van een string in hoofdletters. Inderdaad, in python is een string een klasse welke verschillende methoden bevat. Een lijst van deze methoden vind je bijvoorbeeld [hier](https://www.w3schools.com/python/python_ref_string.asp). Hoewel je de meeste hiervan maar zelden zal gebruiken zijn er een aantal welke zeer handige tools zijn die je wel veelvuldig zal leren gebruiken: ``count, find, join, replace, strip, split``. Het interessante hierbij is dat deze functies vaak een string als resultaat teruggeven zodat je verschillende methoden kan combineren door ze in sequentie achter elkaar aan te gebruiken."
   ]
  },
  {
   "cell_type": "code",
   "execution_count": null,
   "id": "0d36ac3f",
   "metadata": {
    "ExecuteTime": {
     "end_time": "2024-10-31T17:38:05.848001Z",
     "start_time": "2024-10-31T17:38:05.836994Z"
    }
   },
   "outputs": [],
   "source": [
    "LS = [\"Hello\",\"World!\",\"This\",\"Is\",\"Me.\"]\n",
    "s1 = \" \" #een string met 1 spatie\n",
    "s1.join(LS).lower().replace(\"!\",\",\").capitalize()"
   ]
  },
  {
   "cell_type": "markdown",
   "id": "42c2a3f8",
   "metadata": {},
   "source": [
    "**_Doe-opdracht:_**<br/>\n",
    "1. Waarom is s1 een string met 1 spatie in bovenstaande code? Wat gebeurt er als je deze spatie verwijdert of vervangt door een ander karakter, of zelfs een stukje tekst.\n",
    "2. Ga voor de verschillende functies na wat ze met de string doen, en begrijp hoe je aan het eindresultaat komt.\n",
    "3. Pas de code aan om de string op te splitsen in aparte woorden."
   ]
  },
  {
   "cell_type": "code",
   "execution_count": null,
   "id": "0195843b",
   "metadata": {
    "ExecuteTime": {
     "end_time": "2024-10-31T17:38:05.862952Z",
     "start_time": "2024-10-31T17:38:05.849960Z"
    }
   },
   "outputs": [],
   "source": [
    "# Voer hier de doe-opdracht uit\n",
    "\n",
    "\n",
    "\n",
    "\n",
    "\n"
   ]
  },
  {
   "cell_type": "markdown",
   "id": "9b37eddb",
   "metadata": {},
   "source": [
    "---\n",
    "Binnen deze tutorials gaan we niet dieper in op het creëren van klassen en objecten, dit is materiaal voor meer geavanceerde tutorials. Hier is het enkel van belang te weten wat een klasse/object is, wat de puntnotatie inhoudt en hoe functies in objecten ingebed kunnen zijn als methoden. Dit laatste is vooral van belang bij het latere gebruik van bibliotheken. Het staat de geïnteresseerde lezer natuurlijk vrij om zichzelf verder in dit onderwerp te verdiepen. Handige bronnen zijn [de python docs](https://docs.python.org/3/tutorial/classes.html), [w3schools](https://www.w3schools.com/python/python_classes.asp), ..."
   ]
  },
  {
   "cell_type": "markdown",
   "id": "c38fcd04",
   "metadata": {},
   "source": [
    "<a name=\"1.4.-Workflow-in-een-Notebook\"> </a><!-- this additional tag is needed for colaboratory to work in a copy-->\n",
    "## 1.4. Workflow in een Notebook ##\n",
    "\n",
    "In een programma of script, worden de regels met commando's uitgevoerd in de volgorde dat deze opgeschreven staan. Door gebruik te maken van functies, wordt deze volgorde aangepast. Het programma verspringt dan naar het codeblock met commando's in de functie om daarna verder te gaan met de commandoregels van het script. Dit geeft een eerste vorm van niet-lineariteit aan programmeren, en het volgen van de *process flow* kan vrij complex worden door het heen en weer springen tussen functies.\n",
    "\n",
    "Wanneer we gebruik maken van een notebook zoals deze is er nog een aspect dat niet over het hoofd mag worden gezien: **de uitvoervolgorde van de cellen**. In een notebook dien je het uitvoeren van de cellen te zien als het achter elkaar plakken van stukken code in de volgorde dat je de cellen uitvoert. Dit kan soms ongewenste resultaten met zich meebrengen indien je cellen meerdere keren uitvoert, of niet in de volgorde zoals ze in het notebook staan. De wortel van het probleem bevindt zich in het hergebruik van variabelen. Variabelen zullen immers de waarde hebben welke ze bekomen hebben als gevolg van de uitvoervolgorde in het notebook. De cellen hieronder geven een vereenvoudigd voorbeeld om te tonen wat er aan de hand is. In praktische gevallen is het vaak veel moeilijker te zien of een dergelijke situatie zich voordoet.\n",
    "\n"
   ]
  },
  {
   "cell_type": "code",
   "execution_count": null,
   "id": "11c2267f",
   "metadata": {
    "ExecuteTime": {
     "end_time": "2024-10-31T17:38:05.877919Z",
     "start_time": "2024-10-31T17:38:05.865916Z"
    }
   },
   "outputs": [],
   "source": [
    "Myvar = \"Dit is een variabele welke we zullen manipuleren\""
   ]
  },
  {
   "cell_type": "code",
   "execution_count": null,
   "id": "66477e11",
   "metadata": {
    "ExecuteTime": {
     "end_time": "2024-10-31T17:38:05.892879Z",
     "start_time": "2024-10-31T17:38:05.881874Z"
    }
   },
   "outputs": [],
   "source": [
    "Myvar = Myvar+\" door er iets aan toe te voegen.\"\n",
    "print(Myvar)"
   ]
  },
  {
   "cell_type": "code",
   "execution_count": null,
   "id": "5a55d4dd",
   "metadata": {
    "ExecuteTime": {
     "end_time": "2024-10-31T17:38:05.907902Z",
     "start_time": "2024-10-31T17:38:05.896872Z"
    }
   },
   "outputs": [],
   "source": [
    "Myvar = \"VERRASSING!!\"\n",
    "#voer na deze cel de cel hierboven terug uit"
   ]
  },
  {
   "cell_type": "code",
   "execution_count": null,
   "id": "e8024dda",
   "metadata": {
    "ExecuteTime": {
     "end_time": "2024-10-31T17:38:05.925401Z",
     "start_time": "2024-10-31T17:38:05.910837Z"
    }
   },
   "outputs": [],
   "source": [
    "Myvar = 77\n",
    "# Gezien datatypes niet vastliggen mag dit. Dit is geen abnormale situatie, \n",
    "# soms wil je een variabele met een ander doel hergebruiken.\n",
    "#Voer na deze cel de cel twee cellen hierboven nogmaals uit/"
   ]
  },
  {
   "cell_type": "markdown",
   "id": "8149eaaa",
   "metadata": {},
   "source": [
    "Zoals je hierboven hebt kunnen ervaren kan dit voor verrassingen zorgen welke misschien niet direct opvallen. Met wat geluk worden deze zichtbaar gemaakt door het onverwachte crashen van je script. Let dus telkens goed op de volgorde van de cellen. Wanneer je een variabele hergebruikt, zorg er dan zeker voor dat je deze initialiseert (*i.e.* een startwaarde geeft) zodat deze niet per ongeluk een waarde van een voorgaande run bevat of van een totaal andere toepassing in een andere cel. **Merk op:** variabelen welke in een codeblok van een **functie** worden gedefinieerd zijn enkel daar beschikbaar (zoals eerder gezien), en vallen hier buiten. Anderzijds is het *good practice* niet dezelfde variabele namen binnen en buiten een functie te gebruiken in eenzelfde omgeving om verwarring te vermijden.\n",
    "\n",
    "***Importeren van Bibliotheken:*** In deze tutorials worden bibliotheken (zie verder) meestal telkens opnieuw ingeladen bij elke nieuwe rekencel welke er gebruik van maakt. Dit is met het oog op de workflow van de tutorials gedaan. Hierdoor is het mogelijk de meeste rekencellen onafhankelijk van elkaar uit te voeren. In de praktijk zal men proberen de **import**-commando's te beperken. Je kan deze éénmalig plaatsen in de eerste cel welke er gebruik van maakt, maar je kan ze ook groeperen in één cel, bijvoorbeeld aan het begin van het notebook."
   ]
  },
  {
   "cell_type": "markdown",
   "id": "b8ece43d",
   "metadata": {},
   "source": [
    "<a name=\"2.-Basis-bibliotheken\"> </a><!-- this additional tag is needed for colaboratory to work in a copy-->\n",
    "# 2. Basis bibliotheken #\n",
    "\n",
    "Bij het programmeren, zeker in talen zoals python, is het de bedoeling het wiel niet telkens opnieuw uit te vinden. Nuttige functies zijn in tal van bibliotheken te vinden, en misschien schrijf jij ooit zelf je eigen bibliotheek (gericht op een specifieke analyse die belangrijk is in je onderzoek) en deel je deze met andere onderzoekers in je vakgebied.\n",
    "\n",
    "Je zal merken dat binnen het python ecosysteem er meestal meerdere manieren zijn om dezelfde taak uit te voeren. Welke het beste geschikt is voor jouw doeleinden hangt van verschillende aspecten af. Dit kan gaan over efficiëntie, maar ook over compatibiliteit met de rest van je script, of gewoon eigen ervaring met de bibliotheek in kwestie. Om enkele interessante zaken uit te kunnen voeren met een bibliotheek zullen we eerst een databestand inlezen. Dit bestand is een csv-file waarin kwantummechanisch berekende energieën en volumes te vinden zijn voor kristallijn lactosemonohydraat. Dit is een melksuiker dat in de voedings-en geneesmiddelenindustrie uitgebreid gebruikt wordt. Het bestand is te vinden in de data-map van dit GitHub repo: [https://github.com/DannyVanpoucke/PythonTutorials/blob/main/data/LMH_2H2O_EVdata.csv](https://github.com/DannyVanpoucke/PythonTutorials/blob/main/data/LMH_2H2O_EVdata.csv)\n",
    "\n",
    "Er zijn verschillende manieren waarop dit bestand ingelezen kan worden. Hier zullen we gebruik maken van de mogelijkheden van de numpy bibliotheek."
   ]
  },
  {
   "cell_type": "markdown",
   "id": "32381992",
   "metadata": {},
   "source": [
    "<a name=\"2.1.-Numpy\"> </a><!-- this additional tag is needed for colaboratory to work in a copy-->\n",
    "## 2.1. Numpy ##\n",
    "\n",
    "De **[Numpy](https://numpy.org/)** (samentrekking van **Num**erical **Py**thon) bibliotheek is een veelgebruikte bibliotheek waar je wiskundige tools vindt die nuttig zijn binnen de wetenschappen. Het laat je onder andere toe om met multidimensionale matrices te werken. Deze bibliotheek is een zodanig basisonderdeel van het wetenschappelijk python ecosysteem dat code voorbeelden vaak impliciet aannemen dat iedereen **np** herkent (en erkent) als standaard verwijzing naar de numpy bibliotheek. Hoewel een bibliotheek klassen kan bevatten, is de opmaak en het gebruik van functies in een bibliotheek vergelijkbaar aan deze van een klasse: *de puntnotatie*.\n",
    "\n",
    "### <u>Inlezen csv-bestand als matrix</u> ###\n",
    "\n",
    "Het inlezen van een tekstbestand met **``numpy``** gebeurt via de **[genfromtxt](https://numpy.org/doc/stable/reference/generated/numpy.genfromtxt.html)** functie. Er zijn twee manieren om deze functie te gebruiken in je eigen script:\n",
    "1. Expliciet importeren van de functie uit de numpy bibliotheek\n",
    "```python\n",
    "   from numpy import genfromtxt\n",
    "   dataset = genfromtxt('databestand.csv', delimiter=',')\n",
    "```\n",
    "Met de eerste regel wordt de **``genfromtxt``** functie uit de ``numpy`` bibliotheek geïmporteerd. Vanaf dit punt is deze functie bekend, net zoals je eigen gedefinieerde functies. Op de tweede regel wordt de variabele dataset gelijk gesteld aan het resultaat van de  **``genfromtxt``** functie uitgevoerd op het bestand “databestand.csv”. Bij het inlezen van dit bestand werd veronderstelt dat de waarden met een komma gescheiden zijn (**``delimiter=',``**).\n",
    "\n",
    "2. Gebruik als functie van de bibliotheek\n",
    "```python\n",
    "   import numpy as np\n",
    "   dataset = np.genfromtxt('databestand.csv', delimiter=',')\n",
    "```\n",
    "In dit tweede geval wordt de bibliotheek ingeladen onder een pseudoniem-naam (**np**). De **``genfromtxt``** wordt aangeroepen als onderdeel van deze bibliotheek. Het deel ``as np`` op de eerste regel had weggelaten kunnen worden. In dat geval zou op de tweede regel ``dataset = numpy.genfromtxt('databestand.csv', delimiter=',')`` moeten staan. De keuze om een pseudoniem-naam te gebruiken wordt veelal gebruikt om het typewerk te verminderen en de leesbaarheid te verbeteren."
   ]
  },
  {
   "cell_type": "code",
   "execution_count": null,
   "id": "e7ad5038",
   "metadata": {
    "ExecuteTime": {
     "end_time": "2024-10-31T17:38:05.968770Z",
     "start_time": "2024-10-31T17:38:05.928911Z"
    }
   },
   "outputs": [],
   "source": [
    "from numpy import genfromtxt\n",
    "\n",
    "url = 'https://github.com/DannyVanpoucke/PythonTutorials/blob/main/data/LMH_2H2O_EVdata.csv?raw=true'\n",
    "# Verwijder de `#` bij een van de twee onderstaande regels om het bestand van een online of lokale bron in te laden.\n",
    "dataset = genfromtxt(url, delimiter=',') #online\n",
    "#dataset = genfromtxt('../data/LMH_2H2O_EVdata.csv', delimiter=',') #lokaal\n",
    "print(dataset)"
   ]
  },
  {
   "cell_type": "markdown",
   "id": "38883702",
   "metadata": {},
   "source": [
    "In het csv-bestand zijn 5 kolommen terug te vinden. De eerste bevat een rijindex, de tweede de totale energie (in eV) met van der Waals correctie, de derde zonder van der Waals correctie, de vierde kolom bevat de volumes (in &Aring;$^3$), en de vijfde kolom bevat externe druk in kilobar. De ingelezen 2D matrix geeft mooi de data weer uit het bestand. Er is echter iets vreemd aan de hand met de vijfde kolom. Bekijk het [csv-bestand](https://github.com/DannyVanpoucke/PythonTutorials/blob/main/data/LMH_2H2O_EVdata.csv) rechtstreeks, en probeer in te zien wat het probleem is voor je verder leest.\n",
    "\n",
    "Zoals je online kan zien, bevat de vijfde kolom steeds een waarde gevolgd door *kB*. ``Numpy`` is gericht op numerieke data. Python daarentegen zal, gezien deze kolom zowel cijfers als letters bevat, dit automatisch als string herkennen. De omzetting naar een getal loopt mis, waardoor ``numpy`` **nan** (*Not a Number*) als resultaat weergeeft. We zullen later zien hoe je deze data toch kan inladen als tabel met behulp van de [**``pandas``**](https://pandas.pydata.org/docs/) bibliotheek.\n",
    "\n",
    "### <u>Slices: stukjes matrices </u> ###\n",
    "\n",
    "\n",
    "De data uit het CSV bestand bevindt zich nu in een 2D matrix. De dimensies van deze matrix vinden we door gebruik te maken van het ``shape``-attribuut, wat een tuple met het aantal elementen voor elke dimensie weergeeft. "
   ]
  },
  {
   "cell_type": "code",
   "execution_count": null,
   "id": "113bcf9e",
   "metadata": {
    "ExecuteTime": {
     "end_time": "2024-10-31T17:38:05.983770Z",
     "start_time": "2024-10-31T17:38:05.970770Z"
    }
   },
   "outputs": [],
   "source": [
    "dataset.shape"
   ]
  },
  {
   "cell_type": "markdown",
   "id": "30e8bba8",
   "metadata": {},
   "source": [
    "Dit toont dat er 13 rijen met 5 kolommen aanwezig zijn. De eerste index van de numpy matrix kan dus waarden van 0 tot en met 12 aannemen, terwijl de tweede waarden van 0 tot en met 4 kan aannemen. Stukken (of **slices**) van een matrix kunnen afgebakend worden in dezelfde indexnotatie."
   ]
  },
  {
   "cell_type": "code",
   "execution_count": null,
   "id": "f42f71d7",
   "metadata": {
    "ExecuteTime": {
     "end_time": "2024-10-31T17:38:06.013654Z",
     "start_time": "2024-10-31T17:38:05.990750Z"
    }
   },
   "outputs": [],
   "source": [
    "print(\"Het eerste element van de eerste rij: \",dataset[0,0])\n",
    "print(\"De eerste rij                       : \",dataset[0])\n",
    "print(\"De eerste kolom                     : \",dataset[:,0])"
   ]
  },
  {
   "cell_type": "markdown",
   "id": "8aa3c70c",
   "metadata": {},
   "source": [
    "Kijk je terug naar de output van de volledige matrix, dan merk je op dat elke rij weergegeven wordt als één lijst (een set elementen tussen ``[ ]``). Elke rij is dus zelf één element in een lijst met rijen (de buitenste set van ``[ ]``). Het weergeven van de eerste rij is dus niet anders dan het weergeven van het eerste element in deze lijst. Het volstaat daarom om één index te gebruiken in dit geval. Willen we een kolom weergeven, dan is dit telkens één element uit elk rij-element. Dus in het geval van de eerste kolom is dit telkens het element met index 0 in elk rijelement. Om elke rij aan te duiden maken we gebruik van een **slice**. ***Dit is een begin en eind-index gescheiden door een dubbele punt: ``a:b``.*** Laten we één of beide eindpunten weg dan betekent dit dat voor de weggelaten zijde het volledige rest van de reeks gebruikt wordt. \n",
    "- ``a:b``: alle elementen van index a tot index b-1 (python neemt nooit de eindgrens mee)\n",
    "- ``a: ``: alle elementen startende bij index a\n",
    "- `` :b``: alle elementen tot index b-1\n",
    "- `` : ``: alle elementen\n",
    "\n",
    "**<u>WEETJE</u>**\n",
    "Wens je het **laatste element** in een reeks hebben, maar weet je niet hoeveel elementen een reeks bevat, dan kun je dit element ook selecteren met de **index** $-1$. Waar in andere programmeertalen je een out-of-bounds foutmelding krijgt zal python achterwaarts de reeks aflopen bij het gebruik van een negatieve index.\n",
    "\n",
    "\n",
    "Hiermee is het mogelijk de gewenste element, rij of kolom uit een meerdimensionale matrix te selecteren. De tweede kolom met energieën en de vierde met volumes kopiëren we naar nieuwe variabelen als volgt:"
   ]
  },
  {
   "cell_type": "code",
   "execution_count": null,
   "id": "91f4138a",
   "metadata": {
    "ExecuteTime": {
     "end_time": "2024-10-31T17:38:06.028813Z",
     "start_time": "2024-10-31T17:38:06.015649Z"
    }
   },
   "outputs": [],
   "source": [
    "energie = dataset[:,1]\n",
    "volume = dataset[:,3]"
   ]
  },
  {
   "cell_type": "markdown",
   "id": "1c1e7b11",
   "metadata": {},
   "source": [
    "### <u>Attributen en methoden van numpy-matrices </u> ###\n",
    "\n",
    "Numpy-matrices zijn uitermate handig in het gebruik, gezien ze, in tegenstelling tot een standaard python lijst, erop gericht zijn wiskundige matrices voor te stellen. Er zijn dan ook een heel aantal methoden en attributen voorgedefinieerd."
   ]
  },
  {
   "cell_type": "code",
   "execution_count": null,
   "id": "2ad6a655",
   "metadata": {
    "ExecuteTime": {
     "end_time": "2024-10-31T17:38:06.043813Z",
     "start_time": "2024-10-31T17:38:06.030822Z"
    }
   },
   "outputs": [],
   "source": [
    "print(\"De getransponeerde van een matrix\",dataset.transpose(),\"\\n \\n ----------------- \\n\")\n",
    "print(\"De lengte van een 1D matrix (zoals volume) is een tuple \",volume.shape,\n",
    "      \". De lengte als getal krijgen we door het element uit het tuple te halen: \",volume.shape[0])"
   ]
  },
  {
   "cell_type": "markdown",
   "id": "c0f8ae21",
   "metadata": {},
   "source": [
    "---\n",
    "\n",
    "Ook eenvoudige statistische operaties zijn geïmplementeerd voor numpy arrays: \n",
    "- ``numpy.median()``([mediaan](https://numpy.org/doc/stable/reference/generated/numpy.median.html)), \n",
    "- ``numpy.mean()``([gemiddelde](https://numpy.org/doc/stable/reference/generated/numpy.mean.html)), \n",
    "- ``numpy.std()``([standaard deviatie](https://numpy.org/doc/stable/reference/generated/numpy.std.html)), \n",
    "- ``numpy.var()``([variantie](https://numpy.org/doc/stable/reference/generated/numpy.var.html)), \n",
    "- ``numpy.corrcoef()``([correlatie-coëfficiënten](https://numpy.org/doc/stable/reference/generated/numpy.corrcoef.html)), etc."
   ]
  },
  {
   "cell_type": "code",
   "execution_count": null,
   "id": "c756a1d6",
   "metadata": {
    "ExecuteTime": {
     "end_time": "2024-10-31T17:38:06.058942Z",
     "start_time": "2024-10-31T17:38:06.045770Z"
    }
   },
   "outputs": [],
   "source": [
    "import numpy as np\n",
    "\n",
    "print(\"Gemiddeld volume: \",np.mean(volume),\" A³\")\n",
    "print(\"Mediaan volume: \",np.median(volume),\" A³\")\n",
    "print(\"standaard deviatie volume: \",np.std(volume),\" A³\")"
   ]
  },
  {
   "cell_type": "markdown",
   "id": "910af430",
   "metadata": {},
   "source": [
    "Deze functies zijn niet beperkt tot 1D matrices. In het geval deze worden toegepast op multidimensionale matrices, dan wordt het resultaat bepaald op alle elementen."
   ]
  },
  {
   "cell_type": "code",
   "execution_count": null,
   "id": "a1b43c8c",
   "metadata": {
    "ExecuteTime": {
     "end_time": "2024-10-31T17:38:06.073696Z",
     "start_time": "2024-10-31T17:38:06.061726Z"
    }
   },
   "outputs": [],
   "source": [
    "print(\"Gemiddeld dataset: \",np.mean(dataset[:,1:4]),\" A³\") \n",
    "                #dataset[:,1:4] is de volledige matrix met uitzondering van de index-kolom (kolom-0) en de 5e kolom (kolom-4)."
   ]
  },
  {
   "cell_type": "markdown",
   "id": "39384bb1",
   "metadata": {},
   "source": [
    "Door gebruik te maken van het argument ``axis`` kan in één keer de functie worden uitgevoerd ofwel op alle rijen (apart) of alle kolommen (apart). "
   ]
  },
  {
   "cell_type": "code",
   "execution_count": null,
   "id": "5cfeb5dc",
   "metadata": {
    "ExecuteTime": {
     "end_time": "2024-10-31T17:38:06.088654Z",
     "start_time": "2024-10-31T17:38:06.077685Z"
    }
   },
   "outputs": [],
   "source": [
    "print(\"Gemiddeld dataset per kolom: \",np.mean(dataset[:,:4],axis=0),\" A³\") "
   ]
  },
  {
   "cell_type": "markdown",
   "id": "b62a5351",
   "metadata": {},
   "source": [
    "De index van een rij is de eerste index (=0), terwijl deze van een kolom de tweede index (=1) is, in een multidimensionale matrix. ``axis=0`` betekent dat het gemiddelde wordt genomen over alle elementen waarbij over de eerste index(=0) wordt gevarieerd, i.e. het gemiddelde van alle elementen in één kolom wordt zo bepaald. De resultaten voor alle kolommen wordt als een lijst teruggegeven.\n",
    "\n",
    "&nbsp;\n",
    "\n",
    "**_Doe-opdracht:_**<br/>\n",
    "Bepaal het gemiddelde per rij in de dataset, zonder de rijindex (kolom 0) mee te nemen."
   ]
  },
  {
   "cell_type": "code",
   "execution_count": null,
   "id": "d61d9f63",
   "metadata": {
    "ExecuteTime": {
     "end_time": "2024-10-31T17:38:06.103644Z",
     "start_time": "2024-10-31T17:38:06.092644Z"
    }
   },
   "outputs": [],
   "source": [
    "# Voer hier de doe-opdracht uit\n",
    "\n",
    "\n",
    "\n",
    "\n",
    "\n",
    "\n"
   ]
  },
  {
   "cell_type": "markdown",
   "id": "c8c5e34b",
   "metadata": {},
   "source": [
    "### <u>Zelf matrices maken</u> ###\n",
    "\n",
    "Tot nu toe maakten we gebruik van matrices welke uit een bestand werden ingelezen, het is ook mogelijk zelf vectoren (1D matrix) en matrices aan te maken. Hoewel een numpy matrix overeenkomsten vertoont met een standaard python lijst, is deze toch iets praktischer in het gebruik voor wetenschappelijke toepassingen. Er zijn verschillende manieren om een matrix aan te maken.\n",
    "- **``numpy.array()``-functie**: deze functie zet een (geneste) lijst of tuple om in een één of meerdimensionale matrix.\n",
    "``Mat2D = numpy.array([[1,2,3],[4,5,6]])``\n",
    "- **Array genererende functies**: Numpy bevat een 40-tal functies welke gebruikt kunnen worden om automatisch 1D-, 2D-, of ND-matrices te construeren.\n",
    "  - **[``numpy.arange()``](https://numpy.org/doc/stable/reference/generated/numpy.arange.html#numpy.arange) & [``numpy.linspace()``](https://numpy.org/doc/stable/reference/generated/numpy.linspace.html#numpy.linspace)** laten je toe vectoren met gelijk gespreide waarden te genereren. Denk bijvoorbeeld aan een rooster of grid.\n",
    "  - **[``numpy.eye()``](https://numpy.org/doc/stable/reference/generated/numpy.eye.html#numpy.eye)** genereert een 2D eenheidsmatrix.\n",
    "  - **[``numpy.diag()``](https://numpy.org/doc/stable/reference/generated/numpy.diag.html#numpy.diag)** genereert een diagonaalmatrix, met op de diagonaal de gegeven elementen.\n",
    "  - **[``numpy.zeros()``](https://numpy.org/doc/stable/reference/generated/numpy.zeros.html#numpy.zeros) of [``numpy.ones()``](https://numpy.org/doc/stable/reference/generated/numpy.ones.html#numpy.ones)** genereert een matrix gevuld met nullen of enen. De dimensies van deze matrix worden gegeven als één argument, en dienen dus van het datatype tuple te zijn. Een $3\\times 3$ matrix met enen wordt gegenereerd met ``numpy.ones( (3,3) )``\n",
    "\n",
    "&nbsp;\n",
    "\n",
    "**_Doe-opdracht:_**<br/>\n",
    "1. Genereer een vector met 5 equidistante waarden, waarbij 0 en 5 de twee uiterste punten zijn. Welke genererende functie gebruik je en waarom?\n",
    "2. Genereer een 2D $5\\times 5$ matrix, met op de diagonaal 5 waarden gaande van 0 tot en met 5, welke equidistant zijn. Doe dit op een slimme manier.\n",
    "3. Tel bij alle elementen van de bovenstaande matrix 1 op. (Dit kan op twee manieren.)\n",
    "4. **Bonus**: kun je ook de diagonaalelementen 10 keer kleiner maken voor je  één optelt bij elk element?"
   ]
  },
  {
   "cell_type": "code",
   "execution_count": null,
   "id": "c759c373",
   "metadata": {
    "ExecuteTime": {
     "end_time": "2024-10-31T17:38:06.118575Z",
     "start_time": "2024-10-31T17:38:06.107605Z"
    }
   },
   "outputs": [],
   "source": [
    "# Voer hier de doe-opdracht uit\n",
    "\n",
    "\n",
    "\n",
    "\n",
    "\n",
    "\n",
    "\n"
   ]
  },
  {
   "cell_type": "markdown",
   "id": "da69b406",
   "metadata": {},
   "source": [
    "<a name=\"2.2.-Helpfunctie\"> </a><!-- this additional tag is needed for colaboratory to work in a copy-->\n",
    "## 2.2. Helpfunctie ##\n",
    "\n",
    "Bij het gebruik van bibliotheken is er vaak een online handleiding voorhanden. Het is dus steeds mogelijk daar extra informatie te vinden. Daarnaast kun je ook gebruik maken van de ingebouwde **``help()``-functie**. Deze geeft ter plekke korte informatie over de functie waar je interesse in hebt. Dit is een handige tool om te weten te komen welke argumenten een functie vereist, en wat de mogelijke waarden en standaardwaarden zijn.\n",
    "\n",
    "**<u>Merk op</u>** : Hoewel je informatie over een functie wenst dien je geen ``()`` aan het einde van de functienaam toe te voegen. Indien je dit doet, en de functie heeft verplichtte argumenten, dan zal je een foutboodschap krijgen. Probeer je deze te omzeilen door deze argumenten in te vullen, dan krijg je niet langer de help-informatie over de functie, maar wel over het object dat door de functie wordt teruggegeven. \n",
    "\n",
    "&nbsp;\n",
    "\n",
    "**_Doe-opdracht:_**<br/>\n",
    "Test de opmerkingen uit op het voorbeeld hieronder met de ``numpy.zeros()`` functie."
   ]
  },
  {
   "cell_type": "code",
   "execution_count": null,
   "id": "bf0da02b",
   "metadata": {
    "ExecuteTime": {
     "end_time": "2024-10-31T17:38:06.133534Z",
     "start_time": "2024-10-31T17:38:06.120568Z"
    }
   },
   "outputs": [],
   "source": [
    "# Voer hier de doe-opdracht uit\n",
    "import numpy \n",
    "\n",
    "help(numpy.zeros)"
   ]
  },
  {
   "cell_type": "markdown",
   "id": "1239547e",
   "metadata": {},
   "source": [
    "<a name=\"2.3.-Random-&-Math\"> </a><!-- this additional tag is needed for colaboratory to work in a copy-->\n",
    "## 2.3. Random & Math ##\n",
    "\n",
    "### Random getallen ###\n",
    "Random getallen spelen een belangrijke rol binnen wetenschappelijk onderzoek dat gebruik maakt van simulaties. Ze kunnen gebruikt worden om *noise* toe te voegen aan data, stochastische processen te modelleren, willekeurige begincondities te genereren, etc. Het genereren van random getallen is een kunst op zich (welke buiten de scope van deze tutorials valt). Er bestaan verschillende algoritmen om random getallen te genereren— elk met hun sterkten en zwakten. Dit worden ***random number generators (RNGs)*** genoemd. De [**``random``** bibliotheek](https://docs.python.org/3/library/random.html) in python geeft je toegang tot verschillende functies welke je random getallen kunnen aanleveren, volgens verschillende kansverdelingen. De basisfunctie waarop nagenoeg alle functionaliteit in deze bibliotheek steunt is de ``random.random()`` functie, welke een RNG is gebouwd rond de *[Mersenne Twister](https://en.wikipedia.org/wiki/Mersenne_Twister)*.\n",
    "Enkele interessante functies zijn:\n",
    "\n",
    "- ``randint(a,b)``: geeft een willekeurig geheel getal gaande van a tot en met b.\n",
    "- ``random()`` : deze basisfunctie geeft een uniform verdeeld reëel getal $0<= x <1.0$ (1 is dus geen mogelijk resultaat!)\n",
    "- ``uniform(a,b)``: geeft een willekeurig reëel getal uit een uniforme verdeling met $a<= x <b$.\n",
    "- ``gauss(mu=0.0, sigma=1.0)``: geeft een willekeurig reëel getal uit een Gaussische (of Normale) verdeling met gemiddelde *mu* en standaard deviatie *sigma*.\n",
    "\n",
    "Voor de overige verdelingen verwijzen we geïnteresseerde lezer naar de [handleiding](https://docs.python.org/3/library/random.html).\n",
    "\n",
    "&nbsp;\n",
    "\n",
    "**_Doe-opdracht:_**<br/>\n",
    "Voer de onderstaande cel enkele keren uit en ga na dat de resultaten telkens anders zijn."
   ]
  },
  {
   "cell_type": "code",
   "execution_count": null,
   "id": "46c6c774",
   "metadata": {
    "ExecuteTime": {
     "end_time": "2024-10-31T17:38:06.148529Z",
     "start_time": "2024-10-31T17:38:06.136526Z"
    }
   },
   "outputs": [],
   "source": [
    "# Voer hier de doe-opdracht uit\n",
    "import random\n",
    "\n",
    "print(random.random())"
   ]
  },
  {
   "cell_type": "markdown",
   "id": "a8bfb951",
   "metadata": {},
   "source": [
    "### Meer random getallen ###\n",
    "\n",
    "De random bibliotheek is zeer handig bij het genereren van enkelvoudige willekeurige waarden. Indien je meerdere willekeurige getallen nodig hebt, worden deze gegenereerd door opeenvolgende aanroepingen van de *random*-functie uit de random bibliotheek. Soms weet je echter vooraf hoeveel willekeurige getallen je nodig zal hebben. Het is dan, vanuit computationeel oogpunt, niet efficiënt om vele malen een functie aan te roepen. De *numpy* bibliotheek bevat zelf ook een sub-bibliotheek gericht op willekeurige getallen, genaamd **[``random``](https://numpy.org/doc/stable/reference/random/index.html#module-numpy.random)**. Deze laat toe om hele reeksen random getallen met één enkele oproep te genereren. Daarnaast is er ook een zeer uitgebreide hoeveelheid aan mogelijke kansverdelingen beschikbaar (zie [handleiding](https://numpy.org/doc/stable/reference/random/legacy.html#distributions) )."
   ]
  },
  {
   "cell_type": "code",
   "execution_count": null,
   "id": "d7acf7ae",
   "metadata": {
    "ExecuteTime": {
     "end_time": "2024-10-31T17:38:06.163456Z",
     "start_time": "2024-10-31T17:38:06.150489Z"
    }
   },
   "outputs": [],
   "source": [
    "import numpy \n",
    "\n",
    "print(numpy.random.random(10)) # random is de sub-bibliotheek"
   ]
  },
  {
   "cell_type": "markdown",
   "id": "963a99a7",
   "metadata": {},
   "source": [
    "De bovenstaande uitdrukking is een hele boterham. Er wordt via de bibliotheek (numpy) langs de sub-bibliotheek (random) een aanroep van de functie (random(10)) uitgevoerd. De schijflast kan gelukkig verplaatst worden door de functie alleen te importeren."
   ]
  },
  {
   "cell_type": "code",
   "execution_count": null,
   "id": "7da90359",
   "metadata": {
    "ExecuteTime": {
     "end_time": "2024-10-31T17:38:06.178413Z",
     "start_time": "2024-10-31T17:38:06.165449Z"
    }
   },
   "outputs": [],
   "source": [
    "from numpy.random import random  # de laatste random is de functie\n",
    "# vanaf hier slaat \"random\" dus enkel op de functie\n",
    "print(random(10))"
   ]
  },
  {
   "cell_type": "markdown",
   "id": "846ced4e",
   "metadata": {},
   "source": [
    "De set met willekeurige getallen kan ook een N-dimensionale matrix opvullen."
   ]
  },
  {
   "cell_type": "code",
   "execution_count": null,
   "id": "3dd927de",
   "metadata": {
    "ExecuteTime": {
     "end_time": "2024-10-31T17:38:06.193411Z",
     "start_time": "2024-10-31T17:38:06.182407Z"
    }
   },
   "outputs": [],
   "source": [
    "print(random((10,2))) #10 rijen met 2 kolomen"
   ]
  },
  {
   "cell_type": "markdown",
   "id": "281e6c3a",
   "metadata": {
    "ExecuteTime": {
     "end_time": "2023-01-31T16:23:33.752388Z",
     "start_time": "2023-01-31T16:23:33.433854Z"
    }
   },
   "source": [
    "### De Math bibliotheek ###\n",
    "\n",
    "Hoewel python zelf reeds verschillende basis wiskundige bewerkingen voorziet (+,-,x,:), ontbreken er toch enkele interessante operaties en functies; zoals het bepalen van de **wortel (``math.sqrt(x)``)** van een getal. In de **[math](https://docs.python.org/3/library/math.html)** bibliotheek kun je deze terugvinden, naast ook de **log** en **exponentiële functie**. Bij de log-functies dien je wel even op te letten gezien deze voor de **natuurlijke logaritme (``math.log(x)``)**, de  **basis-10 logaritme (``math.log10(x)``)**, en ook voor de **basis-2 logaritme (``math.log2(x)``)** bestaat. Ook **goniometrische functies** (*e.g.*: **``math.sin(x), math.cos(x), math.tan(x),``**) worden via de math-bibliotheek aangeboden. Hou er rekening mee dat de goniometrische functies hoeken in radialen vereisen, en niet in graden.  \n",
    "Met het oog op de ingelezen matrix heeft de math-bibliotheek ook een functie welke je kan vertellen of een getal een echt getal is of een *NaN* (``math.isnan(x)``).\n",
    "\n",
    "Alle bovenstaande functionaliteit is telkens gericht op één enkel getal. Het is dan ook niet verwonderlijk, dat dezelfde functionaliteit ook in de [numpy bibliotheek](https://numpy.org/doc/stable/reference/routines.math.html) aanwezig is, waar de toepassing gericht is op het gebruik van numpy-matrices. In plaats van een for-lus over de elementen in een lijst te doorlopen en een wiskundige functie op elk individueel element toe te passen, kun je de operatie op alle elementen in de matrix toepassen in één enkel commando. De naamgeving van de functies is dezelfde als bij de math bibliotheek.\n",
    "\n",
    "&nbsp;\n",
    "\n",
    "**_Doe-opdracht:_**<br/>\n",
    "1. Bestudeer het onderstaande stuk code aandachtig en probeer te begrijpen wat er gebeurd.\n",
    "2. Kopieer de code naar de lege cellen eronder en test volgende situaties:\n",
    "   1. Wat gebeurt er indien de for-lus wordt vervangen door een enkel math commando vergelijkbaar met de numpy versie? (Eerste lege cel.)\n",
    "   2. Wat gebeurt er indien je het argument dtype=float verwijdert? Gebruik extra printopdrachten waar nuttig tijdens het debuggen. Herinner je de ``help`` en ``type`` functies om je te ondersteunen. (Tweede lege cel.)"
   ]
  },
  {
   "cell_type": "code",
   "execution_count": null,
   "id": "e3f46a15",
   "metadata": {
    "ExecuteTime": {
     "end_time": "2024-10-31T17:38:06.208524Z",
     "start_time": "2024-10-31T17:38:06.195368Z"
    }
   },
   "outputs": [],
   "source": [
    "import numpy as np\n",
    "import math\n",
    "\n",
    "np.set_printoptions(precision=4) #Hiermee beperken we het aantal cijfers na de komma bij reële getallen in numpy matrices\n",
    "\n",
    "Reeks = np.arange(10, dtype=float)*10\n",
    "print(\"Een reeks getallen: \\n \",Reeks)\n",
    "# Omzetting van graden naar radialen\n",
    "print(\"In radialen met numpy \\n\", np.radians(Reeks))   #via numpy\n",
    "print(\"In radialen met math  \\n\", Reeks*math.pi/180.0) #via math\n",
    "# bereken de sinus\n",
    "print(\"Met numpy: sin(reeks)= \\n\",np.sin(np.radians(Reeks)))\n",
    "for i in range(len(Reeks)):\n",
    "    Reeks[i] = math.sin(Reeks[i]*math.pi/180.0)\n",
    "print(\"Met math: sin(reeks)= \\n\",Reeks)"
   ]
  },
  {
   "cell_type": "code",
   "execution_count": null,
   "id": "a4d6b7c3",
   "metadata": {
    "ExecuteTime": {
     "end_time": "2024-10-31T17:38:06.238503Z",
     "start_time": "2024-10-31T17:38:06.212323Z"
    }
   },
   "outputs": [],
   "source": [
    "# opdracht 2A\n",
    "\n",
    "\n",
    "\n",
    "\n",
    "\n",
    "\n"
   ]
  },
  {
   "cell_type": "code",
   "execution_count": null,
   "id": "488a2f5a",
   "metadata": {
    "ExecuteTime": {
     "end_time": "2024-10-31T17:38:06.253988Z",
     "start_time": "2024-10-31T17:38:06.240424Z"
    }
   },
   "outputs": [],
   "source": [
    "#opdracht 2B \n",
    "\n",
    "\n",
    "    \n",
    "    \n",
    "    \n",
    "    \n",
    "    "
   ]
  },
  {
   "cell_type": "markdown",
   "id": "281ab37b",
   "metadata": {},
   "source": [
    "<a name=\"2.4.-Plotten-met-Matplotlib\"> </a><!-- this additional tag is needed for colaboratory to work in a copy-->\n",
    "## 2.4. Plotten met Matplotlib ##\n",
    "\n",
    "Eén van de redenen waarom python-notebooks zo populair zijn, is het feit dat het zeer eenvoudig is om zowel complexe berekeningen als grafische voorstellingen van de data in eenzelfde notebook samen te brengen. Een veelgebruikte bibliotheek voor de wetenschappelijke visualisatie van data is de ***[matplotlib](https://matplotlib.org/)***-bibliotheek. De plotklasse ([``pyplot``](https://matplotlib.org/stable/api/pyplot_summary.html)) wordt veelal afgekort tot **plt** in tutorials en andere hulpbronnen. De syntax van deze bibliotheek is zeer gelijklopend met deze voor het plotten in MATLAB (waarop de bibliotheek geïnspireerd is).\n",
    "\n",
    "&nbsp;\n",
    "\n",
    "**_Doe-opdracht:_**<br/>\n",
    "Maak gebruik van de handleiding voor de [plot-functie](https://matplotlib.org/stable/api/_as_gen/matplotlib.pyplot.plot.html) om het onderstaande script te begrijpen.\n",
    "1. Voer het script uit.\n",
    "2. Hoe plot je een xy-dataset: ``plt.plot(x,y)`` of ``plt.plot(y,x)``. \n",
    "3. Waarom werkt het onderstaande script hoewel er maar 1 coördinaat is gegeven ?(Welke?)\n",
    "4. Wat is de betekenis van de string met het punt?\n",
    "5. Pas het script aan zodanig dat het weergegeven symbool een zwarte driehoek omhoog wordt."
   ]
  },
  {
   "cell_type": "code",
   "execution_count": null,
   "id": "0a3e5c6e",
   "metadata": {
    "ExecuteTime": {
     "end_time": "2024-10-31T17:38:06.959343Z",
     "start_time": "2024-10-31T17:38:06.255500Z"
    }
   },
   "outputs": [],
   "source": [
    "# Voer hier de doe-opdracht uit\n",
    "import matplotlib.pyplot as plt\n",
    "i=2\n",
    "plt.plot(i,'.')\n",
    "\n",
    "\n"
   ]
  },
  {
   "cell_type": "markdown",
   "id": "334f0d1e",
   "metadata": {},
   "source": [
    "In de praktijk wordt zelden maar één punt geplot. Meestal wenst men puntenwolken of curves te plotten. Aan het begin van deze tutorial werd een dataset ingeladen vanuit een csv bestand. De energie en volume data is dan opgeslagen in twee aparte numpy-vectoren **``energie``** en **``volume``**. Met het volgende commando kan deze data eenvoudig geplot worden."
   ]
  },
  {
   "cell_type": "code",
   "execution_count": null,
   "id": "1071b494",
   "metadata": {
    "ExecuteTime": {
     "end_time": "2024-10-31T17:38:07.156260Z",
     "start_time": "2024-10-31T17:38:06.962313Z"
    }
   },
   "outputs": [],
   "source": [
    "plt.plot(volume,energie,'--^k',label='E(V) data lactosemonohydraat')"
   ]
  },
  {
   "cell_type": "markdown",
   "id": "962a5597",
   "metadata": {},
   "source": [
    "Zoals je hierboven ziet is echter nog wel wat werk aan de winkel voor dit een plot is dat kan gebruikt worden in een paper of rapport. Een paar van de meest opvallende problemen zijn:\n",
    "1. De legende ontbreekt.\n",
    "2. De assen hebben geen label.\n",
    "3. *Minor ticks* ontbreken.\n",
    "4. De *tickmarks* staan aan de foute zijde van de as.\n",
    "5. De stapgrootte op de y-as is bizar (0.02) en de waarden welke we zien verschillen sterk van de energiewaarden welke ongeveer -560 eV zijn.\n",
    "\n",
    "Het is duidelijk dat hoewel er standaardwaarden voorzien zijn, deze niet acceptabel zijn voor werkelijk wetenschappelijk gebruik. Gelukkig kunnen alle onderdelen van een plot aangepast en getuned worden."
   ]
  },
  {
   "cell_type": "markdown",
   "id": "8c221478",
   "metadata": {},
   "source": [
    "### <u>Breaking free of defaults</u> ###\n",
    "Voor we beginnen aan het opschonen van de afbeelding, is het nuttig om te weten dat pyplot een functie ``show()`` bevat welke de afbeelding waar we aan werken laat zien. Het gebruik van dit commando laat ook de tekst met het type afbeelding verdwijnen uit de output. In het toekomstig script zullen we daarom eindigen met het commando:``plt.show()``\n",
    "\n",
    "1. **De legende** ([``plt.legend()``](https://matplotlib.org/stable/api/_as_gen/matplotlib.pyplot.legend.html)). Hoewel er een label aan de curve is toegevoegd is deze toch niet zichtbaar. Door de ``legend()``-functie aan te roepen wordt dit verholpen. Verder kan met deze functie ook de positie van de legende, de font grootte, etc worden aangepast.\n",
    "2. **De aslabels** ([``plt.xlabel()``](https://matplotlib.org/stable/api/_as_gen/matplotlib.pyplot.xlabel.html) en [``plt.ylabel()``](https://matplotlib.org/stable/api/_as_gen/matplotlib.pyplot.ylabel.html)). Het toevoegen van aslabels kan door gebruik te maken van de functies ``xlabel`` en ``ylabel``, waarbij zowel de tekst als de opmaak van deze tekst bepaald kan worden.\n",
    "3. **De tickmarks**. Het aanpassen van de tickmarks heeft iets meer voeten in de aarde. Eerst en vooral omdat deze niet direct beschikbaar zijn via pyplot. We hebben hiervoor toegang tot het axes-object nodig. De functie [``plt.subplots()``](https://matplotlib.org/stable/api/_as_gen/matplotlib.pyplot.subplots.html) geeft dit samen met een figure object terug. En interessant neveneffect van het gebruik van de subplots functie is dat hiermee ook de dimensies van de afbeelding kunnen ingesteld worden (weliswaar in inches; 1 inch = 2.54 cm): *e.g.* ``fig, ax = plt.subplots(figsize=(7,5))``. Met zowel het ***plt*** als het ***ax*** object ter beschikking kunnen de assen volledig opgemaakt worden.\n",
    "    1. **Asgrenzen**: De asgrenzen kunnen worden bepaald met de [``plt.xlim()``](https://matplotlib.org/stable/api/_as_gen/matplotlib.pyplot.xlim.html) en [``plt.ylim()``](https://matplotlib.org/stable/api/_as_gen/matplotlib.pyplot.ylim.html) functies. De boven en ondergrens worden gegeven als een lijst; *e.g.* ``plt.xlim([720,800])``\n",
    "    2. **Positie ticks**: Voor het plaatsen van de ticks kan gebruik gemaakt worden van een automatische functie welke de positie en het aantal ticks bepaald: [``matplotlib.ticker.MultipleLocator()``](https://matplotlib.org/stable/api/ticker_api.html#matplotlib.ticker.MultipleLocator). In het geval van het volume zullen we elke 10$\\AA^3$ een major tick plaatsen, en elke 1$\\AA^3$ een minor tick. Hiervoor kan de [``set_major_locator()``](https://matplotlib.org/stable/api/_as_gen/matplotlib.axis.Axis.set_major_locator.html) en [``set_minor_locator()``](https://matplotlib.org/stable/api/_as_gen/matplotlib.axis.Axis.set_minor_locator.html) van het ``xaxis`` object gebruikt worden <br/>\n",
    "    &rarr; ``ax.xaxis.setmajor_locator(MultipleLocator(10.0))``.<br/>\n",
    "    Voor de y-as gebruiken we stappen van 25 meV en 5 meV.\n",
    "    3. **Richting en opmaak ticks**: Het opmaken van de ticks kan met de [``tick_params()``](https://matplotlib.org/stable/api/_as_gen/matplotlib.axes.Axes.tick_params.html) functie. Ticks dienen aan beide zijden van de grafiek voor te komen en naar binnen gericht te zijn. De lengte en dikte kan aangepast worden met het oog op leesbaarheid.\n",
    "4. **Lijndikte frame/assen**: De assen van de grafiek zijn vrij dun. Deze kunnen iets dikker gemaakt worden met behulp van de ``set_linewidth()`` functie van de spines objecten. Dit laatste is een lijst met elementen 'top','left','right', en 'bottom'. Gezien we alle elementen wensen aan te passen kunnen we gebruik maken van een slice-notatie om ze allemaal in één keer te selecteren (Dit is enkel mogelijk in de meer recente versies van matplotlib. Indien dit niet mogelijk is krijg je een foutmelding, en kun je voor elke spine apart de lijnbreedte instellen.)"
   ]
  },
  {
   "cell_type": "code",
   "execution_count": null,
   "id": "dc395e35",
   "metadata": {
    "ExecuteTime": {
     "end_time": "2024-10-31T17:38:07.752955Z",
     "start_time": "2024-10-31T17:38:07.157787Z"
    }
   },
   "outputs": [],
   "source": [
    "from matplotlib.ticker import MultipleLocator\n",
    "\n",
    "fig, ax = plt.subplots(figsize=(7,5))\n",
    "plt.xlim([720,800])\n",
    "plt.ylim([-563.800,-563.675])\n",
    "ax.xaxis.set_major_locator(MultipleLocator(10))\n",
    "ax.xaxis.set_minor_locator(MultipleLocator(1))\n",
    "ax.yaxis.set_major_locator(MultipleLocator(0.025))\n",
    "ax.yaxis.set_minor_locator(MultipleLocator(0.005))\n",
    "# opmaak van de major ticks\n",
    "ax.tick_params(axis='both',direction='in',length=10,width=2,\n",
    "               bottom=True, top=True, left=True, right=True, labelsize=10)\n",
    "# opmaak van de minor ticks (deze hebben geen label)\n",
    "ax.tick_params(axis='both',which='minor',direction='in',length=6,width=1,\n",
    "              bottom=True, top=True, left=True, right=True)\n",
    "\n",
    "# ax.spines[:].set_linewidth(2) # Hiervoor is python >3.9 en matplotlib >3.5 nodig, \n",
    "                                # dit is misschien niet het geval in google colab\n",
    "ax.spines['top'].set_linewidth(2) # In welk geval de verschillende spines, stuk per stuk dienen\n",
    "ax.spines['left'].set_linewidth(2)# aangeroepen te worden.\n",
    "ax.spines['bottom'].set_linewidth(2)\n",
    "ax.spines['right'].set_linewidth(2)\n",
    "\n",
    "plt.xlabel(\"Volume ($\\AA^3$) \", fontsize='x-large', fontweight=\"bold\")\n",
    "plt.ylabel(\"Energie (eV) \", fontsize='x-large', fontweight=\"bold\")\n",
    "plt.plot(volume,energie,'--^k',label='E(V) data lactosemonohydraat')\n",
    "plt.legend(loc='upper center', fontsize='large')\n",
    "plt.show()"
   ]
  },
  {
   "cell_type": "markdown",
   "id": "2e9fffb2",
   "metadata": {},
   "source": [
    "De finale afbeelding ziet er een stuk beter uit dan de standaardoptie, maar vereist extra werk. Indien je op verschillende plaatsen vergelijkbare figuren wil genereren in een notebook (of script), is het vaak handig het opmaak gedeelte iets te veralgemenen en in een aparte functie onder te brengen. Deze functie vraagt dan als minimale argumenten de lijsten met $x$ en $y$ waarden.\n",
    "\n",
    "&nbsp;\n",
    "\n",
    "**_Doe-opdracht:_**<br/>\n",
    "Gebruik de cel hieronder.\n",
    "1. Maak van de code in de voorgaande cel een functie welke 3 argumenten aanneemt: $x$ en $y$ waarden, en een string met het label voor de data. Test of je hetzelfde resultaat bekomt als hierboven.\n",
    "2. Pas je functie aan zodat je ook het label bij de assen moet meegeven. Test of je hetzelfde resultaat bekomt als hierboven.\n",
    "3. Pas de functie nog verder aan zodat ook de grenzen van de assen, en tickposities worden meegegeven. Test of je hetzelfde resultaat bekomt als hierboven.\n",
    "\n",
    "Deze functie kan een goed startpunt zijn voor alle toekomstige python plots welke je genereert.\n"
   ]
  },
  {
   "cell_type": "code",
   "execution_count": null,
   "id": "9f104463",
   "metadata": {},
   "outputs": [],
   "source": [
    "# Voer hier de doe-opdracht uit\n",
    "\n",
    "\n",
    "\n",
    "\n",
    "\n",
    "\n",
    "\n",
    "\n"
   ]
  },
  {
   "cell_type": "markdown",
   "id": "a6d9f5b5",
   "metadata": {},
   "source": [
    "Dit is het einde van de tweede python tutorial. In de [volgende tutorial](https://github.com/DannyVanpoucke/PythonTutorials/blob/main/Tutorials_nl/03_DataViz.ipynb)  gaan we dieper in op datavisualisatie en analyse."
   ]
  }
 ],
 "metadata": {
  "kernelspec": {
   "display_name": "Python 3 (ipykernel)",
   "language": "python",
   "name": "python3"
  },
  "language_info": {
   "codemirror_mode": {
    "name": "ipython",
    "version": 3
   },
   "file_extension": ".py",
   "mimetype": "text/x-python",
   "name": "python",
   "nbconvert_exporter": "python",
   "pygments_lexer": "ipython3",
   "version": "3.10.11"
  },
  "latex_envs": {
   "LaTeX_envs_menu_present": true,
   "autoclose": false,
   "autocomplete": true,
   "bibliofile": "biblio.bib",
   "cite_by": "apalike",
   "current_citInitial": 1,
   "eqLabelWithNumbers": true,
   "eqNumInitial": 1,
   "hotkeys": {
    "equation": "Ctrl-E",
    "itemize": "Ctrl-I"
   },
   "labels_anchors": false,
   "latex_user_defs": false,
   "report_style_numbering": false,
   "user_envs_cfg": false
  },
  "varInspector": {
   "cols": {
    "lenName": 16,
    "lenType": 16,
    "lenVar": 40
   },
   "kernels_config": {
    "python": {
     "delete_cmd_postfix": "",
     "delete_cmd_prefix": "del ",
     "library": "var_list.py",
     "varRefreshCmd": "print(var_dic_list())"
    },
    "r": {
     "delete_cmd_postfix": ") ",
     "delete_cmd_prefix": "rm(",
     "library": "var_list.r",
     "varRefreshCmd": "cat(var_dic_list()) "
    }
   },
   "types_to_exclude": [
    "module",
    "function",
    "builtin_function_or_method",
    "instance",
    "_Feature"
   ],
   "window_display": false
  }
 },
 "nbformat": 4,
 "nbformat_minor": 5
}
