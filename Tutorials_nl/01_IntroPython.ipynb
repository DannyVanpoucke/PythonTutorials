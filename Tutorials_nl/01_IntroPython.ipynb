{
 "cells": [
  {
   "cell_type": "markdown",
   "id": "82c93818",
   "metadata": {},
   "source": [
    "# Basisbegrippen Jupyter Notebooks & Python #\n",
    "\n",
    "Welkom bij deze tutorial reeks over python voor studenten Chemie. \n",
    "\n",
    "In deze reeks tutorials maak je kennis met **python** als tool voor **data-analyse en-visualisatie**. Je leert de *basisconcepten kennen* van deze programmeertaal en doet eerste *praktische ervaring* op. Bij het opstellen van deze tutorials zijn we er van uit gegaan dat je geen praktische voorkennis in python of programmeren in het algemeen hebt. Indien dit toch het geval zou zijn, zullen de eerste notebooks uitermate eenvoudig zijn. Gezien het beperkte tijdsbestek zijn er ook keuzes gemaakt met betrekking tot de onderwerpen welke aan bod komen en hun uitdieping. Wens je meer over een bepaald onderwerp te leren dan zijn er voldoende online bronnen beschikbaar om via zelfstudie de nodige uitdieping te bekomen. \n",
    "\n",
    "Met het oog op het zo laagdrempelig mogelijk houden van deze tutorials, maken we gebruik van __*Jupyter notebooks*__ zoals deze. Het is de bedoeling dat je deze notebooks uitvoert en aanpast waar gevraagd. Dit laatste doe je op je eigen *google drive* waar je de tutorials gebruikt in de vorm van *google colaboratory* documenten. Indien je dit nog niet gedaan hebt, lees dan eerst [00_PythonInstallatie.md](https://github.com/DannyVanpoucke/PythonTutorials/blob/main/Tutorials_nl/00_PythonInstallatie.md), waarbij je **puntje 1.1.** uitvoert.\n",
    "\n",
    "In dit eerste notebook leer je ook meer over de *Jupyter notebooks* zelf, gezien deze in combinatie met python je toelaten interactieve documenten te creëren, ideaal bij data-analyse.\n",
    "\n",
    "## Inhoudstafel ##\n",
    "1. [Basisbegrippen Jupyter notebooks](#1.-Basisbegrippen-Jupyter-notebooks)<br/>\n",
    "   1.1. [Cellen en soorten cellen](#1.1.-Cellen-en-soorten-cellen)<br/>\n",
    "   1.2. [Markdown](#1.2.-Markdown)<br/>\n",
    "   1.3. [$\\LaTeX$-formules en meer](#1.3.--$\\LaTeX$-formules-en-meer)<br/>\n",
    "2. [Basisbegrippen Python](#2.-Basisbegrippen-Python)<br/>\n",
    "   2.1. [Interactieve rekenmachine](#2.1.-Interactieve-rekenmachine)<br/>\n",
    "   2.2. [Variabelen (de basis)](#2.2.-Variabelen-&-datatypes)<br/>\n",
    "   2.3. [Operaties](#2.3.-Operaties)<br/>\n",
    "   2.4. [Lussen, keuzes & spaties](#2.4.-Lussen,-keuzes-&-spaties)<br/>\n",
    "   "
   ]
  },
  {
   "cell_type": "markdown",
   "id": "dd2c28b8",
   "metadata": {
    "ExecuteTime": {
     "end_time": "2023-01-24T10:12:02.036609Z",
     "start_time": "2023-01-24T10:12:02.018658Z"
    }
   },
   "source": [
    "<a name=\"1.-Basisbegrippen-Jupyter-notebooks\">  </a><!-- this additional tag is needed for colaboratory to work in a copy-->\n",
    "# 1. Basisbegrippen Jupyter notebooks #\n",
    "Jupyter notebooks zijn een uitermate handige tool binnen de Python ecologie. Ze laten je toe stukken code te combineren met (uitgebreide) stukken opgemaakte tekst, formules en afbeeldingen. Hierdoor is het mogelijk gestructureerd en geannoteerde analyses uit te voeren en te delen.\n",
    "\n",
    "<a name=\"1.1.-Cellen-en-soorten-cellen\"></a><!-- this additional tag is needed for colaboratory to work in a copy-->\n",
    "## 1.1. Cellen en soorten cellen ##\n",
    "De informatie in een Jupyter notebook wordt ondergebracht in **cellen**. De grootte van een cel kan variëren van één enkele regel tot verschillende paragrafen. Er zijn verschillende manieren om een cel toe te voegen, welke deels afhangen van de omgeving. \n",
    "\n",
    "In een **standaard Jupyter notebook omgeving** kun je een nieuwe cel\n",
    "- op het einde van het notebook toevoegen door de laatste cel *uit te voeren* (**Run**),\n",
    "- invoegen boven of onder de huidige geselecteerde cel via het menu **Insert**&rarr;**Insert cell Above/Below**.\n",
    "\n",
    "In een **google Colaboratory omgeving** doe kun je een nieuwe cel toevoegen na de geselecteerde cel\n",
    "- met de **+code** en **+Text** knoppen onder het menu,\n",
    "- via het menu **Insert**&rarr;**Code cell/Text cell**.\n",
    "\n",
    "Om een **cel te verplaatsen** kan gebruik gemaakt worden van de knoppen met de **&uarr;** en **&darr;** onder het menu (**standaard**) of rechtsboven de geselecteerde cel (**colaboratory**). Zoals je hierboven reeds merkte bestaan er **twee soorten cellen**:\n",
    "1. **Code cel**: In dit type cel voeg je python code toe. De opmaak van de python code volgt dezelfde regels als in een python script en kan dus vaak tussen de twee heen en weer gekopieerd worden.\n",
    "2. **Tekst/Markdown cel**: In dit type cel voeg je tekst toe aan je bestand. Deze tekst kan opgemaakt worden met behulp van *Markdown*, een markup taal (zoals HTML)."
   ]
  },
  {
   "cell_type": "markdown",
   "id": "714e0012",
   "metadata": {},
   "source": [
    "<a name=\"1.2.-Markdown\"> </a><!-- this additional tag is needed for colaboratory to work in a copy-->\n",
    "## 1.2. Markdown ##\n",
    "Markdown is een voorbeeld van een markup taal. Dit is een set regels welke toelaat de opmaak van een document aan te passen naar meer dan platte tekst. Een gekend voorbeeld van een markup taal is HTML. Deze maakt gebruik van tags om een stuk tekst een specifieke opmaak te geven. Een **niet-geordende lijst in HTML** ziet er bijvoorbeeld als volgt uit:\n",
    "```HTML\n",
    "<ul>\n",
    "    <li> Item 1</li>\n",
    "    <li> Item 2</li>\n",
    "</ul>\n",
    "```\n",
    "In Markdown, wat we gebruiken om tekst cellen in Jupyter notebooks (en GitHub pagina's) op te maken is eenvoudiger (en ook deels beperkter) dan HTML. Hieronder geven we enkele basis-onderdelen van de Markdown-taal. Wie meer wil weten, of naar specifieke elementen op zoek is wordt aangeraden online te gaan kijken bij [Markdown Cheatsheets](https://github.com/adam-p/markdown-here/wiki/Markdown-Cheatsheet) of [GitHub-docs](https://docs.github.com/en/get-started/writing-on-github/getting-started-with-writing-and-formatting-on-github/basic-writing-and-formatting-syntax) of zelf een van de vele andere bronnen te bezoeken. \n",
    "\n",
    "In deze tutorial beperken we ons tot enkele opmaak elementen.\n"
   ]
  },
  {
   "cell_type": "markdown",
   "id": "ab351b91",
   "metadata": {},
   "source": [
    "### Hoofdingen ###\n",
    "In dit document maken we gebruik van hoofdingen met verschillende niveaus. Een hoofding wordt in Markdown aangegeven met een ``#``-symbool, en het aantal opeenvolgende ``#``-symbolen geeft het hoofdingsniveau weer. Tussen het ``#``-symbool en de hoofding dient minstens één spatie voor te komen, anders wordt het niet als hoofding herkend. (Merk op dat het inspringen een neveneffect is van de weergave, en dus niet in de opmaak aanwezig is.)\n",
    "```Markdown\n",
    "# Hoofding niveau 1 #\n",
    "## Hoofding niveau 2 ##\n",
    "### Hoofding niveau 3 ###\n",
    "```\n",
    "\n",
    "**_Doe-opdracht:_**<br/>\n",
    "Ga in de cel hieronder na wat het maximale niveau van een hoofding kan zijn."
   ]
  },
  {
   "cell_type": "markdown",
   "id": "8ce92207",
   "metadata": {},
   "source": [
    "\n"
   ]
  },
  {
   "cell_type": "markdown",
   "id": "476bc8e0",
   "metadata": {},
   "source": [
    "### Tekst-stijl ###\n",
    "Indien je nadruk wil legen op één of meerdere woorden kan dit door de tekst-stijl aan te passen.\n",
    "+ ``**vet**`` of ``__vet__`` geeft **vet**\n",
    "+ ``*schuin*`` of ``_schuin_`` geeft *schuin*\n",
    "+ ``***vet en schuin***`` of ``**_vet en schuin_**`` of ``__*vet en schuin*__`` geeft **_vet en schuin_**\n",
    "+ ``~~doorstreept~~`` geeft ~~doorstreept~~\n",
    "\n",
    "Voor chemici zijn sub- en super-scripts ook enorm belangrijk gezien deze veelvuldig voorkomen in chemische formules en notaties voorkomen. In een stuk tekst willen je niet H2O of 13C zien te voorschijn komen maar wel H<sub>2</sub>O en <sup>13</sup>C. Hiervoor heeft Markdown geen eigen opmaak element, maar kunnen we gebruik maken van de **standaard HTML tags** ``<sub>`` en ``<sup>`` om respectievelijk sub- en superscripts aan te geven. De opmaak voor de watermolecule en het koolstof-13 atoom is dan ``H<sub>2</sub>O`` en ``<sup>13</sup>C``.\n",
    "\n",
    "\n",
    "**_Doe-opdracht:_**<br/>\n",
    "Gebruik de cel hieronder om te de volgende opmaak te bekomen:<br/>\n",
    "> **Koolstof-NMR** is analoog aan *proton-NMR* (**<sup>1</sup>H NMR**) en laat toe de koolstof atomen in organische moleculen te identificeren, net zoals ~~koolstof~~ proton NMR waterstof atomen identificeert. "
   ]
  },
  {
   "cell_type": "markdown",
   "id": "b6d6667c",
   "metadata": {},
   "source": [
    "\n"
   ]
  },
  {
   "cell_type": "markdown",
   "id": "c4624809",
   "metadata": {},
   "source": [
    "### Lijsten ###\n",
    "De opmaak van een lijst is een stuk minder uitgebreid dan in het geval van HTML. De niet-geordende HTML lijst waarmee we het deel over Markdown startten ziet er als volgt uit:\n",
    "```markdown\n",
    "- Item 1\n",
    "- Item 2\n",
    "```\n",
    "Met andere woorden, door enkel ``-`` (of ``+`` of ``*``) vooraan de regel te plaatsen wordt de opmaak van een ongeordende lijst aangegeven. Voor een geordende lijst gebruik je ``1.`` enzovoort. Om lijsten te nesten dien je telkens spaties vooraan toe te voegen, zodat de nummering van de sub-lijst op gelijke hoogte staat als de tekst van het lijst-element waaronder het valt. Een voorbeeld met een geordende sub-lijst en ongeordende sub-sub-lijst:\n",
    "```markdown\n",
    "1. Item 1\n",
    "   1. Geordend sub-item 1\n",
    "   2. Geordend sub-item 2\n",
    "      + Ongeordend sub-sub-item 1\n",
    "      + Ongeordend sub-sub-item 2\n",
    "2. Item 2\n",
    "```\n",
    "Hoewel de geordende lijst telkens opnieuw telt, geeft de visualisatie een andere lijst-nummering, zoals te zien is in het resultaat van de gebruikte markup hierboven:\n",
    "1. Item 1\n",
    "   1. Geordend sub-item 1\n",
    "   2. Geordend sub-item 2\n",
    "      + Ongeordend sub-sub-item 1\n",
    "      + Ongeordend sub-sub-item 2\n",
    "2. Item 2\n",
    "\n",
    "**_Doe-opdracht:_**<br/>\n",
    "Stel een ongeordende lijst met 3 elementen op, waarbij het tweede element een geordende sub-lijst bevat, en het derde element een ongeordende sub-lijst."
   ]
  },
  {
   "cell_type": "markdown",
   "id": "0fc598f3",
   "metadata": {},
   "source": [
    "\n"
   ]
  },
  {
   "cell_type": "markdown",
   "id": "1b7e6b11",
   "metadata": {},
   "source": [
    "### Links en afbeeldingen ###\n",
    "Hyperlinks zijn een integraal gegeven in webpagina's maar ook digitale documenten. In deze tutorials worden hyperlinks gebruikt om te verwijzen naar extra bronnen, maar ook om snel naar een specifiek onderdeel in het document te springen. Een hyperlink bestaat uit twee onderdelen: de tekst welke wordt weergegeven tussen ``[ ]`` en het absolute of relatieve pad naar de bron tussen ``( )``.\n",
    "Een link naar een webpagina, zoals de GitHub pagina waarop deze tutorial zich bevindt wordt gegeven door ``[PythonTutorials](https://github.com/DannyVanpoucke/PythonTutorials/)``, terwijl een relatieve link naar de volgende tutorial gegeven kan worden als ``[Tutorial2](02_PythonProgramParts.ipynb)``. Merk wel op dat deze relatieve link enkel zal werken indien je ofwel colaboratory op GitHub uitvoert (afgeraden), ofwel de tweede notebook tutorial in dezelfde map op je google colaboratory drive hebt gekopieerd. \n",
    "\n",
    "Een link naar een ander onderdeel binnen dit document kan door gebruik te maken van zogenaamde ankers, welke met het ``#``-symbool worden aangegeven. Deze kunnen manueel toegevoegd worden als HTML code (``<a name='ankernaam'> </a>``) of door de hoofding van een sectie te gebruiken (voor deze sectie is de ankernaam ``Links-en-afbeeldingen``). De hyperlink naar deze posities krijgt dan de vorm ``[Link naar ankernaam](#ankernaam)`` of ``[Link naar ankernaam](01_IntroPython#ankernaam)`` in het voorbeeld met de HTML tags, en ``[Link naar deze sectie](#Links-en-afbeeldingen)`` of ``[Link naar deze sectie](01_IntroPython#Links-en-afbeeldingen)``. Afhankelijk van de omgeving (GitHub, Colaboratory, of Jupyter Notebook lokaal op je computer) vereisen de links naar een document onderdeel meer of minder inspanning. Bekijk gerust hoe dit in deze tutorials werd aangepakt.\n",
    "\n",
    "Het inbedden van een afbeeldingen kan beschouwd worden als een soort hyperlink naar het afbeeldingsbestand. Het is dan niet onverwacht dat de opmaak om een afbeelding toe te voegen vergelijkbaar is met deze van een hyperlink. Echter in dit geval wordt het geheel voorafgegaan door een ``!`` en komt tussen de ``[ ]`` de korte beschrijving (alt text) van de afbeelding.\n",
    "\n",
    "Er kan met een absoluut pad gewerkt worden zoals ``![DFT berekende elektronendichtheid van een HCN molecule](https://github.com/DannyVanpoucke/PythonTutorials/blob/main/images/HCNdensity_DFT.png?raw=true)\n",
    "``\n",
    "![DFT berekende elektronendichtheid van een HCN molecule](https://github.com/DannyVanpoucke/PythonTutorials/blob/main/images/HCNdensity_DFT.png?raw=true)\n",
    "\n",
    "of met een relatief pad zoals ``![DFT berekende elektronendichtheid van een HCN molecule](../images/HCNdensity_DFT.png)``.\n",
    "![DFT berekende elektronendichtheid van een HCN molecule](../images/HCNdensity_DFT.png)\n",
    "\n",
    "Het stukje ``?raw=true`` is een neveneffect van het op github staan van deze afbeelding. Zonder zou de afbeelding onzichtbaar blijven.\n",
    "\n",
    "Het al dan niet weergegeven worden van de afbeelding gaat samen met de toegankelijkheid van de afbeelding. Bekijk je dit notebook op [GitHub](https://github.com/DannyVanpoucke/PythonTutorials/blob/main/Tutorials_nl/01_IntroPython.ipynb) dan worden beide afbeeldingen weergegeven. In het geval van colaboratory zal de afbeelding met het relatieve pad niet zichtbaar zijn, gezien daar geen afbeelding aanwezig is. Indien je zelf een **images** map aanmaakt en de afbeelding daarin plaatst kan de afbeelding zichtbaar gemaakt worden na nog enkele bijkomende stappen welke ons te ver zouden leiden. Voor meer informatie verwijs ik graag naar [deze uitleg](https://medium.com/analytics-vidhya/embedding-your-image-in-google-colab-markdown-3998d5ac2684).\n"
   ]
  },
  {
   "cell_type": "markdown",
   "id": "84941745",
   "metadata": {},
   "source": [
    "### code en syntax highlighting ###\n",
    "Een laatste opmaak element om hier te bespreken is er één dat toelaat stukken code in opmaak weer te geven. Dit element werd in dit notebook reeds veelvuldig gebruikt om de Markdown elementen weer te geven en zal in het verdere verloop worden gebruikt om python code weer te geven. Om stukken code binnenin een regel tekst weer te geven, dient deze omgeven te worden door enkele (`` ` ``) of dubbele backticks (` `` `). Zo is het mogelijk om de Markdown opmaak voor vette tekst te visualiseren ` ``**vet**`` `, wat er in het notebook uitziet als ``**vet**``. Voor grotere stukken code (of code op een individuele regel) wordt gebruik gemaakt van drievoudige backticks ` ``` `, waarbij de naam van de programmeertaal (*e.g.*, **markdown**, **python**, **html**,...) kan toegevoegd worden na de eerste set, om zo syntax highlighting te bekomen. \n",
    "Terug even in meta-modus stappende wordt het python codeblock\n",
    "```python\n",
    "var1 = \"hello\"\n",
    "var2 = \"world\"\n",
    "print(var1 + var2)\n",
    "```\n",
    "in Markdown opmaak neergeschreven als\n",
    "```markdown\n",
    "    ```python\n",
    "    var1 = \"hello\"\n",
    "    var2 = \"world\"\n",
    "    print(var1 + var2)\n",
    "    ```\n",
    "```\n",
    "\n",
    "**_Doe-opdracht:_**<br/>\n",
    "Beschrijf hieronder één manier om een stukje tekst schuin en vet op te maken in Markdown. Gebruik een inline code block om te vereiste Markdown opmaak te tonen."
   ]
  },
  {
   "cell_type": "markdown",
   "id": "10dfa4ef",
   "metadata": {},
   "source": [
    "\n",
    "\n"
   ]
  },
  {
   "cell_type": "markdown",
   "id": "8075cee7",
   "metadata": {},
   "source": [
    "<a name=\"1.3.--$\\LaTeX$-formules-en-meer\"> </a><!-- this additional tag is needed for colaboratory to work in a copy-->\n",
    "## 1.3.  $\\LaTeX$-formules en meer\n",
    "Formules spelen een centrale rol bij de STEM onderwerpen. Deze kunnen zeer eenvoudig of complex zijn. Het juist en duidelijk weergeven is dan ook een belangrijk onderdeel bij wetenschappelijke rapportering. Zowel in *word* als in *Markdown* is het mogelijk hiervoor ***$\\LaTeX$-opmaak*** te gebruiken. Een formule binnen een tekstregel wordt afgebakend met één &dollar;-teken (*e.g.* ``$x=\\frac{1}{2}y^2$`` geeft $x=\\frac{1}{2}y^2$ ), terwijl een formule op één of meerdere volledige regels afgebakend wordt met een dubbel &dollar;&dollar;-teken: (Merk op dat hier een extra spatie tussen de &dollar;-tekens is toegevoegd om de opmaak zichtbaar te houden.)\n",
    "```latex\n",
    " $ $\n",
    " f(x)=\n",
    " \\begin{cases}\n",
    " 1/d_{ij} & \\quad \\text{when $d_{ij} \\leq 160$}\\\\ \n",
    " 0 & \\quad \\text{otherwise}\n",
    " \\end{cases}\n",
    " $ $\n",
    "```\n",
    "geeft\n",
    "$$\n",
    "f(x)=\n",
    "\\begin{cases}\n",
    "1/d_{ij} & \\quad \\text{when $d_{ij} \\leq 160$}\\\\ \n",
    "0 & \\quad \\text{otherwise}\n",
    "\\end{cases}\n",
    "$$\n",
    "\n",
    "Voor de specifieke details welke gepaard gaan met de  $\\LaTeX$ opmaak van formules verwijzen we naar andere bronnen zoals [deze](https://ashki23.github.io/markdown-latex.html) of de steeds verder groeiende [Not So Short Introduction To  $\\LaTeX$](https://tobi.oetiker.ch/lshort/lshort.pdf).\n",
    "\n",
    "#### Beyond Markdown ####\n",
    "Hoewel Markdown ons eenvoudige toegang geeft tot het opmaken van documenten, heeft het geen standaard oplossing voor alle mogelijke opmaakvormen. Hierboven zagen we reeds hoe $\\LaTeX$ kan gebruikt worden om formules mooi weer te geven, en helemaal in het begin leerden we dat de HTML-tags ``<sub>`` en ``<sup>`` nodig zijn voor het bekomen van sub-en superscripts. Je kan hier zelfs nog verder in gaan. Alle geldige HTML code kan ook binnen Markdown gebruikt worden. Hierdoor is het mogelijk niet bestaande opmaak elementen op te vangen, of specifieke manipulaties door te voeren welke niet met Markdown mogelijk zijn. Bij dit laatste kun je denken aan het herschalen van een afbeelding, wat eenvoudig mogelijk is in HTML, maar waarvoor Markdown geen mogelijkheden biedt. \n",
    "\n",
    "Zoals je ziet kan er zeer ver gegaan worden, en het is niet het doel dat je al deze extensies machtig bent. Het belangrijkste is weten dat ze bestaan, zodat je ze indien gewenst kan opzoeken.\n",
    "\n",
    "--- "
   ]
  },
  {
   "cell_type": "markdown",
   "id": "80560267",
   "metadata": {},
   "source": [
    "<a name=\"2.-Basisbegrippen-Python\"> </a><!-- this additional tag is needed for colaboratory to work in a copy-->\n",
    "# 2. Basisbegrippen Python #\n",
    "In de voorgaande [sectie](#1.-Basisbegrippen-Jupyter-notebooks) leerden we hoe tekst-cellen in een Jupyter notebook kunnen opgemaakt worden. Nu richten we onze focus op het echte werk: *programmeren in python*. Voor we hieraan beginnen is het misschien belangrijk op te merken dat er **2 versies** van python bestaan: *python 2* en *python 3*. Hoewel deze grotendeels hetzelfde zijn wordt er aangeraden tegenwoordig enkel nog python 3 te gebruiken bij het ontwikkelen van nieuwe applicaties. In deze tutorials zullen we dan ook enkel **python 3** gebruiken.\n",
    "\n",
    "<a name=\"2.1.-Interactieve-rekenmachine\"> </a><!-- this additional tag is needed for colaboratory to work in a copy-->\n",
    "## 2.1. Interactieve rekenmachine ##\n",
    "Zeer cru gesteld zou je kunnen zeggen dat mensen programma's schrijven omdat ze niet zelf met pen en papier willen rekenen. De naam van één van de eerste, oudste (en nog steeds actieve) programmeertalen ***Fortran*** is dan ook de samentrekking van **For**mula **Tran**slation (formule vertaling). Het doel was om op eenvoudige en duidelijke wijze, formules op papier om te zetten in iets waar een computer ook mee aan de slag kon, om zo het zware werk over te nemen. Python is net als Fortran (en de meeste andere programmeertalen), een soort uit de kluiten gewassen rekenmachine. Je kan dit zeer eenvoudig nagaan. \n",
    "\n",
    "**_Doe-opdracht:_**<br/>\n",
    "Type in de cel hieronder een willekeurige rekenoefening en laat de cel uitgevoerd worden door op de **Run**-knop te drukken."
   ]
  },
  {
   "cell_type": "code",
   "execution_count": null,
   "id": "1720d168",
   "metadata": {
    "ExecuteTime": {
     "end_time": "2023-01-26T09:05:16.906424Z",
     "start_time": "2023-01-26T09:05:16.887475Z"
    }
   },
   "outputs": [],
   "source": [
    "3.1415 + 132 * 236 -(619 / 69.5)"
   ]
  },
  {
   "cell_type": "markdown",
   "id": "740a5cf2",
   "metadata": {},
   "source": [
    "Wat gebeurt er indien je meerdere oefeningen onder elkaar schrijft en de cel laat uitvoeren?\n",
    "\n",
    "<details>\n",
    "    <summary><b><u>Spoiler</u></b></summary>\n",
    "Hoewel alle berekeningen worden uitgevoerd wordt enkel het resultaat van de laatste berekening als output getoond. Dit is een standaard gedrag van Jupyter notebooks. Hou hier rekening mee wanner je aan complexere scripts werkt. Van alles wat in een interactieve python omgeving (=python command-line omgeving) output zou genereren naar het scherm wordt enkel de laatste output in de cel getoond. Er zijn 2 manieren om dit te omzeilen:\n",
    "    \n",
    "1. Maak gebruik van de ``print`` functie. Door elke oefening in een printfunctie uit te voeren (*e.g.* ``print(7+1)``) wordt elk resultaat uitgeschreven.\n",
    "2. Een meer geavanceerde optie (buiten het bestek van deze tutorials) is het aanpassen van het gedrag van het gehele notebook door een cel toe te voegen met de volgende commando's:\n",
    "    \n",
    "```python\n",
    "from IPython.core.interactiveshell import InteractiveShell\n",
    "InteractiveShell.ast_node_interactivity = \"last\"\n",
    "```\n",
    "\n",
    "Hierbij kan ``ast_node_interactivity``de volgende waarden krijgen: *'all', 'none', 'last' en 'last_expr'* (zie [handleiding](https://ipython.readthedocs.io/en/stable/config/options/terminal.html) )\n",
    "   \n",
    "</details>"
   ]
  },
  {
   "cell_type": "markdown",
   "id": "2e7ef564",
   "metadata": {
    "ExecuteTime": {
     "end_time": "2023-01-26T08:53:36.891962Z",
     "start_time": "2023-01-26T08:53:36.878995Z"
    }
   },
   "source": [
    "<a name=\"2.2.-Variabelen-&-datatypes\"> </a><!-- this additional tag is needed for colaboratory to work in a copy-->\n",
    "## 2.2. Variabelen & datatypes ##\n",
    "Hoewel het bovenstaande een leuke gimmick is, is een gewone rekenmachine handiger voor dit doel dan telkens een Jupyter notebook hiervoor op te starten. Het gebruik van een programmeertaal vindt zijn nut in het uitvoeren van complexe berekeningen (*c.q.* formules) en/of grote aantallen berekeningen. Zoals je uit ervaring weet bestaan formules (*e.g.* $x=3y^2-2$) uit **variabelen** welke verschillende waarden kunnen aannemen. In programmeertalen hebben we een vergelijkbaar concept van **variabelen**. Dit zijn **plaatsen waar waarden worden opgeslagen**. Elke variabele heeft een unieke naam (*e.g.* $x$ of *snelheid*). Om een waarde in een variabele te stoppen dienen we de **waarde aan de variabele toe te kennen**. In python gebeurt dit met het `=`-symbool.\n",
    "\n",
    "Deze toekenning kan aan een waarde zijn welke we als gebruiker kennen, of aan het resultaat van een formule."
   ]
  },
  {
   "cell_type": "code",
   "execution_count": null,
   "id": "182c1e8b",
   "metadata": {
    "ExecuteTime": {
     "end_time": "2023-01-26T09:20:58.854300Z",
     "start_time": "2023-01-26T09:20:58.844299Z"
    }
   },
   "outputs": [],
   "source": [
    "y = 7\n",
    "x = 3*y*y-2\n",
    "print(\"De waarde van y is\",y)\n",
    "print(\"De waarde van x is\",x)"
   ]
  },
  {
   "cell_type": "markdown",
   "id": "1da3416a",
   "metadata": {},
   "source": [
    "Tot nu toe hebben we getallen gebruikt als waarden, maar dit is niet het enige wat mogelijk is. Ook een *letter* of een *stukje tekst* kan een waarde zijn. En hoewel voor ons `2` en `2.0000` exact dezelfde getallen zijn, is dit voor een computer niet het geval. Deze maakt immers een onderscheid tussen *gehele getallen* zoals `2`, en *decimale getallen* zoals `2.000`. Deze verschillende soorten waarden (geheel getal, decimaal getal, tekst,...) noemen we **datatypes**. In veel programmeertalen dien je expliciet aan de computer te vertellen welk datatype in een bepaalde variabele opgeslagen mag worden, dit is niet het geval in python, deze probeert dit zelf te bepalen. De `type`-functie kun je gebruiken om te weten te komen welk datatype er elk moment aanwezig is in een variabele."
   ]
  },
  {
   "cell_type": "code",
   "execution_count": null,
   "id": "066f4d7d",
   "metadata": {
    "ExecuteTime": {
     "end_time": "2023-01-26T09:37:20.909230Z",
     "start_time": "2023-01-26T09:37:20.893195Z"
    }
   },
   "outputs": [],
   "source": [
    "var = 7\n",
    "print(var,\" --> \",type(var))\n",
    "var = 7.0\n",
    "print(var,\" --> \",type(var))\n",
    "var = \"zeven\"\n",
    "print(var,\" --> \",type(var))"
   ]
  },
  {
   "cell_type": "markdown",
   "id": "dc11c1b0",
   "metadata": {},
   "source": [
    "### <u> datatypes</u> ###\n",
    "Enkele van de basis datatypes waarmee je zeker in contact zal komen zijn de volgende:\n",
    "\n",
    "+ **int** (integer): een positief of negatief geheel getal\n",
    "+ **float**        : een decimaal getal of reëel getal (*floating point number*)\n",
    "+ **str** (string) : een karakter reeks of stukje tekst.\n",
    "+ **bool** (boolean): een logische waarde. Deze kan enkel *True* of *False* zijn.\n",
    "+ **list**         : een lijst van waarden (in python hoeven deze zelfs niet van hetzelfde datatype te zijn, in tegenstelling tot talen zoals C en Fortran). Een lijst wordt weergegeven met `[ ]`: *e.g.* [1, 5.6, 2.1, 99]\n",
    "+ **dict** (dictionary): een *woordenboek* is een datatype dat je toelaat twee waarden aan elkaar te koppelen als een *key:value*-duo. Een woordenboek wordt met `{ }` aangegeven:\n",
    "```python\n",
    "Molecule = {\n",
    "    'naam'    : \"water\",\n",
    "    'Symbool' : \"H2O\"  ,\n",
    "    'massa'   : 18.015 \n",
    "}\n",
    "```\n",
    "\n",
    "&nbsp;  \n",
    "\n",
    "&nbsp;  \n",
    "**_Doe-opdracht:_**<br/>\n",
    "1. Maak in de cel hieronder enkele variabelen aan van verschillende types (int, float, str, en bool), en ga na of python het type juist herkent.\n",
    "2. Maak ook een lijst waar je alle hierboven gemaakte variabelen in stopt, en test het type van de lijst.\n",
    "3. Maak nu een woordenboek waar je alle hierboven gemaakte variabelen in stopt, en test het type van het woordenboek. "
   ]
  },
  {
   "cell_type": "code",
   "execution_count": null,
   "id": "266796a0",
   "metadata": {},
   "outputs": [],
   "source": [
    "\n"
   ]
  },
  {
   "cell_type": "markdown",
   "id": "65098dbd",
   "metadata": {},
   "source": [
    "<a name=\"2.3.-Operaties\"> </a><!-- this additional tag is needed for colaboratory to work in a copy-->\n",
    "## 2.3. Operaties ##\n",
    "Naast variabelen (en hun soort) bevat een formule ook **operaties** of **bewerkingen**. Maar dit is niet het enige wat je met getallen kan doen, je kan deze ook **met elkaar vergelijken** (*comparison*) wat voor een computer ook een soort bewerking is. Het resultaat van een vergelijkingsbewerking is een logische waarde (*True* of *False*). Eenmaal je logische waarden hebt kun je hier ook bewerkingen mee uitvoeren, de zogenaamde ***booleaanse bewerkingen*** (*e.g.* **and**, **or**, **not**)\n",
    "\n",
    "<b><u> Getal types</u></b>\n",
    "- **Bewerkingen**\n",
    "    - ``+, -, *, / `` : Standaard bewerkingen tussen getaltypes.\n",
    "    - `` % `` : De modulo operator.\n",
    "    - `` ** ``: De machtsverheffing. De derde macht van een variabele *var* wordt gegeven door `` var**3 ``\n",
    "    - `` // ``: Dit is een speciaal type deling, hierbij wordt het resultaat afgekapt op het gehele getal. **LET OP** dit is niet hetzelfde als afronden. `` 8//9 = 0 ``\n",
    "    - `` abs(x) ``: Deze functie geeft de absolute waarde van een getal.\n",
    "- **vergelijkingen**\n",
    "    - `` >, <, >=, <= ``: Standaard vergelijkingen groter, kleiner, groter of gelijk, kleiner of gelijk.\n",
    "    - `` == ``          : Gezien het enkelvoudige ``=``-symbool reeds voor de toewijzing wordt gebruikt, wordt het dubbele ``=``-symbool gebruikt om te testen of twee zaken gelijk zijn. **LET OP** het veilig testen van gelijkheid bij decimale getallen vereist iets meer aandacht. We komen hier later op terug. Voor nu is het voldoende om te weten dat deze gelijkheid best enkel gebruikt wordt om de gelijkheid van gehele getallen te testen.\n",
    "    - `` != ``          : Hiermee test je of getallen verschillend zijn. (Terug met dezelfde opmerking voor decimale getallen.)\n",
    "\n",
    "<b><u> Logische waarden</u></b>\n",
    "- **Logische bewerkingen** \n",
    "    - ``x or y`` : **OR** operator, geeft *True* indien minstens één van de variabelen *True* is.\n",
    "    - ``x and y``: **AND** operator, geeft *True* indien beide variabelen *True* zijn.\n",
    "    - ``not x``  : **NOT** operator, keert de logische waarde van de variabele om (*True*&rarr;*False* en *False*&rarr;*True*)\n",
    "\n",
    "We geven hier geen exhaustieve lijst van alle mogelijke bewerkingen en vergelijkingen voor alle mogelijke datatypes, gezien de meeste reeds vervat zijn in de lijst hierboven. Het bestaan(=gedefinieerd zijn) van een bewerkingen/vergelijking hangt samen met de zinvolheid hiervan voor een datatype. Bijvoorbeeld, voor **logische waarden** is gelijkheid (``==``) of verschil (``!=``) een zinvolle vergelijking, en kan deze dus gebruikt worden. Groter dan (``>``) heeft daarentegen geen zinvolle betekenis, en ware het niet dat in een computer de booleaanse waarden *True* en *False* met 1 en 0, respectievelijk, worden geassocieerd zou deze operatie een foutmelding geven.\n",
    "\n",
    "Voor het samenvoegen van twee **strings** kan gebruik worden gemaakt van de ``+`` operator, de ``-`` operator kun je daarentegen niet gebruik om een stukje uit een string weg te knippen.\n",
    "\n",
    "&nbsp;  \n",
    "\n",
    "**De volgorde van operaties en bewerkingen** volgt de standaard regels welke je kent vanuit de wiskunde les, uitgebreid met nog enkele specifieke ordeningen voor de combinaties tussen operaties en bewerkingen. Meer informatie kan steeds in de [handleiding](https://docs.python.org/3/library/stdtypes.html) gevonden worden. Over het algemeen is het **aangeraden om haakjes te gebruiken** waarmee je zelf de rekenvolgorde oplegt, om zo niet voor verrassingen te komen te staan.\n",
    "\n",
    "\n",
    "&nbsp;  \n",
    "**_Doe-opdracht:_**<br/>\n",
    "Maak in de cel hieronder twee variabelen aan en gebruik deze om voor enkele gevallen na te gaan welke operaties mogelijk zijn\n",
    "1. tussen twee lijstvariabelen,\n",
    "2. tussen twee woordenboekvariabelen,\n",
    "3. tussen twee stringvariabelen,\n",
    "4. en tussen combinaties van één stringvariabele en een andere variabele.\n",
    "Maak gebruik van een ``print`` functie om het resultaat uit te schrijven."
   ]
  },
  {
   "cell_type": "code",
   "execution_count": null,
   "id": "888e4a52",
   "metadata": {
    "ExecuteTime": {
     "end_time": "2023-01-27T10:52:23.891952Z",
     "start_time": "2023-01-27T10:52:23.872563Z"
    }
   },
   "outputs": [],
   "source": [
    "\n"
   ]
  },
  {
   "cell_type": "markdown",
   "id": "48214471",
   "metadata": {},
   "source": [
    "<a name=\"2.4.-Lussen,-keuzes-&-spaties\"> </a><!-- this additional tag is needed for colaboratory to work in a copy-->\n",
    "##  2.4. Lussen, keuzes & spaties ##\n",
    "\n",
    "Naast variabelen en operaties tussen variabelen, geeft een programmeertaal ook toegang tot *controlestructuren*. Dit is een moeilijke manier om te zeggen dat je bewerkingen kan laten herhalen (**lussen**) of keuzes (**als...dan**) kan inbouwen.\n",
    "## 2.4.a. <u>Lussen</u> ##\n",
    "Er zijn twee soorten herhalingen welke je kan tegenkomen:\n",
    "1. **Vast aantal herhalingen**: Hierbij weet je vooraf exact hoe vaak een berekening dient uitgevoerd te worden. bv. je hebt 10 samples waarvoor dezelfde analyse dient uitgevoerd te worden. Hiervoor wordt gebruik gemaakt van een zogenaamde **for-lus**. Een for-lus, heeft de volgende opmaak\n",
    "```python\n",
    "for i in lijst :\n",
    "      print(doe_iets)\n",
    "```\n",
    "Waar in vele programmeertalen de *lijst* een reeks gehele getallen is, is dit niet noodzakelijk het geval bij python. In python is het opzet algemener, en kan de lijst een willekeurige set van objecten zijn, welke zowel geordend als ongeordend kan zijn. Dit geeft extra vrijheid, maar soms kan het zaken iets ingewikkelder maken indien er orde in ongeordende structuren wil gebracht worden.\n",
    "\n",
    "Hieronder zie je een eenvoudig voorbeeld waarin de 5 getallen in een lijst worden uitgeschreven."
   ]
  },
  {
   "cell_type": "code",
   "execution_count": null,
   "id": "3d109c49",
   "metadata": {
    "ExecuteTime": {
     "end_time": "2023-01-27T11:23:57.301196Z",
     "start_time": "2023-01-27T11:23:57.285665Z"
    }
   },
   "outputs": [],
   "source": [
    "lijst=[1,2,3,4,5]  \n",
    "print(lijst)\n",
    "for i in lijst:\n",
    "    print(i)"
   ]
  },
  {
   "cell_type": "markdown",
   "id": "e06bbf96",
   "metadata": {},
   "source": [
    "Python heeft voor het genereren van dergelijke lijsten een eenvoudige ingebouwde functie ``range`` ([handleiding](https://www.w3schools.com/python/ref_func_range.asp)) welke je toelaat een reeks zoals hierboven te genereren zonder deze expliciet te moeten ingeven. Het is belangrijk om te weten dat het lijst object in dit geval een zogenaamde **iterator** is, en dus geen expliciete lijst zoals hierboven. Voor het gebruik als *lijst* in de for-lus doet het echter exact hetzelfde, je kan echter niet zelf het *n*-de element uit de lijst halen. Belangrijker is te weten dat de eindgrens opgegeven in de ``range`` functie niet meegenomen wordt. Dit is een gedrag dat ook elders in python voorkomt, en initieel wat tegenintuïtief aanvoelt."
   ]
  },
  {
   "cell_type": "code",
   "execution_count": null,
   "id": "d48ba3ae",
   "metadata": {
    "ExecuteTime": {
     "end_time": "2023-01-27T11:33:43.276328Z",
     "start_time": "2023-01-27T11:33:43.260371Z"
    }
   },
   "outputs": [],
   "source": [
    "lijst_it=range(1,6)  \n",
    "print(type(lijst_it),\" --> \",lijst_it)\n",
    "for i in lijst_it:\n",
    "    print(i)"
   ]
  },
  {
   "cell_type": "markdown",
   "id": "9e3b1271",
   "metadata": {},
   "source": [
    "De gebruikte lijst hoeft niet letterlijk een lijst te zijn. Elke vorm van een **collectie** (zie [notebook2](https://github.com/DannyVanpoucke/PythonTutorials/blob/main/Tutorials_nl/02_PythonProgramParts.ipynb)) kan gebruikt worden in een for-lus. In die zin is een stukje tekst (*i.e.* een string) ook een mogelijke lijst om te gebruiken in een for-lus."
   ]
  },
  {
   "cell_type": "code",
   "execution_count": null,
   "id": "8a695db4",
   "metadata": {
    "ExecuteTime": {
     "end_time": "2023-01-31T08:40:23.158973Z",
     "start_time": "2023-01-31T08:40:23.112381Z"
    }
   },
   "outputs": [],
   "source": [
    "regel = \"Hello H2O!\"\n",
    "for i in regel:\n",
    "    print(i)"
   ]
  },
  {
   "cell_type": "markdown",
   "id": "3844c257",
   "metadata": {},
   "source": [
    "Een andere veel voorkomende soort collectie is het woordenboek, dat een ***key*** aan een ***value*** koppelt. Hierdoor bestaat elk woordenboek-element uit twee componenten. Deze twee componenten kunnen gelijktijdig in de lus doorlopen worden. Hierbij dient echter wel gebruik gemaakt te worden van de woordenboek-functie ``items()``. Hoewel een woordenboek ongeordend kan zijn, kan de ***key*** steeds gebruikt worden als index, om de value bij deze key te vinden."
   ]
  },
  {
   "cell_type": "code",
   "execution_count": null,
   "id": "94a22983",
   "metadata": {
    "ExecuteTime": {
     "end_time": "2023-02-01T19:33:48.920430Z",
     "start_time": "2023-02-01T19:33:48.902480Z"
    }
   },
   "outputs": [],
   "source": [
    "boek = {\"key1\":\"waarde1\", \"gewicht\":15}\n",
    "for key,val in boek.items():\n",
    "    print(key,\"==>\",val,\" Dit is ook echt de waarde behorende bij deze key: \",boek[key])"
   ]
  },
  {
   "cell_type": "markdown",
   "id": "500ad68b",
   "metadata": {},
   "source": [
    "2. **Conditionele herhalingen**: In dit geval wordt de bewerking herhaald zolang aan een voorwaarde voldaan is. bv. verhoog de temperatuur tot deze 75°C is. Hierbij wordt gebruik gemaakt van een **while-lus**. Deze heeft de volgende algemene opmaak\n",
    "```python\n",
    "while (iets_is_waar) :\n",
    "      doe_iets\n",
    "```\n",
    "Een praktisch voorbeeld wordt in de onderstaande cel gegeven."
   ]
  },
  {
   "cell_type": "code",
   "execution_count": null,
   "id": "b0dd4586",
   "metadata": {
    "ExecuteTime": {
     "end_time": "2023-01-27T13:18:55.942430Z",
     "start_time": "2023-01-27T13:18:55.925484Z"
    }
   },
   "outputs": [],
   "source": [
    "import random\n",
    "\n",
    "T = 10\n",
    "stap = 0\n",
    "\n",
    "while (T<75):\n",
    "    stap = stap + 1\n",
    "    T = T+5*(1+random.random()) \n",
    "    print(\"Temperatuur bij stap \",stap, \"= \",T,\" °C\")"
   ]
  },
  {
   "cell_type": "markdown",
   "id": "29f669a2",
   "metadata": {},
   "source": [
    "In het voorgaande python scriptje wordt de temperatuur T bij elke stap 5 a 10 °C verhoogd. De hier gebruikte ``random()`` functie geeft een uniform verdeeld willekeurig decimaal getal tussen 0 en 1, wat bij 1 wordt opgeteld en vermenigvuldigd met 5. Als je de bovenstaande cel verschillende keren na elkaar uitvoert, zal je zien dat de resultaten elke keer anders zijn, en ook het aantal nodige stappen verschilt. \n",
    "\n",
    "&nbsp;  \n",
    "**_Doe-opdracht:_**<br/>\n",
    "Los volgende vragen op:\n",
    "1. Hoeveel stappen heb je theoretisch steeds minimaal nodig?\n",
    "2. Hoeveel stappen heb je theoretisch steeds maximaal nodig?\n",
    "3. Hoeveel stappen heb je theoretisch gemiddeld nodig?\n",
    "4. Voer het bovenstaande script een tiental keer uit en noteer het aantal stappen. Voldoen de resultaten aan je theoretische verwachtingen?"
   ]
  },
  {
   "cell_type": "markdown",
   "id": "22df6e23",
   "metadata": {},
   "source": [
    "## 2.4.b. <u>Keuzes</u> ##\n",
    "Naast het herhalen van berekeningen is er ook de mogelijkheid om keuzes te maken. Het is mogelijk om conditioneel een berekening wel of niet uit te voeren of om te kiezen tussen verschillende berekeningen. Hiervoor heeft python de *als-dan* (**if-else**) uitdrukking ter beschikking. Deze kan op **3** manieren voorkomen:\n",
    "1. **Zuiver conditioneel**:\n",
    "```python\n",
    "if x<0 :\n",
    "      print(\"x is een negatief getal\")\n",
    "```\n",
    "2. **Twee complementaire alternatieven**:\n",
    "```python\n",
    "if x>0 :\n",
    "     kwad = x**0.5\n",
    "     print(\"x is een positief getal, en de wortel is \", kwad)\n",
    "else:\n",
    "     print(\"x is een negatief getal, en heeft geen reële wortel.\")\n",
    "```\n",
    "3. **Gelinkte conditionele keuzes**. In sommige andere programmeertalen wordt deze optie beschreven met een **case**/**select** statement. Dit bestaat echter niet in python, waardoor gebruik moet worden gemaakt van zogenaamde if-else cascades. In de code hieronder zie je dat **elif** wordt gebruikt als afkorting voor **else if**.\n",
    "```python\n",
    "if fruit=='banaan':\n",
    "      print(\"Een banaan is krom.\")\n",
    "elif fruit=='appel':\n",
    "      print(\"Appels zijn rond en soms groen.\")\n",
    "elif fruit=='kiwi':\n",
    "      print(\"Wees voorzichtig met de schil.\")\n",
    "else:\n",
    "      print(\"Dit fruit ken ik niet.\")\n",
    "```"
   ]
  },
  {
   "cell_type": "markdown",
   "id": "6b5ec95f",
   "metadata": {
    "ExecuteTime": {
     "end_time": "2023-01-27T13:45:22.358554Z",
     "start_time": "2023-01-27T13:45:22.352533Z"
    }
   },
   "source": [
    "## 2.4.c. <u>Spaties</u> ##\n",
    "Het is je misschien opgevallen dat in bovenstaande constructies er telkens een insprong was waar de code kwam. Dit is een eigenschap van python. Waar in andere programmeertalen een blok code dat behoort bij een constructie (we zullen later zien dat dit ook het geval is bij functies) wordt omgeven door speciale keywords of symbolen (in C/C++: ``{ }``, in Fortran en pascal ``begin...end``) wordt in python een code-blok aangegeven door de indentering ervan. Deze keuze is ingegeven vanuit het idee dat dit *good coding practices* bevordert. Het is immers ook bij andere programmeertalen de bedoeling dat je indentering gebruikt om je code leesbaar te houden (voor mensen), maar deze indentering is niet verplicht. Gezien het educatief karakter van python vonden de ontwikkelaars het dwingend opleggen van indentering wel een goed idee.\n",
    "\n",
    "&nbsp;  \n",
    "**_Doe-opdracht:_**<br/>\n",
    "Bekijk het onderstaande stuk code. \n",
    "1. Wat er gebeurt indien je de indentering van de laatste regel verwijdert. \n",
    "2. Wat er gebeurt indien je de indentering van alle regels verwijdert. \n",
    "3. Wat er gebeurt indien je de indentering van de laatste twee regel verwijdert. "
   ]
  },
  {
   "cell_type": "code",
   "execution_count": null,
   "id": "655314ca",
   "metadata": {
    "ExecuteTime": {
     "end_time": "2023-01-27T14:57:43.151663Z",
     "start_time": "2023-01-27T14:57:43.140896Z"
    }
   },
   "outputs": [],
   "source": [
    "import random\n",
    "\n",
    "T = 10\n",
    "stap = 0\n",
    "while (T<35):\n",
    "    stap = stap + 1\n",
    "    T = T+5*(1+random.random()) \n",
    "    print(\"Temperatuur bij stap \",stap, \"= \",T,\" °C\")"
   ]
  },
  {
   "cell_type": "markdown",
   "id": "7cc3ce34",
   "metadata": {},
   "source": [
    "Indien je meerdere constructies in elkaar genesteld hebt, dien je steeds diepere indeteringslagen toe te voegen. Een eenvoudig voorbeeld zie je hieronder: "
   ]
  },
  {
   "cell_type": "code",
   "execution_count": null,
   "id": "521688a0",
   "metadata": {
    "ExecuteTime": {
     "end_time": "2023-01-27T15:04:23.563255Z",
     "start_time": "2023-01-27T15:04:23.549935Z"
    }
   },
   "outputs": [],
   "source": [
    "keuze='groot'\n",
    "lijst=['a','b','c']\n",
    "    \n",
    "if keuze=='klein':\n",
    "    for letter in lijst:\n",
    "        regel=\"Een kleine letter \"+letter\n",
    "        print(regel)\n",
    "elif keuze=='groot':\n",
    "    for letter in lijst:\n",
    "        regel=\"Een GROTE letter \"+letter.upper() #upper maakt van de string letter een string met alle karakters in hoofdletter.\n",
    "        print(regel)    \n",
    "else:\n",
    "    print(\"Je kan enkel 'klein' of 'groot' kiezen.\")"
   ]
  },
  {
   "cell_type": "markdown",
   "id": "6f2d3b90",
   "metadata": {},
   "source": [
    "Dit is het einde van deze eerste python tutorial. In de [volgende tutorial](https://github.com/DannyVanpoucke/PythonTutorials/blob/main/Tutorials_nl/02_PythonProgramParts.ipynb) gaan we dieper in op programmastructuren en complexere datatypes."
   ]
  }
 ],
 "metadata": {
  "kernelspec": {
   "display_name": "Python 3 (ipykernel)",
   "language": "python",
   "name": "python3"
  },
  "language_info": {
   "codemirror_mode": {
    "name": "ipython",
    "version": 3
   },
   "file_extension": ".py",
   "mimetype": "text/x-python",
   "name": "python",
   "nbconvert_exporter": "python",
   "pygments_lexer": "ipython3",
   "version": "3.10.11"
  },
  "latex_envs": {
   "LaTeX_envs_menu_present": true,
   "autoclose": false,
   "autocomplete": true,
   "bibliofile": "biblio.bib",
   "cite_by": "apalike",
   "current_citInitial": 1,
   "eqLabelWithNumbers": true,
   "eqNumInitial": 1,
   "hotkeys": {
    "equation": "Ctrl-E",
    "itemize": "Ctrl-I"
   },
   "labels_anchors": false,
   "latex_user_defs": false,
   "report_style_numbering": false,
   "user_envs_cfg": false
  },
  "varInspector": {
   "cols": {
    "lenName": 16,
    "lenType": 16,
    "lenVar": 40
   },
   "kernels_config": {
    "python": {
     "delete_cmd_postfix": "",
     "delete_cmd_prefix": "del ",
     "library": "var_list.py",
     "varRefreshCmd": "print(var_dic_list())"
    },
    "r": {
     "delete_cmd_postfix": ") ",
     "delete_cmd_prefix": "rm(",
     "library": "var_list.r",
     "varRefreshCmd": "cat(var_dic_list()) "
    }
   },
   "types_to_exclude": [
    "module",
    "function",
    "builtin_function_or_method",
    "instance",
    "_Feature"
   ],
   "window_display": false
  }
 },
 "nbformat": 4,
 "nbformat_minor": 5
}
