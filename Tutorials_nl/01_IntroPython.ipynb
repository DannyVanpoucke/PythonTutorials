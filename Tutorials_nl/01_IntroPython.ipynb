{
 "cells": [
  {
   "cell_type": "markdown",
   "id": "c5b4671f",
   "metadata": {},
   "source": [
    "# Basisbegrippen Jupyter Notebooks & Python #\n",
    "\n",
    "Welkom bij deze tutorial reeks over python voor studenten Chemie. \n",
    "\n",
    "In deze reeks tutorials maak je kennis met **python** als tool voor **data-analyse en-visualisatie**. Je leert de *basisconcepten kennen* van deze programmeertaal en doet eerste *praktische ervaring* op. Bij het opstellen van deze tutorials zijn we er van uit gegaan dat je geen praktische voorkennis in python of programmeren in het algemeen hebt. Indien dit toch het geval zou zijn, zullen de eerste notebooks uitermate eenvoudig zijn. Gezien het beperkte tijdsbestek zijn er ook keuzes gemaakt met betrekking tot de onderwerpen welke aan bod komen en hun uitdieping. Wens je meer over een bepaald onderwerp te leren dan zijn er voldoende online bronnen beschikbaar om via zelfstudie de nodige uitdieping te bekomen. \n",
    "\n",
    "Met het oog op het zo laagdrempelig mogelijk houden van deze tutorials, maken we gebruik van __*Jupyter notebooks*__ zoals deze. Het is de bedoeling dat je deze notebooks uitvoert en aanpast waar gevraagd. Dit laatste doe je op je eigen *google drive* waar je de tutorials gebruikt in de vorm van *google colaboratory* documenten. Indien je dit nog niet het geval is, lees dan eerst [00_PythonInstallatie.md](https://github.com/DannyVanpoucke/PythonTutorials/blob/main/Tutorials_nl/00_PythonInstallatie.md), waarbij je **puntje 1.1.** uitvoert.\n",
    "\n",
    "In dit eerste notebook leer je ook meer over de *Jupyter notebooks* zelf, gezien deze in combinatie met python je toelaten interactieve documenten te creëren, ideaal bij data-analyse.\n",
    "\n",
    "## Inhoudstafel ##\n",
    "1. [Basisbegrippen Jupyter notebooks](#1.-Basisbegrippen-Jupyter-notebooks)<br/>\n",
    "   1.1. [Cellen en soorten cellen](#1.1.-Cellen-en-soorten-cellen)<br/>\n",
    "   1.2. [Markdown](#1.2.-Markdown)<br/>\n",
    "   1.3. Formules<br/>\n",
    "2. Basisbegrippen Python<br/>\n",
    "   2.1. Interactieve rekenmachine<br/>\n",
    "   2.2. Basis-Variabelen<br/>\n",
    "   2.3. Operaties<br/>\n",
    "   2.4. Lussen, keuzes & spaties<br/>\n",
    "   "
   ]
  },
  {
   "cell_type": "markdown",
   "id": "b7c26668",
   "metadata": {
    "ExecuteTime": {
     "end_time": "2023-01-24T10:12:02.036609Z",
     "start_time": "2023-01-24T10:12:02.018658Z"
    }
   },
   "source": [
    "# 1. Basisbegrippen Jupyter notebooks #\n",
    "Jupyter notebooks zijn een uitermate handige tool binnen de Python ecologie. Ze laten je toe stukken code te combineren met (uitgebreide) stukken opgemaakte tekst, formules en afbeeldingen. Hierdoor is het mogelijk gestructureerd en geannoteerde analyses uit te voeren en te delen.\n",
    "\n",
    "## 1.1. Cellen en soorten cellen ##\n",
    "De informatie in een Jupyter notebook wordt ondergebracht in **cellen**. De grootte van een cel kan variëren van één enkele regel tot verschillende paragrafen. Er zijn verschillende manieren om een cel toe te voegen, welke deels afhangen van de omgeving. \n",
    "\n",
    "In een **standaard Jupyter notebook omgeving** kun je een nieuwe cel\n",
    "- op het einde van het notebook toevoegen door de laatste cel *uit te voeren* (**Run**),\n",
    "- invoegen boven of onder de huidige geselecteerde cel via het menu **Insert**&rarr;**Insert cell Above/Below**.\n",
    "\n",
    "In een **google Colaboratory omgeving** doe kun je een nieuwe cel toevoegen na de geselecteerde cel\n",
    "- met de **+code** en **+Text** knoppen onder het menu,\n",
    "- via het menu **Insert**&rarr;**Code cell/Text cell**.\n",
    "\n",
    "Om een **cel te verplaatsen** kan gebruik gemaakt worden van de knoppen met de **&uarr;** en **&darr;** onder het menu (**standaard**) of rechtsboven de geselecteerde cel (**colaboratory**). Zoals je hierboven reeds merkte bestaan er **twee soorten cellen**:\n",
    "1. **Code cel**: In dit type cel voeg je python code toe. De opmaak van de python code volgt dezelfde regels als in een python script en kan dus vaak tussen de twee heen en weer gekopiëerd worden.\n",
    "2. **Tekst/Markdown cel**: In dit type cel voeg je tekst toe aan je bestand. Deze tekst kan opgemaakt worden met behulp van *Markdown*, een mark-up taal (zoals HTML)."
   ]
  },
  {
   "cell_type": "markdown",
   "id": "0801c1d9",
   "metadata": {},
   "source": [
    "## 1.2. Markdown ##\n",
    "Markdown is een voorbeeld van een mark-up taal. Dit is een set regels welke toelaat de opmaak van een document aan te passen naar meer dan platte tekst. Een gekend voorbeeld van een mark-up taal is HTML. Deze maakt gebruik van tags om een stuk tekst een specifieke opmaak te geven. Een **niet-geordende lijst in HTML** ziet er bijvoorbeeld als volgt uit:\n",
    "```HTML\n",
    "<ul>\n",
    "    <li> Item 1</li>\n",
    "    <li> Item 2</li>\n",
    "</ul>\n",
    "```\n",
    "In markdown, wat we gebruiken om tekst cellen in Jupyter notebooks (en Github pagina's) op te maken is eenvoudiger (en ook deels beperkter) dan HTML. Hieronder geven we enkele basis-onderdelen van de markdown-taal. Wie meer wil weten, of naar specifieke elementen op zoek is wordt aangeraden online te gaan kijken bij [Markdown Cheatsheets](https://github.com/adam-p/markdown-here/wiki/Markdown-Cheatsheet) of [github-docs](https://docs.github.com/en/get-started/writing-on-github/getting-started-with-writing-and-formatting-on-github/basic-writing-and-formatting-syntax) of zelf een van de vele andere bronnen te bezoeken. \n",
    "\n",
    "In deze tutorial beperken we ons tot enkele opmaak elementen.\n"
   ]
  },
  {
   "cell_type": "markdown",
   "id": "0d073f90",
   "metadata": {},
   "source": [
    "### Hoofdingen ###\n",
    "In dit document maken we gebruik van hoofdingen met verschillende niveaus. Een hoofding wordt in Markdown aangegeven met een ``#``-symbool, en het aantal opeenvolgende ``#``-symbolen geeft het hoofdingsniveau weer. Tussen het ``#``-symbool en de hoofding dient minstens één spatie voor te komen, anders wordt het niet als hoofding herkend. (Merk op dat het inspringen een neven-effect is van de weergave, en dus niet in de opmaak aanwezig is.)\n",
    "```Markdown\n",
    "# Hoofding niveau 1 #\n",
    "## Hoofding niveau 2 ##\n",
    "### Hoofding niveau 3 ###\n",
    "```\n",
    "\n",
    "**_Doe-opdracht:_**<br/>\n",
    "Ga in de cel hieronder na wat het maximale niveau van een hoofding kan zijn."
   ]
  },
  {
   "cell_type": "markdown",
   "id": "d69a118f",
   "metadata": {},
   "source": [
    "\n"
   ]
  },
  {
   "cell_type": "markdown",
   "id": "fa47dc36",
   "metadata": {},
   "source": [
    "### Tekst-stijl ###\n",
    "Indien je nadruk wil legen op één of meerdere woorden kan dit door de tekst-stijl aan te passen.\n",
    "+ ``**vet**`` of ``__vet__`` geeft **vet**\n",
    "+ ``*schuin*`` of ``_schuin_`` geeft *schuin*\n",
    "+ ``***vet en schuin***`` of ``**_vet en schuin_**`` of ``__*vet en schuin*__`` geeft **_vet en schuin_**\n",
    "+ ``~~doorstreept~~`` geeft ~~doorstreept~~\n",
    "\n",
    "Voor chemici zijn sub- en super-scripts ook enrom belangrijk gezien deze veelvulding voorkomen in chemische formules en notaties voorkomen. In een stuk tekst willen je niet H2O of 13C zien te voorschijn komen maar wel H<sub>2</sub>O en <sup>13</sup>C. Hiervoor heeft Markdown geen eigen opmaak element, maar kunnen we gebruik maken van de **standaard HTML tags** ``<sub>`` en ``<sup>`` om respectievelijk sub- en superscripts aan te geven. De opmaak voor de watermolecule en het koolstof-13 atoom is dan ``H<sub>2</sub>O`` en ``<sup>13</sup>C``.\n",
    "\n",
    "\n",
    "**_Doe-opdracht:_**<br/>\n",
    "Gebruik de cel hieronder om te de volgende opmaak te bekomen:<br/>\n",
    "> **Koolstof-NMR** is analoog aan *proton-NMR* (**<sup>1</sup>H NMR**) en laat toe de koolstof atomen in organische moleculen te identificeren, net zoals ~~koolstof~~ proton NMR waterstof atomen identificeerd. "
   ]
  },
  {
   "cell_type": "markdown",
   "id": "7f2a20d2",
   "metadata": {},
   "source": [
    "\n"
   ]
  },
  {
   "cell_type": "markdown",
   "id": "786b07d3",
   "metadata": {},
   "source": [
    "### Lijsten ###\n",
    "De opmaak van een lijst is een stuk minder uitgebreid dan in het geval van HTML. De niet-geordende HTML lijst waarmee we het deel over Markdown startten ziet er als volgt uit:\n",
    "```markdown\n",
    "- Item 1\n",
    "- Item 2\n",
    "```\n",
    "Met andere woorden, door enkel ``-`` (of ``+`` of ``*``) vooraan de regel te plaatsen wordt de opmaak van een ongeordende lijst aangegeven. Voor een geordende lijst gebruik je ``1.`` enzovoort. Om lijsten te nesten dien je telkens spaties vooraan toe te voegen, zodat de nummering van de sub-lijst op gelijke hoogte staat als de tekst van het lijst-element waaronder het valt. Een voorbeeld met een geordende sub-lijst en ongeordende sub-sub-lijst:\n",
    "```markdown\n",
    "1. Item 1\n",
    "   1. Geordend sub-item 1\n",
    "   2. Geordend sub-item 2\n",
    "      + Ongeordend sub-sub-item 1\n",
    "      + Ongeordend sub-sub-item 2\n",
    "2. Item 2\n",
    "```\n",
    "Hoewel de geordende lijst telkens opnieuw telt, geeft de visualisatie een andere lijst-nummering, zoals te zien is in het resultaat van de gebruikte markup hierboven:\n",
    "1. Item 1\n",
    "   1. Geordend sub-item 1\n",
    "   2. Geordend sub-item 2\n",
    "      + Ongeordend sub-sub-item 1\n",
    "      + Ongeordend sub-sub-item 2\n",
    "2. Item 2\n",
    "\n",
    "**_Doe-opdracht:_**<br/>\n",
    "Stel een ongeordende lijst met 3 elementen op, waarbij het tweede element een geordende sub-lijst bevat, en het derde element een ongeordende sub-lijst."
   ]
  },
  {
   "cell_type": "markdown",
   "id": "e80c41c3",
   "metadata": {},
   "source": []
  },
  {
   "cell_type": "markdown",
   "id": "1a3b37a5",
   "metadata": {},
   "source": [
    "### Links en afbeeldingen ###\n",
    "Hyperlinks zijn een integraal gegeven in webpagina's maar ook digitale documenten. In deze tutorials worden hyperlinks gebruikt om te verwijzen naar extra bronnen, maar ook om snel naar een specifiek onderdeel in het document te springen. Een hyperlink bestaat uit twee onderdelen: de tekst welke wordt weergegeven tussen ``[ ]`` en het absolute of relatieve pad naar de bron tussen ``( )``.\n",
    "Een link naar een webpagina, zoals de Github pagina waarop deze tutorial zich bevindt wordt gegeven door ``[PythonTutorials](https://github.com/DannyVanpoucke/PythonTutorials/)``, terwijl een relatieve link naar de volgende tutorial gegeven kan worden als ``[Tutorial2](02_PythonProgramParts.ipynb)``. Merk wel op dat deze relatieve link enkel zal werken indien je ofwel colaboratory op github uitvoert (afgeraden), ofwel de tweede notebook tutorial in dezelfde map op je google colaboratory drive hebt gekopieerd. \n",
    "\n",
    "Een link naar een ander onderdeel binnen dit document kan door gebruik te maken van zogenaamde ankers, welke met het ``#``-symbool worden aangegeven. Deze kunnen manueel toegevoegd worden als HTML code (``<a name='ankernaam'> </a>``) of door de hoofding van een sectie te gebruiken (voor deze sectie is de ankernaam ``Links-en-afbeeldingen``). De hyperlink naar deze posities krijgt dan de vorm ``[Link naar ankernaam](#ankernaam)`` of ``[Link naar ankernaam](01_IntroPython#ankernaam)`` in het voorbeeld met de HTML tags, en ``[Link naar deze sectie](#Links-en-afbeeldingen)`` of ``[Link naar deze sectie](01_IntroPython#Links-en-afbeeldingen)``.\n",
    "\n",
    "Het inbedden van een afbeeldingen kan beschouwd worden als een soort hyperlink naar het afbeeldingsbestand. Het is dan niet onverwacht dat de opmaak om een afbeelding toe te voegen vergelijkbaar is met deze van een hyperlink. Echter in dit geval wordt het geheel voorafgegaan door een ``!`` en komt tussen de ``[ ]`` de korte beschrijving (alt text) van de afbeelding.\n",
    "\n",
    "Er kan met een absoluut pad gewerkt worden zoals ``![DFT berekende elektronendichtheid van een HCN molecule](https://github.com/DannyVanpoucke/PythonTutorials/blob/main/images/HCNdensity_DFT.png)\n",
    "``\n",
    "![DFT berekende elektronendichtheid van een HCN molecule](https://github.com/DannyVanpoucke/PythonTutorials/blob/main/images/HCNdensity_DFT.png)\n",
    "\n",
    "of met een relatief pad zoals ``![DFT berekende elektronendichtheid van een HCN molecule](../images/HCNdensity_DFT.png)``\n",
    "![DFT berekende elektronendichtheid van een HCN molecule](../images/HCNdensity_DFT.png)\n",
    "\n",
    "Het al dan niet weergegeven worden van de afbeelding gaat samen met de toegankelijkheid van de afbeelding. Bekijk je dit notebook op [Github]()\n"
   ]
  },
  {
   "cell_type": "code",
   "execution_count": null,
   "id": "76e12935",
   "metadata": {},
   "outputs": [],
   "source": []
  }
 ],
 "metadata": {
  "kernelspec": {
   "display_name": "Python 3 (ipykernel)",
   "language": "python",
   "name": "python3"
  },
  "language_info": {
   "codemirror_mode": {
    "name": "ipython",
    "version": 3
   },
   "file_extension": ".py",
   "mimetype": "text/x-python",
   "name": "python",
   "nbconvert_exporter": "python",
   "pygments_lexer": "ipython3",
   "version": "3.9.13"
  },
  "latex_envs": {
   "LaTeX_envs_menu_present": true,
   "autoclose": false,
   "autocomplete": true,
   "bibliofile": "biblio.bib",
   "cite_by": "apalike",
   "current_citInitial": 1,
   "eqLabelWithNumbers": true,
   "eqNumInitial": 1,
   "hotkeys": {
    "equation": "Ctrl-E",
    "itemize": "Ctrl-I"
   },
   "labels_anchors": false,
   "latex_user_defs": false,
   "report_style_numbering": false,
   "user_envs_cfg": false
  }
 },
 "nbformat": 4,
 "nbformat_minor": 5
}
