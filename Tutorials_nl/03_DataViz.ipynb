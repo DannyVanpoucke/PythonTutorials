{
 "cells": [
  {
   "cell_type": "markdown",
   "id": "99d72545",
   "metadata": {},
   "source": [
    "# Datavisualisatie en analyse in python #\n",
    "Welkom bij deze tutorial reeks over python voor studenten Chemie. \n",
    "\n",
    "In deze reeks tutorials maak je kennis met **python** als tool voor **data-analyse en-visualisatie**. Je leert de *basisconcepten kennen* van deze programmeertaal en doet eerste *praktische ervaring* op. Bij het opstellen van deze tutorials zijn we er van uit gegaan dat je geen praktische voorkennis in python of programmeren in het algemeen hebt. Indien dit toch het geval zou zijn, zullen de eerste notebooks uitermate eenvoudig zijn. Gezien het beperkte tijdsbestek zijn er ook keuzes gemaakt met betrekking tot de onderwerpen welke aan bod komen en hun uitdieping. Wens je meer over een bepaald onderwerp te leren dan zijn er voldoende online bronnen beschikbaar om via zelfstudie de nodige uitdieping te bekomen. \n",
    "\n",
    "Met het oog op het zo laagdrempelig mogelijk houden van deze tutorials, maken we gebruik van __*Jupyter notebooks*__ zoals deze. Het is de bedoeling dat je deze notebooks uitvoert en aanpast waar gevraagd. Dit laatste doe je op je eigen *google drive* waar je de tutorials gebruikt in de vorm van *google colaboratory* documenten. Indien je dit nog niet gedaan hebt, lees dan eerst [00_PythonInstallatie.md](https://github.com/DannyVanpoucke/PythonTutorials/blob/main/Tutorials_nl/00_PythonInstallatie.md), waarbij je **puntje 1.1.** uitvoert.\n",
    "\n",
    "Dit is de derde tutorial in een reeks, en bouwt verder op de reeds opgedane kennis tijdens de [eerste turorial](https://github.com/DannyVanpoucke/PythonTutorials/blob/main/Tutorials_nl/01_IntroPython.ipynb) en [tweede turorial](https://github.com/DannyVanpoucke/PythonTutorials/blob/main/Tutorials_nl/02_PythonProgramParts.ipynb). We raden dan ook aan deze eerdere tutorials te doorlopen voor je aan deze begint.\n",
    "\n",
    "In dit derde notebook verschuift de focus naar datavisualisatie en analyse, en minder over de werking van python zelf. Je leert data importeren, visualiseren en analyseren.\n",
    "\n",
    "## Inhoudstafel ##\n",
    "1. [Data importeren]()<br/>\n",
    "   1.1. [Files op Google Drive]()<br/>\n",
    "   1.2. [Files op het web]()<br/>\n",
    "2. [Datavisualisatie & -analyse]()<br/>\n",
    "   2.1. [Pandas dataframes]()<br/>\n",
    "   2.2. [Seaborn plots]()<br/>\n",
    "   2.3. [Scipy fitting]()<br/>"
   ]
  },
  {
   "cell_type": "markdown",
   "id": "894a55dc",
   "metadata": {},
   "source": [
    "# 1. Data importeren #\n",
    "\n",
    "Voor deze tutorial wordt gebruik gemaakt van de [wijn-dataset](https://archive.ics.uci.edu/ml/datasets/wine+quality). Deze dataset werd opgesteld met het oog op machine-learning, maar is ook handig met het oog op eenvoudige datavisualisatie en-analyse. De dataset bevat zowel informatie over chemische samenstelling als physicochemische eigenschappen, wat vergelijkbaar is met het soorten informatie welke beschikbaar zijn bij synthese processen. De dataset is beschikbaar in twee csv-bestanden: één voor [rode](https://archive.ics.uci.edu/ml/machine-learning-databases/wine-quality/winequality-red.csv) en één voor [witte](https://archive.ics.uci.edu/ml/machine-learning-databases/wine-quality/winequality-white.csv) wijn. Voor praktische doeleinden is er ook een kopie (gedownload op 02/02/2023) van deze bestanden beschikbaar in de data-map van dit GitHub-repo.\n",
    "\n",
    "## 1.1. Files op Google Drive ##"
   ]
  }
 ],
 "metadata": {
  "kernelspec": {
   "display_name": "Python 3 (ipykernel)",
   "language": "python",
   "name": "python3"
  },
  "language_info": {
   "codemirror_mode": {
    "name": "ipython",
    "version": 3
   },
   "file_extension": ".py",
   "mimetype": "text/x-python",
   "name": "python",
   "nbconvert_exporter": "python",
   "pygments_lexer": "ipython3",
   "version": "3.9.13"
  },
  "latex_envs": {
   "LaTeX_envs_menu_present": true,
   "autoclose": false,
   "autocomplete": true,
   "bibliofile": "biblio.bib",
   "cite_by": "apalike",
   "current_citInitial": 1,
   "eqLabelWithNumbers": true,
   "eqNumInitial": 1,
   "hotkeys": {
    "equation": "Ctrl-E",
    "itemize": "Ctrl-I"
   },
   "labels_anchors": false,
   "latex_user_defs": false,
   "report_style_numbering": false,
   "user_envs_cfg": false
  }
 },
 "nbformat": 4,
 "nbformat_minor": 5
}
